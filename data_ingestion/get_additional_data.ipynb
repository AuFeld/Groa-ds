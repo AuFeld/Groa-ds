{
 "cells": [
  {
   "cell_type": "markdown",
   "metadata": {
    "colab_type": "text",
    "id": "yowITDhNzdPf"
   },
   "source": [
    "## Get Additional Data\n",
    "\n",
    "Descriptions:\n",
    "- run a query to get all movies\n",
    "- run function to get TMDB match and store imdb_id and overview \n",
    "- saves results to csv for `update_db.ipynb` to save to DB later \n",
    "\n",
    "Trailers:\n",
    "- run a query to get all movies\n",
    "- run function to get TMDB match and store imdb_id and tmdb_id\n",
    "- run function to get videos from TMDB using tmdb_id\n",
    "- saves results to csv for `update_db.ipynb` to save to DB later \n",
    "\n",
    "Missing Posters:\n",
    "- run query to get movies with missing posters\n",
    "- run function to get TMDB match and store imdb_id and poster_path\n",
    "- saves results to csv for `update_db.ipynb` to save to DB later "
   ]
  },
  {
   "cell_type": "code",
   "execution_count": null,
   "metadata": {
    "colab": {},
    "colab_type": "code",
    "id": "r1HxDu2VGI1M"
   },
   "outputs": [],
   "source": [
    "%%capture\n",
    "!pip install tmdbv3api"
   ]
  },
  {
   "cell_type": "code",
   "execution_count": 6,
   "metadata": {
    "colab": {
     "base_uri": "https://localhost:8080/",
     "height": 124
    },
    "colab_type": "code",
    "executionInfo": {
     "elapsed": 6347,
     "status": "ok",
     "timestamp": 1586620596088,
     "user": {
      "displayName": "Ben de Vera",
      "photoUrl": "https://lh3.googleusercontent.com/a-/AOh14Gi8L62-P31PJT-AuCz6byZGPhqIn4oIQ_Jy5bw9=s64",
      "userId": "02830271359296331790"
     },
     "user_tz": 360
    },
    "id": "HsoX8wwh6kdx",
    "outputId": "8ad3091e-03a6-46c3-caff-01b032708b5c"
   },
   "outputs": [],
   "source": [
    "# imports \n",
    "from tmdbv3api import Movie, TMDb\n",
    "import requests \n",
    "import json\n",
    "import psycopg2\n",
    "from multiprocessing import Pool\n",
    "from tqdm._tqdm_notebook import tqdm_notebook\n",
    "import time\n",
    "import pandas as pd \n",
    "import os\n",
    "from dotenv import load_dotenv"
   ]
  },
  {
   "cell_type": "code",
   "execution_count": 11,
   "metadata": {},
   "outputs": [
    {
     "output_type": "execute_result",
     "data": {
      "text/plain": "True"
     },
     "metadata": {},
     "execution_count": 11
    }
   ],
   "source": [
    "# load .env file for keys\n",
    "load_dotenv()"
   ]
  },
  {
   "cell_type": "code",
   "execution_count": 9,
   "metadata": {
    "colab": {},
    "colab_type": "code",
    "id": "CFVr0aKi6qD-"
   },
   "outputs": [],
   "source": [
    "# declare movie client\n",
    "movie_client = Movie()\n",
    "tmdb_api_key = os.getenv('tmdb_key')\n",
    "Movie.API_KEY = tmdb_api_key\n",
    "tmdb = TMDb()\n",
    "tmdb.api_key = os.getenv('tmdb_key')"
   ]
  },
  {
   "cell_type": "code",
   "execution_count": 12,
   "metadata": {
    "colab": {},
    "colab_type": "code",
    "id": "JjneXsaG7LKG"
   },
   "outputs": [],
   "source": [
    "# create connection to prod DB\n",
    "connection = psycopg2.connect(\n",
    "                            user=os.getenv('db_user'),\n",
    "                            password=os.getenv('db_password'),\n",
    "                            host=os.getenv('db_host'),\n",
    "                            port=\"5432\",\n",
    "                            database=os.getenv('db_user')\n",
    "                            )"
   ]
  },
  {
   "cell_type": "code",
   "execution_count": 13,
   "metadata": {
    "colab": {},
    "colab_type": "code",
    "id": "9H3XK4J3hIiA"
   },
   "outputs": [],
   "source": [
    "# get all movies with missing posters\n",
    "cursor = connection.cursor()\n",
    "postgreSQL_select_Query = \"SELECT movie_id, primary_title FROM imdb_movies where poster_url not like '/%';\"\n",
    "cursor.execute(postgreSQL_select_Query)\n",
    "missing_posters = cursor.fetchall()"
   ]
  },
  {
   "cell_type": "code",
   "execution_count": 14,
   "metadata": {
    "colab": {},
    "colab_type": "code",
    "id": "tYfxbxprhN3X"
   },
   "outputs": [],
   "source": [
    "# get all movies\n",
    "cursor = connection.cursor()\n",
    "postgreSQL_select_Query = \"SELECT movie_id, primary_title FROM imdb_movies;\"\n",
    "cursor.execute(postgreSQL_select_Query)\n",
    "all_movies = cursor.fetchall()"
   ]
  },
  {
   "cell_type": "code",
   "execution_count": 15,
   "metadata": {
    "colab": {
     "base_uri": "https://localhost:8080/",
     "height": 34
    },
    "colab_type": "code",
    "executionInfo": {
     "elapsed": 12123,
     "status": "ok",
     "timestamp": 1586620601915,
     "user": {
      "displayName": "Ben de Vera",
      "photoUrl": "https://lh3.googleusercontent.com/a-/AOh14Gi8L62-P31PJT-AuCz6byZGPhqIn4oIQ_Jy5bw9=s64",
      "userId": "02830271359296331790"
     },
     "user_tz": 360
    },
    "id": "jCYDnwNxzi_R",
    "outputId": "d221fc13-37f5-4dce-913b-c4486ccacdd9"
   },
   "outputs": [
    {
     "output_type": "execute_result",
     "data": {
      "text/plain": "(301967, 60255)"
     },
     "metadata": {},
     "execution_count": 15
    }
   ],
   "source": [
    "# how many do we have of each?\n",
    "len(all_movies), len(missing_posters)"
   ]
  },
  {
   "cell_type": "markdown",
   "metadata": {
    "colab_type": "text",
    "id": "NGI0uv2u0-DR"
   },
   "source": [
    "## Find missing posters using TMDB"
   ]
  },
  {
   "cell_type": "code",
   "execution_count": 7,
   "metadata": {
    "colab": {
     "base_uri": "https://localhost:8080/",
     "height": 66,
     "referenced_widgets": [
      "fa1fc9c16dcf4873b112c007dd04ff34",
      "8689becb3d734968ad42a92261b4f370",
      "67bbc6ae9a6143b58e9e089949d14a33",
      "73b6042a8f124438b1c4ace0f30a2fb5",
      "47e30056673f4ad3a40ed4a19490c5bb",
      "640aea65860c4ffb892c45cdfa2079a5",
      "88011ef3ba894c7a84cf6ed92507e3e6",
      "8e67661dd7b7488ca83c52a1d8400a52"
     ]
    },
    "colab_type": "code",
    "executionInfo": {
     "elapsed": 1958000,
     "status": "ok",
     "timestamp": 1586549155675,
     "user": {
      "displayName": "Ben de Vera",
      "photoUrl": "https://lh3.googleusercontent.com/a-/AOh14Gi8L62-P31PJT-AuCz6byZGPhqIn4oIQ_Jy5bw9=s64",
      "userId": "02830271359296331790"
     },
     "user_tz": 360
    },
    "id": "K6fGi3GDkD5U",
    "outputId": "952067f1-425c-4a8f-a27f-4e881a6ef0de"
   },
   "outputs": [
    {
     "data": {
      "application/vnd.jupyter.widget-view+json": {
       "model_id": "4e40608157684618b7a7e19943916ca6",
       "version_major": 2,
       "version_minor": 0
      },
      "text/plain": [
       "HBox(children=(IntProgress(value=0, max=60255), HTML(value='')))"
      ]
     },
     "metadata": {},
     "output_type": "display_data"
    },
    {
     "name": "stdout",
     "output_type": "stream",
     "text": [
      "\n"
     ]
    }
   ],
   "source": [
    "# get tmdb match to be able to check for posters\n",
    "def get_poster(movie):\n",
    "    movie_id, title = movie\n",
    "    url = f'https://api.themoviedb.org/3/find/tt{movie_id}?api_key={tmdb_api_key}&external_source=imdb_id'\n",
    "    response = requests.get(url)\n",
    "    data = json.loads(response.text)\n",
    "    if len(data['movie_results']) > 0:\n",
    "        result = data['movie_results'][0]\n",
    "        return {\n",
    "            \"movie_id\": movie_id,\n",
    "            \"tmdb_id\": result['id'],\n",
    "            \"poster_path\": result['poster_path']\n",
    "        }\n",
    "    return None\n",
    "\n",
    "\n",
    "with Pool(5) as p:\n",
    "     posters = list(tqdm_notebook(\n",
    "        p.imap(get_poster, missing_posters), \n",
    "        total=len(missing_posters)\n",
    "        ))"
   ]
  },
  {
   "cell_type": "code",
   "execution_count": 8,
   "metadata": {
    "colab": {
     "base_uri": "https://localhost:8080/",
     "height": 52
    },
    "colab_type": "code",
    "executionInfo": {
     "elapsed": 425,
     "status": "ok",
     "timestamp": 1586549632763,
     "user": {
      "displayName": "Ben de Vera",
      "photoUrl": "https://lh3.googleusercontent.com/a-/AOh14Gi8L62-P31PJT-AuCz6byZGPhqIn4oIQ_Jy5bw9=s64",
      "userId": "02830271359296331790"
     },
     "user_tz": 360
    },
    "id": "qh7yS4MJgYs0",
    "outputId": "24cc2530-fe48-4289-f337-03b599c056f5"
   },
   "outputs": [
    {
     "name": "stdout",
     "output_type": "stream",
     "text": [
      "60255 60252 3\n"
     ]
    },
    {
     "data": {
      "text/plain": [
       "4881"
      ]
     },
     "execution_count": 8,
     "metadata": {},
     "output_type": "execute_result"
    }
   ],
   "source": [
    "# check success rate of get_poster\n",
    "matches = 0\n",
    "poster_counter = 0\n",
    "movie_ids = []\n",
    "tmdb_ids = []\n",
    "poster_paths = []\n",
    "\n",
    "for result in posters:\n",
    "    if result is not None: \n",
    "        matches += 1\n",
    "        if result['poster_path'] is not None:\n",
    "            poster_counter += 1\n",
    "        movie_ids.append(result['movie_id'])\n",
    "        tmdb_ids.append(result['tmdb_id'])\n",
    "        poster_paths.append(result['poster_path'])\n",
    "\n",
    "print(len(posters), matches, len(posters)-matches)\n",
    "poster_counter"
   ]
  },
  {
   "cell_type": "code",
   "execution_count": 9,
   "metadata": {},
   "outputs": [
    {
     "name": "stdout",
     "output_type": "stream",
     "text": [
      "(60252, 3)\n"
     ]
    },
    {
     "data": {
      "text/html": [
       "<div>\n",
       "<style scoped>\n",
       "    .dataframe tbody tr th:only-of-type {\n",
       "        vertical-align: middle;\n",
       "    }\n",
       "\n",
       "    .dataframe tbody tr th {\n",
       "        vertical-align: top;\n",
       "    }\n",
       "\n",
       "    .dataframe thead th {\n",
       "        text-align: right;\n",
       "    }\n",
       "</style>\n",
       "<table border=\"1\" class=\"dataframe\">\n",
       "  <thead>\n",
       "    <tr style=\"text-align: right;\">\n",
       "      <th></th>\n",
       "      <th>movie_id</th>\n",
       "      <th>tmdb_id</th>\n",
       "      <th>poster_path</th>\n",
       "    </tr>\n",
       "  </thead>\n",
       "  <tbody>\n",
       "    <tr>\n",
       "      <td>0</td>\n",
       "      <td>1051231</td>\n",
       "      <td>31223</td>\n",
       "      <td>None</td>\n",
       "    </tr>\n",
       "    <tr>\n",
       "      <td>1</td>\n",
       "      <td>1051704</td>\n",
       "      <td>636806</td>\n",
       "      <td>None</td>\n",
       "    </tr>\n",
       "    <tr>\n",
       "      <td>2</td>\n",
       "      <td>1051245</td>\n",
       "      <td>120528</td>\n",
       "      <td>None</td>\n",
       "    </tr>\n",
       "    <tr>\n",
       "      <td>3</td>\n",
       "      <td>1051226</td>\n",
       "      <td>41255</td>\n",
       "      <td>/85PnTI5NknwbOabekq30kqisMPX.jpg</td>\n",
       "    </tr>\n",
       "    <tr>\n",
       "      <td>4</td>\n",
       "      <td>1051834</td>\n",
       "      <td>533781</td>\n",
       "      <td>None</td>\n",
       "    </tr>\n",
       "  </tbody>\n",
       "</table>\n",
       "</div>"
      ],
      "text/plain": [
       "  movie_id  tmdb_id                       poster_path\n",
       "0  1051231    31223                              None\n",
       "1  1051704   636806                              None\n",
       "2  1051245   120528                              None\n",
       "3  1051226    41255  /85PnTI5NknwbOabekq30kqisMPX.jpg\n",
       "4  1051834   533781                              None"
      ]
     },
     "execution_count": 9,
     "metadata": {},
     "output_type": "execute_result"
    }
   ],
   "source": [
    "# make df from poster data\n",
    "poster_df = pd.DataFrame({\n",
    "    \"movie_id\": movie_ids,\n",
    "    \"tmdb_id\": tmdb_ids,\n",
    "    \"poster_path\": poster_paths\n",
    "})\n",
    "print(poster_df.shape)\n",
    "poster_df.head()"
   ]
  },
  {
   "cell_type": "code",
   "execution_count": 10,
   "metadata": {},
   "outputs": [],
   "source": [
    "# save poster df to csv\n",
    "poster_df.to_csv('poster_data.csv', index=False)"
   ]
  },
  {
   "cell_type": "code",
   "execution_count": 11,
   "metadata": {},
   "outputs": [
    {
     "data": {
      "text/html": [
       "<div>\n",
       "<style scoped>\n",
       "    .dataframe tbody tr th:only-of-type {\n",
       "        vertical-align: middle;\n",
       "    }\n",
       "\n",
       "    .dataframe tbody tr th {\n",
       "        vertical-align: top;\n",
       "    }\n",
       "\n",
       "    .dataframe thead th {\n",
       "        text-align: right;\n",
       "    }\n",
       "</style>\n",
       "<table border=\"1\" class=\"dataframe\">\n",
       "  <thead>\n",
       "    <tr style=\"text-align: right;\">\n",
       "      <th></th>\n",
       "      <th>movie_id</th>\n",
       "      <th>tmdb_id</th>\n",
       "      <th>poster_path</th>\n",
       "    </tr>\n",
       "  </thead>\n",
       "  <tbody>\n",
       "    <tr>\n",
       "      <td>0</td>\n",
       "      <td>1051231</td>\n",
       "      <td>31223</td>\n",
       "      <td>NaN</td>\n",
       "    </tr>\n",
       "    <tr>\n",
       "      <td>1</td>\n",
       "      <td>1051704</td>\n",
       "      <td>636806</td>\n",
       "      <td>NaN</td>\n",
       "    </tr>\n",
       "    <tr>\n",
       "      <td>2</td>\n",
       "      <td>1051245</td>\n",
       "      <td>120528</td>\n",
       "      <td>NaN</td>\n",
       "    </tr>\n",
       "    <tr>\n",
       "      <td>3</td>\n",
       "      <td>1051226</td>\n",
       "      <td>41255</td>\n",
       "      <td>/85PnTI5NknwbOabekq30kqisMPX.jpg</td>\n",
       "    </tr>\n",
       "    <tr>\n",
       "      <td>4</td>\n",
       "      <td>1051834</td>\n",
       "      <td>533781</td>\n",
       "      <td>NaN</td>\n",
       "    </tr>\n",
       "  </tbody>\n",
       "</table>\n",
       "</div>"
      ],
      "text/plain": [
       "   movie_id  tmdb_id                       poster_path\n",
       "0   1051231    31223                               NaN\n",
       "1   1051704   636806                               NaN\n",
       "2   1051245   120528                               NaN\n",
       "3   1051226    41255  /85PnTI5NknwbOabekq30kqisMPX.jpg\n",
       "4   1051834   533781                               NaN"
      ]
     },
     "execution_count": 11,
     "metadata": {},
     "output_type": "execute_result"
    }
   ],
   "source": [
    "# ensuring save worked correctly\n",
    "poster_df = pd.read_csv('poster_data.csv')\n",
    "poster_df.head()"
   ]
  },
  {
   "cell_type": "code",
   "execution_count": null,
   "metadata": {
    "colab": {},
    "colab_type": "code",
    "id": "zWBnFe-T4Tgz"
   },
   "outputs": [],
   "source": [
    "# run update queries for posters\n",
    "for update in r:\n",
    "    query = f\"UPDATE imdb_movies SET poster_url = '{update['poster_path']}' WHERE movie_id = {update['movie_id']};\"\n",
    "  # run query\n",
    "# commit db"
   ]
  },
  {
   "cell_type": "markdown",
   "metadata": {
    "colab_type": "text",
    "id": "enYP8xnn1spA"
   },
   "source": [
    "## Get all descriptions"
   ]
  },
  {
   "cell_type": "code",
   "execution_count": 7,
   "metadata": {
    "colab": {
     "base_uri": "https://localhost:8080/",
     "height": 49,
     "referenced_widgets": [
      "fe4963a131484ec182d70b4a661e34d3",
      "1e54226389d840459bdf98e716f1ab50",
      "9e09b7bd24ad494fa3f19f2fa8d87fa9",
      "213c801b5fcf441085dd2051773f7e2e",
      "8f6b0329d8564760b6904ee9a0eb97fc",
      "676c4cfaff9542ebbcb56090a50777db",
      "ee7c977004b0402c9c4a12285740ffae",
      "a1e3e2361cf24d07bc31e2e65059929f"
     ]
    },
    "colab_type": "code",
    "id": "LFHwW8vk1ys-",
    "outputId": "a2dcadc5-356b-49e3-bb3c-007846327af6"
   },
   "outputs": [
    {
     "data": {
      "application/vnd.jupyter.widget-view+json": {
       "model_id": "61f556c227bb436f9892c2396cccc86d",
       "version_major": 2,
       "version_minor": 0
      },
      "text/plain": [
       "HBox(children=(IntProgress(value=0, max=301967), HTML(value='')))"
      ]
     },
     "metadata": {},
     "output_type": "display_data"
    },
    {
     "name": "stdout",
     "output_type": "stream",
     "text": [
      "\n"
     ]
    }
   ],
   "source": [
    "# get tmdb match to retrieve descriptions\n",
    "def get_description(movie):\n",
    "    movie_id, title = movie\n",
    "    url = f'https://api.themoviedb.org/3/find/tt{movie_id}?api_key={tmdb_api_key}&external_source=imdb_id'\n",
    "    response = requests.get(url)\n",
    "    data = json.loads(response.text)\n",
    "    if len(data['movie_results']) > 0:\n",
    "        result = data['movie_results'][0]\n",
    "        return {\n",
    "            \"movie_id\": movie_id,\n",
    "            \"tmdb_id\": result['id'],\n",
    "            \"description\": result['overview']\n",
    "        }\n",
    "    return None\n",
    "\n",
    "\n",
    "with Pool(10) as p:\n",
    "    descs = list(tqdm_notebook(\n",
    "        p.imap(get_description, all_movies), \n",
    "        total=len(all_movies)\n",
    "        ))"
   ]
  },
  {
   "cell_type": "code",
   "execution_count": 11,
   "metadata": {
    "colab": {},
    "colab_type": "code",
    "id": "UC_5o3Tp9maY"
   },
   "outputs": [
    {
     "data": {
      "text/html": [
       "<div>\n",
       "<style scoped>\n",
       "    .dataframe tbody tr th:only-of-type {\n",
       "        vertical-align: middle;\n",
       "    }\n",
       "\n",
       "    .dataframe tbody tr th {\n",
       "        vertical-align: top;\n",
       "    }\n",
       "\n",
       "    .dataframe thead th {\n",
       "        text-align: right;\n",
       "    }\n",
       "</style>\n",
       "<table border=\"1\" class=\"dataframe\">\n",
       "  <thead>\n",
       "    <tr style=\"text-align: right;\">\n",
       "      <th></th>\n",
       "      <th>movie_id</th>\n",
       "      <th>tmdb_id</th>\n",
       "      <th>description</th>\n",
       "    </tr>\n",
       "  </thead>\n",
       "  <tbody>\n",
       "    <tr>\n",
       "      <td>0</td>\n",
       "      <td>1051231</td>\n",
       "      <td>31223</td>\n",
       "      <td>In the Hands of the Gods is the true story of ...</td>\n",
       "    </tr>\n",
       "    <tr>\n",
       "      <td>1</td>\n",
       "      <td>1051244</td>\n",
       "      <td>573815</td>\n",
       "      <td>A group of talented youth exploited by the hea...</td>\n",
       "    </tr>\n",
       "    <tr>\n",
       "      <td>2</td>\n",
       "      <td>10513474</td>\n",
       "      <td>639651</td>\n",
       "      <td>A unique chance to explore Pier Paolo Pasolini...</td>\n",
       "    </tr>\n",
       "    <tr>\n",
       "      <td>3</td>\n",
       "      <td>10515086</td>\n",
       "      <td>599672</td>\n",
       "      <td>A meeting with a new inmate in the psychiatric...</td>\n",
       "    </tr>\n",
       "    <tr>\n",
       "      <td>4</td>\n",
       "      <td>10515340</td>\n",
       "      <td>531678</td>\n",
       "      <td>A strange disease is plaguing the city. Hoping...</td>\n",
       "    </tr>\n",
       "  </tbody>\n",
       "</table>\n",
       "</div>"
      ],
      "text/plain": [
       "   movie_id  tmdb_id                                        description\n",
       "0   1051231    31223  In the Hands of the Gods is the true story of ...\n",
       "1   1051244   573815  A group of talented youth exploited by the hea...\n",
       "2  10513474   639651  A unique chance to explore Pier Paolo Pasolini...\n",
       "3  10515086   599672  A meeting with a new inmate in the psychiatric...\n",
       "4  10515340   531678  A strange disease is plaguing the city. Hoping..."
      ]
     },
     "execution_count": 11,
     "metadata": {},
     "output_type": "execute_result"
    }
   ],
   "source": [
    "# create df from results\n",
    "movie_ids = []\n",
    "tmdb_ids = []\n",
    "descs_list = []\n",
    "\n",
    "for elem in descs:\n",
    "    if elem is not None:\n",
    "        movie_ids.append(elem['movie_id'])\n",
    "        tmdb_ids.append(elem['tmdb_id'])\n",
    "        descs_list.append(elem['description'])\n",
    "\n",
    "description_result = pd.DataFrame({\n",
    "    \"movie_id\": movie_ids,\n",
    "    \"tmdb_id\": tmdb_ids,\n",
    "    \"description\": descs_list\n",
    "})\n",
    "print(description_result.shape)\n",
    "description_result.head()"
   ]
  },
  {
   "cell_type": "code",
   "execution_count": 12,
   "metadata": {},
   "outputs": [],
   "source": [
    "# save results to csv\n",
    "description_result.to_csv('description_results.csv', index=False)"
   ]
  },
  {
   "cell_type": "code",
   "execution_count": 15,
   "metadata": {},
   "outputs": [
    {
     "data": {
      "text/html": [
       "<div>\n",
       "<style scoped>\n",
       "    .dataframe tbody tr th:only-of-type {\n",
       "        vertical-align: middle;\n",
       "    }\n",
       "\n",
       "    .dataframe tbody tr th {\n",
       "        vertical-align: top;\n",
       "    }\n",
       "\n",
       "    .dataframe thead th {\n",
       "        text-align: right;\n",
       "    }\n",
       "</style>\n",
       "<table border=\"1\" class=\"dataframe\">\n",
       "  <thead>\n",
       "    <tr style=\"text-align: right;\">\n",
       "      <th></th>\n",
       "      <th>movie_id</th>\n",
       "      <th>tmdb_id</th>\n",
       "      <th>description</th>\n",
       "    </tr>\n",
       "  </thead>\n",
       "  <tbody>\n",
       "    <tr>\n",
       "      <td>0</td>\n",
       "      <td>1051231</td>\n",
       "      <td>31223.0</td>\n",
       "      <td>In the Hands of the Gods is the true story of ...</td>\n",
       "    </tr>\n",
       "    <tr>\n",
       "      <td>1</td>\n",
       "      <td>1051244</td>\n",
       "      <td>573815.0</td>\n",
       "      <td>A group of talented youth exploited by the hea...</td>\n",
       "    </tr>\n",
       "    <tr>\n",
       "      <td>2</td>\n",
       "      <td>10513474</td>\n",
       "      <td>639651.0</td>\n",
       "      <td>A unique chance to explore Pier Paolo Pasolini...</td>\n",
       "    </tr>\n",
       "    <tr>\n",
       "      <td>3</td>\n",
       "      <td>10515086</td>\n",
       "      <td>599672.0</td>\n",
       "      <td>A meeting with a new inmate in the psychiatric...</td>\n",
       "    </tr>\n",
       "    <tr>\n",
       "      <td>4</td>\n",
       "      <td>10515340</td>\n",
       "      <td>531678.0</td>\n",
       "      <td>A strange disease is plaguing the city. Hoping...</td>\n",
       "    </tr>\n",
       "  </tbody>\n",
       "</table>\n",
       "</div>"
      ],
      "text/plain": [
       "   movie_id   tmdb_id                                        description\n",
       "0   1051231   31223.0  In the Hands of the Gods is the true story of ...\n",
       "1   1051244  573815.0  A group of talented youth exploited by the hea...\n",
       "2  10513474  639651.0  A unique chance to explore Pier Paolo Pasolini...\n",
       "3  10515086  599672.0  A meeting with a new inmate in the psychiatric...\n",
       "4  10515340  531678.0  A strange disease is plaguing the city. Hoping..."
      ]
     },
     "execution_count": 15,
     "metadata": {},
     "output_type": "execute_result"
    }
   ],
   "source": [
    "description_result = pd.read_csv('description_results.csv', engine='python')\n",
    "description_result.head()"
   ]
  },
  {
   "cell_type": "code",
   "execution_count": null,
   "metadata": {
    "colab": {},
    "colab_type": "code",
    "id": "BUqVI77V4AOn"
   },
   "outputs": [],
   "source": [
    "# run update queries for descrptions\n",
    "for update in descs:\n",
    "    query = f\"UPDATE imdb_movies SET description = '{update['description']}' WHERE movie_id = {update['movie_id']};\"\n",
    "  # run query\n",
    "# commit db"
   ]
  },
  {
   "cell_type": "markdown",
   "metadata": {
    "colab_type": "text",
    "id": "lzke4gTO2Qi7"
   },
   "source": [
    "## Get trailers"
   ]
  },
  {
   "cell_type": "code",
   "execution_count": 21,
   "metadata": {
    "colab": {},
    "colab_type": "code",
    "id": "8Gl32j3U8tKN"
   },
   "outputs": [
    {
     "data": {
      "text/plain": [
       "(201278, 201278, ('1051231', 31223))"
      ]
     },
     "execution_count": 21,
     "metadata": {},
     "output_type": "execute_result"
    }
   ],
   "source": [
    "# prep desc results for get_trailers\n",
    "# both_ids = []\n",
    "# for elem in descs:\n",
    "#   curr = (elem['movie_id'], elem['tmdb_id'])\n",
    "#   both_ids.append(curr)\n",
    "\n",
    "# len(descs), len(both_ids)\n",
    "def get_id_tuple(row):\n",
    "    return (row['movie_id'], int(row['tmdb_id']))\n",
    "\n",
    "# prep description_result for trailers\n",
    "description_result = description_result.dropna(subset=['tmdb_id'])\n",
    "both_ids = list(description_result.apply(get_id_tuple, axis=1))\n",
    "\n",
    "description_result.shape[0], len(both_ids), both_ids[0]"
   ]
  },
  {
   "cell_type": "code",
   "execution_count": 19,
   "metadata": {},
   "outputs": [
    {
     "data": {
      "text/plain": [
       "movie_id           0\n",
       "tmdb_id           74\n",
       "description    27476\n",
       "dtype: int64"
      ]
     },
     "execution_count": 19,
     "metadata": {},
     "output_type": "execute_result"
    }
   ],
   "source": [
    "description_result.isnull().sum()"
   ]
  },
  {
   "cell_type": "code",
   "execution_count": 56,
   "metadata": {},
   "outputs": [],
   "source": [
    "# get trailers from tmdb match\n",
    "def get_trailer(movie):\n",
    "    imdb_id, tmdb_id = movie\n",
    "    # check for videos\n",
    "    try:\n",
    "    \n",
    "        video_results = movie_client.videos(tmdb_id)\n",
    "        if len(video_results) > 0:\n",
    "            return {\n",
    "                \"movie_id\": imdb_id,\n",
    "                \"video_key\": video_results[0].key,\n",
    "                \"video_site\": video_results[0].site,\n",
    "                \"more_than_one\": len(video_results) > 1\n",
    "            }\n",
    "        else:\n",
    "            return None\n",
    "    except:\n",
    "        return None"
   ]
  },
  {
   "cell_type": "code",
   "execution_count": 57,
   "metadata": {},
   "outputs": [
    {
     "name": "stdout",
     "output_type": "stream",
     "text": [
      "{'movie_id': '10515460', 'video_key': 'HQksgesFrFY', 'video_site': 'YouTube', 'more_than_one': False}\n"
     ]
    }
   ],
   "source": [
    "print(get_trailer(both_ids[5]))"
   ]
  },
  {
   "cell_type": "code",
   "execution_count": 58,
   "metadata": {
    "colab": {},
    "colab_type": "code",
    "id": "haa8HnTPUd_2"
   },
   "outputs": [
    {
     "data": {
      "application/vnd.jupyter.widget-view+json": {
       "model_id": "f1f5970b976746dcb11937d54b8390e3",
       "version_major": 2,
       "version_minor": 0
      },
      "text/plain": [
       "HBox(children=(IntProgress(value=0, max=201278), HTML(value='')))"
      ]
     },
     "metadata": {},
     "output_type": "display_data"
    },
    {
     "name": "stdout",
     "output_type": "stream",
     "text": [
      "\n"
     ]
    }
   ],
   "source": [
    "# run on all ids\n",
    "with Pool(5) as p:\n",
    "    trailers = list(tqdm_notebook(\n",
    "        p.imap(get_trailer, both_ids), \n",
    "        total=len(both_ids)\n",
    "        ))"
   ]
  },
  {
   "cell_type": "code",
   "execution_count": 60,
   "metadata": {},
   "outputs": [
    {
     "data": {
      "text/plain": [
       "(201278, 50793)"
      ]
     },
     "execution_count": 60,
     "metadata": {},
     "output_type": "execute_result"
    }
   ],
   "source": [
    "# check success rate of get_trailers and prep data for DF\n",
    "\n",
    "trailer_count = 0\n",
    "movie_ids = []\n",
    "video_keys = []\n",
    "video_sites = []\n",
    "more_than_ones = []\n",
    "\n",
    "for elem in trailers:\n",
    "    if elem is not None:\n",
    "        trailer_count += 1\n",
    "        movie_ids.append(elem['movie_id'])\n",
    "        video_keys.append(elem['video_key'])\n",
    "        video_sites.append(elem['video_site'])\n",
    "        more_than_ones.append(elem['more_than_one'])\n",
    "\n",
    "len(trailers), trailer_count"
   ]
  },
  {
   "cell_type": "code",
   "execution_count": 61,
   "metadata": {},
   "outputs": [
    {
     "data": {
      "text/html": [
       "<div>\n",
       "<style scoped>\n",
       "    .dataframe tbody tr th:only-of-type {\n",
       "        vertical-align: middle;\n",
       "    }\n",
       "\n",
       "    .dataframe tbody tr th {\n",
       "        vertical-align: top;\n",
       "    }\n",
       "\n",
       "    .dataframe thead th {\n",
       "        text-align: right;\n",
       "    }\n",
       "</style>\n",
       "<table border=\"1\" class=\"dataframe\">\n",
       "  <thead>\n",
       "    <tr style=\"text-align: right;\">\n",
       "      <th></th>\n",
       "      <th>movie_id</th>\n",
       "      <th>video_key</th>\n",
       "      <th>video_site</th>\n",
       "      <th>more_than_one</th>\n",
       "    </tr>\n",
       "  </thead>\n",
       "  <tbody>\n",
       "    <tr>\n",
       "      <td>0</td>\n",
       "      <td>1051244</td>\n",
       "      <td>ztSS7hnEviY</td>\n",
       "      <td>YouTube</td>\n",
       "      <td>False</td>\n",
       "    </tr>\n",
       "    <tr>\n",
       "      <td>1</td>\n",
       "      <td>10515086</td>\n",
       "      <td>WA2NvFSHchk</td>\n",
       "      <td>YouTube</td>\n",
       "      <td>False</td>\n",
       "    </tr>\n",
       "    <tr>\n",
       "      <td>2</td>\n",
       "      <td>10515460</td>\n",
       "      <td>HQksgesFrFY</td>\n",
       "      <td>YouTube</td>\n",
       "      <td>False</td>\n",
       "    </tr>\n",
       "    <tr>\n",
       "      <td>3</td>\n",
       "      <td>10515480</td>\n",
       "      <td>QBNKpcUOWgI</td>\n",
       "      <td>YouTube</td>\n",
       "      <td>False</td>\n",
       "    </tr>\n",
       "    <tr>\n",
       "      <td>4</td>\n",
       "      <td>1051232</td>\n",
       "      <td>k9SdzYiyG14</td>\n",
       "      <td>YouTube</td>\n",
       "      <td>False</td>\n",
       "    </tr>\n",
       "  </tbody>\n",
       "</table>\n",
       "</div>"
      ],
      "text/plain": [
       "   movie_id    video_key video_site  more_than_one\n",
       "0   1051244  ztSS7hnEviY    YouTube          False\n",
       "1  10515086  WA2NvFSHchk    YouTube          False\n",
       "2  10515460  HQksgesFrFY    YouTube          False\n",
       "3  10515480  QBNKpcUOWgI    YouTube          False\n",
       "4   1051232  k9SdzYiyG14    YouTube          False"
      ]
     },
     "execution_count": 61,
     "metadata": {},
     "output_type": "execute_result"
    }
   ],
   "source": [
    "# save trailer results in df\n",
    "trailer_df = pd.DataFrame({\n",
    "    \"movie_id\": movie_ids,\n",
    "    \"video_key\": video_keys,\n",
    "    \"video_site\": video_sites,\n",
    "    \"more_than_one\": more_than_ones\n",
    "})\n",
    "trailer_df.head()"
   ]
  },
  {
   "cell_type": "code",
   "execution_count": 62,
   "metadata": {},
   "outputs": [
    {
     "data": {
      "text/plain": [
       "False    43481\n",
       "True      7312\n",
       "Name: more_than_one, dtype: int64"
      ]
     },
     "execution_count": 62,
     "metadata": {},
     "output_type": "execute_result"
    }
   ],
   "source": [
    "# check if any have more than one\n",
    "trailer_df['more_than_one'].value_counts()"
   ]
  },
  {
   "cell_type": "code",
   "execution_count": 63,
   "metadata": {},
   "outputs": [
    {
     "data": {
      "text/plain": [
       "YouTube    50205\n",
       "Vimeo        588\n",
       "Name: video_site, dtype: int64"
      ]
     },
     "execution_count": 63,
     "metadata": {},
     "output_type": "execute_result"
    }
   ],
   "source": [
    "# check what sites are used\n",
    "trailer_df['video_site'].value_counts()"
   ]
  },
  {
   "cell_type": "code",
   "execution_count": 64,
   "metadata": {},
   "outputs": [],
   "source": [
    "# save df as csv\n",
    "trailer_df.to_csv('trailer_data.csv', index=False)"
   ]
  },
  {
   "cell_type": "code",
   "execution_count": 65,
   "metadata": {},
   "outputs": [
    {
     "data": {
      "text/html": [
       "<div>\n",
       "<style scoped>\n",
       "    .dataframe tbody tr th:only-of-type {\n",
       "        vertical-align: middle;\n",
       "    }\n",
       "\n",
       "    .dataframe tbody tr th {\n",
       "        vertical-align: top;\n",
       "    }\n",
       "\n",
       "    .dataframe thead th {\n",
       "        text-align: right;\n",
       "    }\n",
       "</style>\n",
       "<table border=\"1\" class=\"dataframe\">\n",
       "  <thead>\n",
       "    <tr style=\"text-align: right;\">\n",
       "      <th></th>\n",
       "      <th>movie_id</th>\n",
       "      <th>video_key</th>\n",
       "      <th>video_site</th>\n",
       "      <th>more_than_one</th>\n",
       "    </tr>\n",
       "  </thead>\n",
       "  <tbody>\n",
       "    <tr>\n",
       "      <td>0</td>\n",
       "      <td>1051244</td>\n",
       "      <td>ztSS7hnEviY</td>\n",
       "      <td>YouTube</td>\n",
       "      <td>False</td>\n",
       "    </tr>\n",
       "    <tr>\n",
       "      <td>1</td>\n",
       "      <td>10515086</td>\n",
       "      <td>WA2NvFSHchk</td>\n",
       "      <td>YouTube</td>\n",
       "      <td>False</td>\n",
       "    </tr>\n",
       "    <tr>\n",
       "      <td>2</td>\n",
       "      <td>10515460</td>\n",
       "      <td>HQksgesFrFY</td>\n",
       "      <td>YouTube</td>\n",
       "      <td>False</td>\n",
       "    </tr>\n",
       "    <tr>\n",
       "      <td>3</td>\n",
       "      <td>10515480</td>\n",
       "      <td>QBNKpcUOWgI</td>\n",
       "      <td>YouTube</td>\n",
       "      <td>False</td>\n",
       "    </tr>\n",
       "    <tr>\n",
       "      <td>4</td>\n",
       "      <td>1051232</td>\n",
       "      <td>k9SdzYiyG14</td>\n",
       "      <td>YouTube</td>\n",
       "      <td>False</td>\n",
       "    </tr>\n",
       "  </tbody>\n",
       "</table>\n",
       "</div>"
      ],
      "text/plain": [
       "   movie_id    video_key video_site  more_than_one\n",
       "0   1051244  ztSS7hnEviY    YouTube          False\n",
       "1  10515086  WA2NvFSHchk    YouTube          False\n",
       "2  10515460  HQksgesFrFY    YouTube          False\n",
       "3  10515480  QBNKpcUOWgI    YouTube          False\n",
       "4   1051232  k9SdzYiyG14    YouTube          False"
      ]
     },
     "execution_count": 65,
     "metadata": {},
     "output_type": "execute_result"
    }
   ],
   "source": [
    "# ensure save was successful\n",
    "trailer_df = pd.read_csv('trailer_data.csv') #, engine='python'\n",
    "trailer_df.head()"
   ]
  },
  {
   "cell_type": "code",
   "execution_count": null,
   "metadata": {
    "colab": {},
    "colab_type": "code",
    "id": "9Msm1YQn03Qh"
   },
   "outputs": [],
   "source": [
    "# run update queries for trailers\n",
    "for update in trailers:\n",
    "    query = f\"UPDATE imdb_movies SET trailer_url = '{update['video']}' WHERE movie_id = {update['movie_id']};\"\n",
    "  # run query\n",
    "# commit db"
   ]
  },
  {
   "cell_type": "markdown",
   "metadata": {
    "colab_type": "text",
    "id": "N5nAuyhh218z"
   },
   "source": [
    "# OLD NOTES"
   ]
  },
  {
   "cell_type": "code",
   "execution_count": 37,
   "metadata": {
    "colab": {
     "base_uri": "https://localhost:8080/",
     "height": 728
    },
    "colab_type": "code",
    "executionInfo": {
     "elapsed": 282,
     "status": "ok",
     "timestamp": 1586543396862,
     "user": {
      "displayName": "Ben de Vera",
      "photoUrl": "https://lh3.googleusercontent.com/a-/AOh14Gi8L62-P31PJT-AuCz6byZGPhqIn4oIQ_Jy5bw9=s64",
      "userId": "02830271359296331790"
     },
     "user_tz": 360
    },
    "id": "ocCnY8X7WiKZ",
    "outputId": "099b025a-8345-46bb-e094-f3ae0d25eb05"
   },
   "outputs": [
    {
     "data": {
      "text/plain": [
       "['__class__',\n",
       " '__delattr__',\n",
       " '__dict__',\n",
       " '__dir__',\n",
       " '__doc__',\n",
       " '__eq__',\n",
       " '__format__',\n",
       " '__ge__',\n",
       " '__getattribute__',\n",
       " '__gt__',\n",
       " '__hash__',\n",
       " '__init__',\n",
       " '__init_subclass__',\n",
       " '__le__',\n",
       " '__lt__',\n",
       " '__module__',\n",
       " '__ne__',\n",
       " '__new__',\n",
       " '__reduce__',\n",
       " '__reduce_ex__',\n",
       " '__repr__',\n",
       " '__setattr__',\n",
       " '__sizeof__',\n",
       " '__str__',\n",
       " '__subclasshook__',\n",
       " '__weakref__',\n",
       " 'adult',\n",
       " 'backdrop_path',\n",
       " 'entries',\n",
       " 'genre_ids',\n",
       " 'id',\n",
       " 'original_language',\n",
       " 'original_title',\n",
       " 'overview',\n",
       " 'popularity',\n",
       " 'poster_path',\n",
       " 'release_date',\n",
       " 'title',\n",
       " 'video',\n",
       " 'vote_average',\n",
       " 'vote_count']"
      ]
     },
     "execution_count": 37,
     "metadata": {
      "tags": []
     },
     "output_type": "execute_result"
    }
   ],
   "source": [
    "# what can I get from search result?\n",
    "\"\"\"\n",
    "poster:\n",
    "- poster_path\n",
    "  - str path, if nont None add to list to save\n",
    "OR\n",
    "- id -> images(id) -> image_path\n",
    "\n",
    "\n",
    "description: \n",
    "- overview * \n",
    "  - str description, if not None or '' then add to list to save\n",
    "\n",
    "trailer: \n",
    "- video\n",
    "  - bool if true add to list to fetch movie (doesn't see reliable)\n",
    "- id -> videos(id) -> video_url *\n",
    "\"\"\"\n",
    "dir(r[0]['search'][0])"
   ]
  },
  {
   "cell_type": "code",
   "execution_count": 16,
   "metadata": {
    "colab": {
     "base_uri": "https://localhost:8080/",
     "height": 294
    },
    "colab_type": "code",
    "executionInfo": {
     "elapsed": 483,
     "status": "ok",
     "timestamp": 1586546806459,
     "user": {
      "displayName": "Ben de Vera",
      "photoUrl": "https://lh3.googleusercontent.com/a-/AOh14Gi8L62-P31PJT-AuCz6byZGPhqIn4oIQ_Jy5bw9=s64",
      "userId": "02830271359296331790"
     },
     "user_tz": 360
    },
    "id": "7P37p-TihpRS",
    "outputId": "ae3f1d3f-a08f-4295-fd40-9bc47a6918c7"
   },
   "outputs": [
    {
     "output_type": "stream",
     "name": "stdout",
     "text": "<Response [200]>\n"
    },
    {
     "output_type": "execute_result",
     "data": {
      "text/plain": "[{'adult': False,\n  'backdrop_path': None,\n  'genre_ids': [18],\n  'id': 533781,\n  'original_language': 'az',\n  'original_title': 'Küçələrə Su Səpmişəm',\n  'overview': '',\n  'poster_path': None,\n  'release_date': '2004-08-02',\n  'title': 'There, Where the Rivers Merge',\n  'video': False,\n  'vote_average': 0.0,\n  'vote_count': 0,\n  'popularity': 0.6}]"
     },
     "metadata": {},
     "execution_count": 16
    }
   ],
   "source": [
    "# test using find route instead of search\n",
    "url = 'https://api.themoviedb.org/3/find/tt'+missing_posters[4][0]+'?api_key='+tmdb_api_key+'&external_source=imdb_id'\n",
    "response = requests.get(url)\n",
    "print(response)\n",
    "data = json.loads(response.text)\n",
    "data['movie_results']"
   ]
  },
  {
   "cell_type": "code",
   "execution_count": 51,
   "metadata": {
    "colab": {
     "base_uri": "https://localhost:8080/",
     "height": 104
    },
    "colab_type": "code",
    "executionInfo": {
     "elapsed": 300,
     "status": "ok",
     "timestamp": 1586544161980,
     "user": {
      "displayName": "Ben de Vera",
      "photoUrl": "https://lh3.googleusercontent.com/a-/AOh14Gi8L62-P31PJT-AuCz6byZGPhqIn4oIQ_Jy5bw9=s64",
      "userId": "02830271359296331790"
     },
     "user_tz": 360
    },
    "id": "gfWeLIbZZhti",
    "outputId": "02e0cb56-912d-4eb2-cf9e-f11fd6418b86"
   },
   "outputs": [
    {
     "data": {
      "text/plain": [
       "{'facebook_id': None,\n",
       " 'id': 31223,\n",
       " 'imdb_id': 'tt1051231',\n",
       " 'instagram_id': None,\n",
       " 'twitter_id': None}"
      ]
     },
     "execution_count": 51,
     "metadata": {
      "tags": []
     },
     "output_type": "execute_result"
    }
   ],
   "source": [
    "# example get imdb_id from tmdb_id\n",
    "movie_client.external_ids(r[0][\"search\"][0].id)"
   ]
  },
  {
   "cell_type": "code",
   "execution_count": 78,
   "metadata": {
    "colab": {
     "base_uri": "https://localhost:8080/",
     "height": 364
    },
    "colab_type": "code",
    "executionInfo": {
     "elapsed": 308,
     "status": "ok",
     "timestamp": 1586545114455,
     "user": {
      "displayName": "Ben de Vera",
      "photoUrl": "https://lh3.googleusercontent.com/a-/AOh14Gi8L62-P31PJT-AuCz6byZGPhqIn4oIQ_Jy5bw9=s64",
      "userId": "02830271359296331790"
     },
     "user_tz": 360
    },
    "id": "QL9nQjxHal-o",
    "outputId": "512649fc-d50d-4be8-998c-0c3e1f299b5c"
   },
   "outputs": [
    {
     "name": "stdout",
     "output_type": "stream",
     "text": [
      "False 3\n",
      "False 71\n",
      "False 8\n",
      "False 4\n",
      "False 1\n",
      "False 1\n",
      "False 0\n",
      "False 1\n",
      "False 1\n",
      "False 1\n",
      "False 1\n",
      "False 1\n",
      "False 1\n",
      "False 0\n",
      "True 0\n",
      "False 1\n",
      "False 0\n",
      "False 0\n",
      "False 0\n",
      "False 0\n"
     ]
    }
   ],
   "source": [
    "# may not be able to trust the video boolean\n",
    "# shows that boolean doesn't match up with weather there are videos attached\n",
    "test_result = movie_client.search(\"Avengers\")\n",
    "for result in test_result:\n",
    "  print(result.video, len(movie_client.videos(result.id)))"
   ]
  },
  {
   "cell_type": "code",
   "execution_count": 29,
   "metadata": {
    "colab": {
     "base_uri": "https://localhost:8080/",
     "height": 66,
     "referenced_widgets": [
      "d05673dd78864ed692079b59153e2b23",
      "998ed53ac9b142d7bc5619462f3623e5",
      "8b04aa32b5194fd385514b1aba8773bb",
      "cafaefec1ac14be1b936ca032b9a92d4",
      "8c2e24b2c64b4b8fb56b6b188ec39573",
      "219c179bb5604dea9ab22f002d06da94",
      "803f7f1e03f0458d8993b86ae2f85c14",
      "8b4501a651544584ba6d7599f84388cc"
     ]
    },
    "colab_type": "code",
    "executionInfo": {
     "elapsed": 1355415,
     "status": "ok",
     "timestamp": 1586543213030,
     "user": {
      "displayName": "Ben de Vera",
      "photoUrl": "https://lh3.googleusercontent.com/a-/AOh14Gi8L62-P31PJT-AuCz6byZGPhqIn4oIQ_Jy5bw9=s64",
      "userId": "02830271359296331790"
     },
     "user_tz": 360
    },
    "id": "In2vz5FD5z4I",
    "outputId": "bad7f68d-11ed-4293-f2e0-6fee2f1b6c59"
   },
   "outputs": [
    {
     "data": {
      "application/vnd.jupyter.widget-view+json": {
       "model_id": "d05673dd78864ed692079b59153e2b23",
       "version_major": 2,
       "version_minor": 0
      },
      "text/plain": [
       "HBox(children=(IntProgress(value=0, max=60255), HTML(value='')))"
      ]
     },
     "metadata": {
      "tags": []
     },
     "output_type": "display_data"
    },
    {
     "name": "stdout",
     "output_type": "stream",
     "text": [
      "\n"
     ]
    }
   ],
   "source": [
    "# old get missing poster func/multiprocessing\n",
    "def get_missing_poster(movie):\n",
    "  movie_id, title = movie\n",
    "  search = movie_client.search(title)\n",
    "  result = {\n",
    "      \"movie_id\": movie_id,\n",
    "      \"search\": search}\n",
    "  found_match = False\n",
    "  for res in search:            \n",
    "    if res.title != title:\n",
    "      continue\n",
    "    else:\n",
    "      res.title = res.title.replace(\"'\", \"%\")\n",
    "      if res.poster_path: \n",
    "        result['result'] = \"poster\"\n",
    "      else:\n",
    "        result['result'] = \"no poster\"\n",
    "      found_match = True \n",
    "      break\n",
    "  if not found_match:\n",
    "    result['result'] = \"no match\"\n",
    "  return result\n",
    "\n",
    "\n",
    "with Pool(5) as p:\n",
    "  r = list(tqdm_notebook(\n",
    "        p.imap(get_missing_poster, missing_posters), \n",
    "        total=len(missing_posters)\n",
    "        ))"
   ]
  },
  {
   "cell_type": "code",
   "execution_count": null,
   "metadata": {
    "colab": {},
    "colab_type": "code",
    "id": "RR75wKhvzi_U"
   },
   "outputs": [],
   "source": [
    "# OLD test get posters based on title (no multiprocessing)\n",
    "\"\"\"\n",
    "TESTING:\n",
    "1. How many movies can we not find an exact match on title? \n",
    "2. From those we do find an exact match, how many have a poster path and\n",
    "how many don't?\n",
    "\"\"\"\n",
    "poster_count = 0\n",
    "no_poster_count = 0\n",
    "no_match_count = 0\n",
    "\n",
    "found_posters = []\n",
    "no_posters = []\n",
    "no_match = []\n",
    "\n",
    "for movie_id, title in missing_posters:\n",
    "  search = movie_client.search(title)\n",
    "  found_match = False\n",
    "  for res in search:            \n",
    "    if res.title != title:\n",
    "      continue\n",
    "    else:\n",
    "      res.title = res.title.replace(\"'\", \"%\")\n",
    "      if res.poster_path: \n",
    "        poster_count += 1\n",
    "        found_posters.append((movie_id, title, search))\n",
    "        # stmt = f\"UPDATE imdb_movies SET poster_url = '{res.poster_path}' WHERE movie_id = {movie_id};\"\n",
    "        # try:\n",
    "        #   cursor.execute(stmt) \n",
    "        #   connection.commit()        \n",
    "        # except:\n",
    "        #   print(\"in except\")\n",
    "        #   continue\n",
    "      else:\n",
    "        no_poster_count += 1\n",
    "        no_posters.append((movie_id, title, search))\n",
    "      found_match = True \n",
    "      break\n",
    "  if not found_match:\n",
    "    no_match_count += 1\n",
    "    no_match.append((movie_id, title, search))\n",
    "\n",
    "print(len(missing_posters))\n",
    "print(poster_count+no_poster_count+no_match_count)\n",
    "poster_count, no_poster_count, no_match_count # was (2371, 39356, 18528)"
   ]
  }
 ],
 "metadata": {
  "colab": {
   "collapsed_sections": [],
   "name": "get_additional_data.ipynb",
   "provenance": []
  },
  "kernelspec": {
   "display_name": "Python 3",
   "language": "python",
   "name": "python3"
  },
  "language_info": {
   "codemirror_mode": {
    "name": "ipython",
    "version": 3
   },
   "file_extension": ".py",
   "mimetype": "text/x-python",
   "name": "python",
   "nbconvert_exporter": "python",
   "pygments_lexer": "ipython3",
   "version": "3.6.5-final"
  },
  "widgets": {
   "application/vnd.jupyter.widget-state+json": {
    "1e54226389d840459bdf98e716f1ab50": {
     "model_module": "@jupyter-widgets/base",
     "model_name": "LayoutModel",
     "state": {
      "_model_module": "@jupyter-widgets/base",
      "_model_module_version": "1.2.0",
      "_model_name": "LayoutModel",
      "_view_count": null,
      "_view_module": "@jupyter-widgets/base",
      "_view_module_version": "1.2.0",
      "_view_name": "LayoutView",
      "align_content": null,
      "align_items": null,
      "align_self": null,
      "border": null,
      "bottom": null,
      "display": null,
      "flex": null,
      "flex_flow": null,
      "grid_area": null,
      "grid_auto_columns": null,
      "grid_auto_flow": null,
      "grid_auto_rows": null,
      "grid_column": null,
      "grid_gap": null,
      "grid_row": null,
      "grid_template_areas": null,
      "grid_template_columns": null,
      "grid_template_rows": null,
      "height": null,
      "justify_content": null,
      "justify_items": null,
      "left": null,
      "margin": null,
      "max_height": null,
      "max_width": null,
      "min_height": null,
      "min_width": null,
      "object_fit": null,
      "object_position": null,
      "order": null,
      "overflow": null,
      "overflow_x": null,
      "overflow_y": null,
      "padding": null,
      "right": null,
      "top": null,
      "visibility": null,
      "width": null
     }
    },
    "213c801b5fcf441085dd2051773f7e2e": {
     "model_module": "@jupyter-widgets/controls",
     "model_name": "HTMLModel",
     "state": {
      "_dom_classes": [],
      "_model_module": "@jupyter-widgets/controls",
      "_model_module_version": "1.5.0",
      "_model_name": "HTMLModel",
      "_view_count": null,
      "_view_module": "@jupyter-widgets/controls",
      "_view_module_version": "1.5.0",
      "_view_name": "HTMLView",
      "description": "",
      "description_tooltip": null,
      "layout": "IPY_MODEL_a1e3e2361cf24d07bc31e2e65059929f",
      "placeholder": "​",
      "style": "IPY_MODEL_ee7c977004b0402c9c4a12285740ffae",
      "value": " 17410/301967 [07:41&lt;3:03:57, 25.78it/s]"
     }
    },
    "219c179bb5604dea9ab22f002d06da94": {
     "model_module": "@jupyter-widgets/base",
     "model_name": "LayoutModel",
     "state": {
      "_model_module": "@jupyter-widgets/base",
      "_model_module_version": "1.2.0",
      "_model_name": "LayoutModel",
      "_view_count": null,
      "_view_module": "@jupyter-widgets/base",
      "_view_module_version": "1.2.0",
      "_view_name": "LayoutView",
      "align_content": null,
      "align_items": null,
      "align_self": null,
      "border": null,
      "bottom": null,
      "display": null,
      "flex": null,
      "flex_flow": null,
      "grid_area": null,
      "grid_auto_columns": null,
      "grid_auto_flow": null,
      "grid_auto_rows": null,
      "grid_column": null,
      "grid_gap": null,
      "grid_row": null,
      "grid_template_areas": null,
      "grid_template_columns": null,
      "grid_template_rows": null,
      "height": null,
      "justify_content": null,
      "justify_items": null,
      "left": null,
      "margin": null,
      "max_height": null,
      "max_width": null,
      "min_height": null,
      "min_width": null,
      "object_fit": null,
      "object_position": null,
      "order": null,
      "overflow": null,
      "overflow_x": null,
      "overflow_y": null,
      "padding": null,
      "right": null,
      "top": null,
      "visibility": null,
      "width": null
     }
    },
    "47e30056673f4ad3a40ed4a19490c5bb": {
     "model_module": "@jupyter-widgets/controls",
     "model_name": "ProgressStyleModel",
     "state": {
      "_model_module": "@jupyter-widgets/controls",
      "_model_module_version": "1.5.0",
      "_model_name": "ProgressStyleModel",
      "_view_count": null,
      "_view_module": "@jupyter-widgets/base",
      "_view_module_version": "1.2.0",
      "_view_name": "StyleView",
      "bar_color": null,
      "description_width": "initial"
     }
    },
    "640aea65860c4ffb892c45cdfa2079a5": {
     "model_module": "@jupyter-widgets/base",
     "model_name": "LayoutModel",
     "state": {
      "_model_module": "@jupyter-widgets/base",
      "_model_module_version": "1.2.0",
      "_model_name": "LayoutModel",
      "_view_count": null,
      "_view_module": "@jupyter-widgets/base",
      "_view_module_version": "1.2.0",
      "_view_name": "LayoutView",
      "align_content": null,
      "align_items": null,
      "align_self": null,
      "border": null,
      "bottom": null,
      "display": null,
      "flex": null,
      "flex_flow": null,
      "grid_area": null,
      "grid_auto_columns": null,
      "grid_auto_flow": null,
      "grid_auto_rows": null,
      "grid_column": null,
      "grid_gap": null,
      "grid_row": null,
      "grid_template_areas": null,
      "grid_template_columns": null,
      "grid_template_rows": null,
      "height": null,
      "justify_content": null,
      "justify_items": null,
      "left": null,
      "margin": null,
      "max_height": null,
      "max_width": null,
      "min_height": null,
      "min_width": null,
      "object_fit": null,
      "object_position": null,
      "order": null,
      "overflow": null,
      "overflow_x": null,
      "overflow_y": null,
      "padding": null,
      "right": null,
      "top": null,
      "visibility": null,
      "width": null
     }
    },
    "676c4cfaff9542ebbcb56090a50777db": {
     "model_module": "@jupyter-widgets/base",
     "model_name": "LayoutModel",
     "state": {
      "_model_module": "@jupyter-widgets/base",
      "_model_module_version": "1.2.0",
      "_model_name": "LayoutModel",
      "_view_count": null,
      "_view_module": "@jupyter-widgets/base",
      "_view_module_version": "1.2.0",
      "_view_name": "LayoutView",
      "align_content": null,
      "align_items": null,
      "align_self": null,
      "border": null,
      "bottom": null,
      "display": null,
      "flex": null,
      "flex_flow": null,
      "grid_area": null,
      "grid_auto_columns": null,
      "grid_auto_flow": null,
      "grid_auto_rows": null,
      "grid_column": null,
      "grid_gap": null,
      "grid_row": null,
      "grid_template_areas": null,
      "grid_template_columns": null,
      "grid_template_rows": null,
      "height": null,
      "justify_content": null,
      "justify_items": null,
      "left": null,
      "margin": null,
      "max_height": null,
      "max_width": null,
      "min_height": null,
      "min_width": null,
      "object_fit": null,
      "object_position": null,
      "order": null,
      "overflow": null,
      "overflow_x": null,
      "overflow_y": null,
      "padding": null,
      "right": null,
      "top": null,
      "visibility": null,
      "width": null
     }
    },
    "67bbc6ae9a6143b58e9e089949d14a33": {
     "model_module": "@jupyter-widgets/controls",
     "model_name": "IntProgressModel",
     "state": {
      "_dom_classes": [],
      "_model_module": "@jupyter-widgets/controls",
      "_model_module_version": "1.5.0",
      "_model_name": "IntProgressModel",
      "_view_count": null,
      "_view_module": "@jupyter-widgets/controls",
      "_view_module_version": "1.5.0",
      "_view_name": "ProgressView",
      "bar_style": "success",
      "description": "100%",
      "description_tooltip": null,
      "layout": "IPY_MODEL_640aea65860c4ffb892c45cdfa2079a5",
      "max": 60255,
      "min": 0,
      "orientation": "horizontal",
      "style": "IPY_MODEL_47e30056673f4ad3a40ed4a19490c5bb",
      "value": 60255
     }
    },
    "73b6042a8f124438b1c4ace0f30a2fb5": {
     "model_module": "@jupyter-widgets/controls",
     "model_name": "HTMLModel",
     "state": {
      "_dom_classes": [],
      "_model_module": "@jupyter-widgets/controls",
      "_model_module_version": "1.5.0",
      "_model_name": "HTMLModel",
      "_view_count": null,
      "_view_module": "@jupyter-widgets/controls",
      "_view_module_version": "1.5.0",
      "_view_name": "HTMLView",
      "description": "",
      "description_tooltip": null,
      "layout": "IPY_MODEL_8e67661dd7b7488ca83c52a1d8400a52",
      "placeholder": "​",
      "style": "IPY_MODEL_88011ef3ba894c7a84cf6ed92507e3e6",
      "value": " 60255/60255 [32:35&lt;00:00, 30.81it/s]"
     }
    },
    "803f7f1e03f0458d8993b86ae2f85c14": {
     "model_module": "@jupyter-widgets/controls",
     "model_name": "DescriptionStyleModel",
     "state": {
      "_model_module": "@jupyter-widgets/controls",
      "_model_module_version": "1.5.0",
      "_model_name": "DescriptionStyleModel",
      "_view_count": null,
      "_view_module": "@jupyter-widgets/base",
      "_view_module_version": "1.2.0",
      "_view_name": "StyleView",
      "description_width": ""
     }
    },
    "8689becb3d734968ad42a92261b4f370": {
     "model_module": "@jupyter-widgets/base",
     "model_name": "LayoutModel",
     "state": {
      "_model_module": "@jupyter-widgets/base",
      "_model_module_version": "1.2.0",
      "_model_name": "LayoutModel",
      "_view_count": null,
      "_view_module": "@jupyter-widgets/base",
      "_view_module_version": "1.2.0",
      "_view_name": "LayoutView",
      "align_content": null,
      "align_items": null,
      "align_self": null,
      "border": null,
      "bottom": null,
      "display": null,
      "flex": null,
      "flex_flow": null,
      "grid_area": null,
      "grid_auto_columns": null,
      "grid_auto_flow": null,
      "grid_auto_rows": null,
      "grid_column": null,
      "grid_gap": null,
      "grid_row": null,
      "grid_template_areas": null,
      "grid_template_columns": null,
      "grid_template_rows": null,
      "height": null,
      "justify_content": null,
      "justify_items": null,
      "left": null,
      "margin": null,
      "max_height": null,
      "max_width": null,
      "min_height": null,
      "min_width": null,
      "object_fit": null,
      "object_position": null,
      "order": null,
      "overflow": null,
      "overflow_x": null,
      "overflow_y": null,
      "padding": null,
      "right": null,
      "top": null,
      "visibility": null,
      "width": null
     }
    },
    "88011ef3ba894c7a84cf6ed92507e3e6": {
     "model_module": "@jupyter-widgets/controls",
     "model_name": "DescriptionStyleModel",
     "state": {
      "_model_module": "@jupyter-widgets/controls",
      "_model_module_version": "1.5.0",
      "_model_name": "DescriptionStyleModel",
      "_view_count": null,
      "_view_module": "@jupyter-widgets/base",
      "_view_module_version": "1.2.0",
      "_view_name": "StyleView",
      "description_width": ""
     }
    },
    "8b04aa32b5194fd385514b1aba8773bb": {
     "model_module": "@jupyter-widgets/controls",
     "model_name": "IntProgressModel",
     "state": {
      "_dom_classes": [],
      "_model_module": "@jupyter-widgets/controls",
      "_model_module_version": "1.5.0",
      "_model_name": "IntProgressModel",
      "_view_count": null,
      "_view_module": "@jupyter-widgets/controls",
      "_view_module_version": "1.5.0",
      "_view_name": "ProgressView",
      "bar_style": "success",
      "description": "100%",
      "description_tooltip": null,
      "layout": "IPY_MODEL_219c179bb5604dea9ab22f002d06da94",
      "max": 60255,
      "min": 0,
      "orientation": "horizontal",
      "style": "IPY_MODEL_8c2e24b2c64b4b8fb56b6b188ec39573",
      "value": 60255
     }
    },
    "8b4501a651544584ba6d7599f84388cc": {
     "model_module": "@jupyter-widgets/base",
     "model_name": "LayoutModel",
     "state": {
      "_model_module": "@jupyter-widgets/base",
      "_model_module_version": "1.2.0",
      "_model_name": "LayoutModel",
      "_view_count": null,
      "_view_module": "@jupyter-widgets/base",
      "_view_module_version": "1.2.0",
      "_view_name": "LayoutView",
      "align_content": null,
      "align_items": null,
      "align_self": null,
      "border": null,
      "bottom": null,
      "display": null,
      "flex": null,
      "flex_flow": null,
      "grid_area": null,
      "grid_auto_columns": null,
      "grid_auto_flow": null,
      "grid_auto_rows": null,
      "grid_column": null,
      "grid_gap": null,
      "grid_row": null,
      "grid_template_areas": null,
      "grid_template_columns": null,
      "grid_template_rows": null,
      "height": null,
      "justify_content": null,
      "justify_items": null,
      "left": null,
      "margin": null,
      "max_height": null,
      "max_width": null,
      "min_height": null,
      "min_width": null,
      "object_fit": null,
      "object_position": null,
      "order": null,
      "overflow": null,
      "overflow_x": null,
      "overflow_y": null,
      "padding": null,
      "right": null,
      "top": null,
      "visibility": null,
      "width": null
     }
    },
    "8c2e24b2c64b4b8fb56b6b188ec39573": {
     "model_module": "@jupyter-widgets/controls",
     "model_name": "ProgressStyleModel",
     "state": {
      "_model_module": "@jupyter-widgets/controls",
      "_model_module_version": "1.5.0",
      "_model_name": "ProgressStyleModel",
      "_view_count": null,
      "_view_module": "@jupyter-widgets/base",
      "_view_module_version": "1.2.0",
      "_view_name": "StyleView",
      "bar_color": null,
      "description_width": "initial"
     }
    },
    "8e67661dd7b7488ca83c52a1d8400a52": {
     "model_module": "@jupyter-widgets/base",
     "model_name": "LayoutModel",
     "state": {
      "_model_module": "@jupyter-widgets/base",
      "_model_module_version": "1.2.0",
      "_model_name": "LayoutModel",
      "_view_count": null,
      "_view_module": "@jupyter-widgets/base",
      "_view_module_version": "1.2.0",
      "_view_name": "LayoutView",
      "align_content": null,
      "align_items": null,
      "align_self": null,
      "border": null,
      "bottom": null,
      "display": null,
      "flex": null,
      "flex_flow": null,
      "grid_area": null,
      "grid_auto_columns": null,
      "grid_auto_flow": null,
      "grid_auto_rows": null,
      "grid_column": null,
      "grid_gap": null,
      "grid_row": null,
      "grid_template_areas": null,
      "grid_template_columns": null,
      "grid_template_rows": null,
      "height": null,
      "justify_content": null,
      "justify_items": null,
      "left": null,
      "margin": null,
      "max_height": null,
      "max_width": null,
      "min_height": null,
      "min_width": null,
      "object_fit": null,
      "object_position": null,
      "order": null,
      "overflow": null,
      "overflow_x": null,
      "overflow_y": null,
      "padding": null,
      "right": null,
      "top": null,
      "visibility": null,
      "width": null
     }
    },
    "8f6b0329d8564760b6904ee9a0eb97fc": {
     "model_module": "@jupyter-widgets/controls",
     "model_name": "ProgressStyleModel",
     "state": {
      "_model_module": "@jupyter-widgets/controls",
      "_model_module_version": "1.5.0",
      "_model_name": "ProgressStyleModel",
      "_view_count": null,
      "_view_module": "@jupyter-widgets/base",
      "_view_module_version": "1.2.0",
      "_view_name": "StyleView",
      "bar_color": null,
      "description_width": "initial"
     }
    },
    "998ed53ac9b142d7bc5619462f3623e5": {
     "model_module": "@jupyter-widgets/base",
     "model_name": "LayoutModel",
     "state": {
      "_model_module": "@jupyter-widgets/base",
      "_model_module_version": "1.2.0",
      "_model_name": "LayoutModel",
      "_view_count": null,
      "_view_module": "@jupyter-widgets/base",
      "_view_module_version": "1.2.0",
      "_view_name": "LayoutView",
      "align_content": null,
      "align_items": null,
      "align_self": null,
      "border": null,
      "bottom": null,
      "display": null,
      "flex": null,
      "flex_flow": null,
      "grid_area": null,
      "grid_auto_columns": null,
      "grid_auto_flow": null,
      "grid_auto_rows": null,
      "grid_column": null,
      "grid_gap": null,
      "grid_row": null,
      "grid_template_areas": null,
      "grid_template_columns": null,
      "grid_template_rows": null,
      "height": null,
      "justify_content": null,
      "justify_items": null,
      "left": null,
      "margin": null,
      "max_height": null,
      "max_width": null,
      "min_height": null,
      "min_width": null,
      "object_fit": null,
      "object_position": null,
      "order": null,
      "overflow": null,
      "overflow_x": null,
      "overflow_y": null,
      "padding": null,
      "right": null,
      "top": null,
      "visibility": null,
      "width": null
     }
    },
    "9e09b7bd24ad494fa3f19f2fa8d87fa9": {
     "model_module": "@jupyter-widgets/controls",
     "model_name": "IntProgressModel",
     "state": {
      "_dom_classes": [],
      "_model_module": "@jupyter-widgets/controls",
      "_model_module_version": "1.5.0",
      "_model_name": "IntProgressModel",
      "_view_count": null,
      "_view_module": "@jupyter-widgets/controls",
      "_view_module_version": "1.5.0",
      "_view_name": "ProgressView",
      "bar_style": "",
      "description": "  6%",
      "description_tooltip": null,
      "layout": "IPY_MODEL_676c4cfaff9542ebbcb56090a50777db",
      "max": 301967,
      "min": 0,
      "orientation": "horizontal",
      "style": "IPY_MODEL_8f6b0329d8564760b6904ee9a0eb97fc",
      "value": 17410
     }
    },
    "a1e3e2361cf24d07bc31e2e65059929f": {
     "model_module": "@jupyter-widgets/base",
     "model_name": "LayoutModel",
     "state": {
      "_model_module": "@jupyter-widgets/base",
      "_model_module_version": "1.2.0",
      "_model_name": "LayoutModel",
      "_view_count": null,
      "_view_module": "@jupyter-widgets/base",
      "_view_module_version": "1.2.0",
      "_view_name": "LayoutView",
      "align_content": null,
      "align_items": null,
      "align_self": null,
      "border": null,
      "bottom": null,
      "display": null,
      "flex": null,
      "flex_flow": null,
      "grid_area": null,
      "grid_auto_columns": null,
      "grid_auto_flow": null,
      "grid_auto_rows": null,
      "grid_column": null,
      "grid_gap": null,
      "grid_row": null,
      "grid_template_areas": null,
      "grid_template_columns": null,
      "grid_template_rows": null,
      "height": null,
      "justify_content": null,
      "justify_items": null,
      "left": null,
      "margin": null,
      "max_height": null,
      "max_width": null,
      "min_height": null,
      "min_width": null,
      "object_fit": null,
      "object_position": null,
      "order": null,
      "overflow": null,
      "overflow_x": null,
      "overflow_y": null,
      "padding": null,
      "right": null,
      "top": null,
      "visibility": null,
      "width": null
     }
    },
    "cafaefec1ac14be1b936ca032b9a92d4": {
     "model_module": "@jupyter-widgets/controls",
     "model_name": "HTMLModel",
     "state": {
      "_dom_classes": [],
      "_model_module": "@jupyter-widgets/controls",
      "_model_module_version": "1.5.0",
      "_model_name": "HTMLModel",
      "_view_count": null,
      "_view_module": "@jupyter-widgets/controls",
      "_view_module_version": "1.5.0",
      "_view_name": "HTMLView",
      "description": "",
      "description_tooltip": null,
      "layout": "IPY_MODEL_8b4501a651544584ba6d7599f84388cc",
      "placeholder": "​",
      "style": "IPY_MODEL_803f7f1e03f0458d8993b86ae2f85c14",
      "value": " 60255/60255 [22:34&lt;00:00, 44.50it/s]"
     }
    },
    "d05673dd78864ed692079b59153e2b23": {
     "model_module": "@jupyter-widgets/controls",
     "model_name": "HBoxModel",
     "state": {
      "_dom_classes": [],
      "_model_module": "@jupyter-widgets/controls",
      "_model_module_version": "1.5.0",
      "_model_name": "HBoxModel",
      "_view_count": null,
      "_view_module": "@jupyter-widgets/controls",
      "_view_module_version": "1.5.0",
      "_view_name": "HBoxView",
      "box_style": "",
      "children": [
       "IPY_MODEL_8b04aa32b5194fd385514b1aba8773bb",
       "IPY_MODEL_cafaefec1ac14be1b936ca032b9a92d4"
      ],
      "layout": "IPY_MODEL_998ed53ac9b142d7bc5619462f3623e5"
     }
    },
    "ee7c977004b0402c9c4a12285740ffae": {
     "model_module": "@jupyter-widgets/controls",
     "model_name": "DescriptionStyleModel",
     "state": {
      "_model_module": "@jupyter-widgets/controls",
      "_model_module_version": "1.5.0",
      "_model_name": "DescriptionStyleModel",
      "_view_count": null,
      "_view_module": "@jupyter-widgets/base",
      "_view_module_version": "1.2.0",
      "_view_name": "StyleView",
      "description_width": ""
     }
    },
    "fa1fc9c16dcf4873b112c007dd04ff34": {
     "model_module": "@jupyter-widgets/controls",
     "model_name": "HBoxModel",
     "state": {
      "_dom_classes": [],
      "_model_module": "@jupyter-widgets/controls",
      "_model_module_version": "1.5.0",
      "_model_name": "HBoxModel",
      "_view_count": null,
      "_view_module": "@jupyter-widgets/controls",
      "_view_module_version": "1.5.0",
      "_view_name": "HBoxView",
      "box_style": "",
      "children": [
       "IPY_MODEL_67bbc6ae9a6143b58e9e089949d14a33",
       "IPY_MODEL_73b6042a8f124438b1c4ace0f30a2fb5"
      ],
      "layout": "IPY_MODEL_8689becb3d734968ad42a92261b4f370"
     }
    },
    "fe4963a131484ec182d70b4a661e34d3": {
     "model_module": "@jupyter-widgets/controls",
     "model_name": "HBoxModel",
     "state": {
      "_dom_classes": [],
      "_model_module": "@jupyter-widgets/controls",
      "_model_module_version": "1.5.0",
      "_model_name": "HBoxModel",
      "_view_count": null,
      "_view_module": "@jupyter-widgets/controls",
      "_view_module_version": "1.5.0",
      "_view_name": "HBoxView",
      "box_style": "",
      "children": [
       "IPY_MODEL_9e09b7bd24ad494fa3f19f2fa8d87fa9",
       "IPY_MODEL_213c801b5fcf441085dd2051773f7e2e"
      ],
      "layout": "IPY_MODEL_1e54226389d840459bdf98e716f1ab50"
     }
    }
   }
  }
 },
 "nbformat": 4,
 "nbformat_minor": 4
}