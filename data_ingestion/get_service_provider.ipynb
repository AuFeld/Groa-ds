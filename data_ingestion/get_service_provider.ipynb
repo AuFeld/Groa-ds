{
 "cells": [
  {
   "cell_type": "markdown",
   "metadata": {},
   "source": [
    "# Get Service Providers\n",
    "\n",
    "This notebook is used to grab service provider information from JustWatch. The only way to search using this API is by title, so the results are imperfect. A fuzzywuzzy ratio is currently calculated to try to determine if the search result is a good match. "
   ]
  },
  {
   "cell_type": "code",
   "execution_count": 1,
   "metadata": {},
   "outputs": [],
   "source": [
    "# imports \n",
    "from justwatch import JustWatch # https://github.com/dawoudt/JustWatchAPI\n",
    "import psycopg2\n",
    "from multiprocessing import Pool\n",
    "from tqdm._tqdm_notebook import tqdm_notebook\n",
    "import time\n",
    "from fuzzywuzzy import fuzz # https://github.com/seatgeek/fuzzywuzzy\n",
    "import pandas as pd\n",
    "import os\n",
    "from dotenv import load_dotenv"
   ]
  },
  {
   "cell_type": "code",
   "execution_count": null,
   "metadata": {},
   "outputs": [],
   "source": [
    "# load .env file for keys\n",
    "load_dotenv()"
   ]
  },
  {
   "cell_type": "code",
   "execution_count": 2,
   "metadata": {},
   "outputs": [],
   "source": [
    "# make justwatch instance\n",
    "just_watch = JustWatch(country='US')"
   ]
  },
  {
   "cell_type": "code",
   "execution_count": 3,
   "metadata": {},
   "outputs": [
    {
     "data": {
      "text/plain": [
       "((8, 'nfx', 'Netflix', 'www.netflix.com/watch/%DEEPLINK%'), 42)"
      ]
     },
     "execution_count": 3,
     "metadata": {},
     "output_type": "execute_result"
    }
   ],
   "source": [
    "# make providers list to narrow search\n",
    "provider_details = just_watch.get_providers()\n",
    "my_providers = []\n",
    "other_providers = ['nfx', 'amp', 'hlu', 'amz', 'dnp', 'yot']\n",
    "\n",
    "for provider in provider_details:\n",
    "    if len(provider['data']['deeplink_data']) > 0:\n",
    "        my_providers.append((\n",
    "            provider['id'], \n",
    "            provider['short_name'], \n",
    "            provider['clear_name'], \n",
    "            provider['data']['deeplink_data'][0]['path_template']\n",
    "        ))\n",
    "\n",
    "my_providers[0], len(my_providers)"
   ]
  },
  {
   "cell_type": "code",
   "execution_count": 4,
   "metadata": {},
   "outputs": [
    {
     "data": {
      "text/plain": [
       "dict_keys(['jw_entity_id', 'id', 'title', 'full_path', 'full_paths', 'poster', 'original_release_year', 'tmdb_popularity', 'object_type', 'localized_release_date', 'offers', 'scoring', 'cinema_release_date'])"
      ]
     },
     "execution_count": 4,
     "metadata": {},
     "output_type": "execute_result"
    }
   ],
   "source": [
    "# test API\n",
    "result = just_watch.search_for_item(query='the matrix')\n",
    "if result['total_results'] > 0:\n",
    "    test_item = result['items'][0]\n",
    "test_item.keys()"
   ]
  },
  {
   "cell_type": "code",
   "execution_count": 5,
   "metadata": {},
   "outputs": [
    {
     "data": {
      "text/plain": [
       "'The Matrix'"
      ]
     },
     "execution_count": 5,
     "metadata": {},
     "output_type": "execute_result"
    }
   ],
   "source": [
    "# test get by id\n",
    "the_matrix = just_watch.get_title(title_id=test_item['id'])\n",
    "the_matrix['title']"
   ]
  },
  {
   "cell_type": "code",
   "execution_count": 6,
   "metadata": {},
   "outputs": [
    {
     "data": {
      "text/plain": [
       "(10,\n",
       " 'The Matrix',\n",
       " [{'monetization_type': 'rent',\n",
       "   'provider_id': 7,\n",
       "   'retail_price': 3.99,\n",
       "   'currency': 'USD',\n",
       "   'urls': {'standard_web': 'https://www.vudu.com/content/movies/details/The-Matrix/9254'},\n",
       "   'presentation_type': 'sd',\n",
       "   'date_provider_id': '2000-01-01_7',\n",
       "   'date_created': '2000-01-01'},\n",
       "  {'monetization_type': 'buy',\n",
       "   'provider_id': 7,\n",
       "   'retail_price': 9.99,\n",
       "   'last_change_retail_price': 4.99,\n",
       "   'last_change_difference': 5,\n",
       "   'last_change_percent': 100.2004,\n",
       "   'last_change_date': '2020-04-08',\n",
       "   'last_change_date_provider_id': '2020-04-08_7',\n",
       "   'currency': 'USD',\n",
       "   'urls': {'standard_web': 'https://www.vudu.com/content/movies/details/The-Matrix/9254'},\n",
       "   'presentation_type': 'sd',\n",
       "   'date_provider_id': '2000-01-01_7',\n",
       "   'date_created': '2000-01-01'}])"
      ]
     },
     "execution_count": 6,
     "metadata": {},
     "output_type": "execute_result"
    }
   ],
   "source": [
    "test_item['id'], test_item['title'], test_item['offers'][:2]"
   ]
  },
  {
   "cell_type": "code",
   "execution_count": 4,
   "metadata": {},
   "outputs": [],
   "source": [
    "# create connection to prod DB\n",
    "connection = psycopg2.connect(\n",
    "                            user=os.getenv('db_user'),\n",
    "                            password=os.getenv('db_password'),\n",
    "                            host=os.getenv('db_host'),\n",
    "                            port=\"5432\",\n",
    "                            database=os.getenv('db_user')\n",
    "                            )"
   ]
  },
  {
   "cell_type": "code",
   "execution_count": 19,
   "metadata": {},
   "outputs": [
    {
     "data": {
      "text/plain": [
       "301967"
      ]
     },
     "execution_count": 19,
     "metadata": {},
     "output_type": "execute_result"
    }
   ],
   "source": [
    "# get all movies\n",
    "cursor = connection.cursor()\n",
    "postgreSQL_select_Query = \"SELECT movie_id, primary_title FROM imdb_movies;\"\n",
    "cursor.execute(postgreSQL_select_Query)\n",
    "all_movies = cursor.fetchall()\n",
    "len(all_movies)"
   ]
  },
  {
   "cell_type": "code",
   "execution_count": 6,
   "metadata": {},
   "outputs": [],
   "source": [
    "# function to search for movie\n",
    "\"\"\"\n",
    "Now saving a ratio score from fuzzywuzzy \n",
    "to later determine if the result is the correct movie\n",
    "Could improve by calculating ratio after collecting JustWatch info\n",
    "because currently the collection process is slow (~1.5hr per 50k)\n",
    "\n",
    "I'm finding it may be better to broaden the providers in the \n",
    "search to more effectively get the correct movie, then can \n",
    "filter down to the offer data from the providers we want.\n",
    "\"\"\"\n",
    "def get_movie(movie_data, providers=['nfx', 'amp', 'hlu']):\n",
    "    movie_id, title = movie_data\n",
    "    # only other way I see to improve this query is with:\n",
    "    # release_year_from and release_year_until\n",
    "    try:\n",
    "        # could also save original_release_year for verifying match \n",
    "        # and poster may be another source for posters\n",
    "        # because they also provide tmdb_popularity I'm guessing id may be linked to tmdb\n",
    "        result = just_watch.search_for_item(query=title, providers=providers)\n",
    "        result = result['items'][0]\n",
    "        return {\n",
    "            'movie_id': movie_id,\n",
    "            'movie_title': title,\n",
    "            'id': result['id'],\n",
    "            'title': result['title'], \n",
    "            'offers': result['offers'],\n",
    "            'ratio': fuzz.ratio(result['title'].lower(),title.lower())\n",
    "        }\n",
    "    except: \n",
    "        return None"
   ]
  },
  {
   "cell_type": "code",
   "execution_count": 10,
   "metadata": {},
   "outputs": [],
   "source": [
    "# get movie by id\n",
    "def get_by_id(title_id):\n",
    "    return just_watch.get_title(title_id=title_id)"
   ]
  },
  {
   "cell_type": "code",
   "execution_count": 11,
   "metadata": {},
   "outputs": [
    {
     "data": {
      "text/plain": [
       "({'movie_id': '0118901',\n",
       "  'movie_title': 'Critical Care',\n",
       "  'id': 14597,\n",
       "  'title': 'The Care Bears',\n",
       "  'offers': [{'type': 'aggregated',\n",
       "    'monetization_type': 'flatrate',\n",
       "    'provider_id': 8,\n",
       "    'currency': 'USD',\n",
       "    'urls': {'standard_web': 'http://www.netflix.com/title/70287604',\n",
       "     'deeplink_android_tv': '70282094',\n",
       "     'deeplink_fire_tv': 'intent://www.netflix.com/watch/70282094#Intent;launchFlags=0x00800000;scheme=https;package=com.netflix.ninja;S.source=30;end',\n",
       "     'deeplink_tvos': 'nflx://www.netflix.com/watch/70287604'},\n",
       "    'presentation_type': 'sd',\n",
       "    'element_count': 1,\n",
       "    'new_element_count': 1,\n",
       "    'date_provider_id': '2019-08-02_8',\n",
       "    'date_created': '2019-08-02'},\n",
       "   {'type': 'aggregated',\n",
       "    'monetization_type': 'flatrate',\n",
       "    'provider_id': 8,\n",
       "    'currency': 'USD',\n",
       "    'urls': {'standard_web': 'http://www.netflix.com/title/70287604',\n",
       "     'deeplink_android_tv': '70282094',\n",
       "     'deeplink_fire_tv': 'intent://www.netflix.com/watch/70282094#Intent;launchFlags=0x00800000;scheme=https;package=com.netflix.ninja;S.source=30;end',\n",
       "     'deeplink_tvos': 'nflx://www.netflix.com/watch/70287604'},\n",
       "    'presentation_type': 'hd',\n",
       "    'element_count': 1,\n",
       "    'new_element_count': 1,\n",
       "    'date_provider_id': '2019-08-02_8',\n",
       "    'date_created': '2019-08-02'},\n",
       "   {'type': 'aggregated',\n",
       "    'monetization_type': 'flatrate',\n",
       "    'provider_id': 175,\n",
       "    'currency': 'USD',\n",
       "    'urls': {'standard_web': 'http://www.netflix.com/title/70287604',\n",
       "     'deeplink_android_tv': '70282094',\n",
       "     'deeplink_fire_tv': 'intent://www.netflix.com/watch/70282094#Intent;launchFlags=0x00800000;scheme=https;package=com.netflix.ninja;S.source=30;end',\n",
       "     'deeplink_tvos': 'nflx://www.netflix.com/watch/70287604'},\n",
       "    'presentation_type': 'sd',\n",
       "    'element_count': 1,\n",
       "    'new_element_count': 1,\n",
       "    'date_provider_id': '2019-08-02_175',\n",
       "    'date_created': '2019-08-02'},\n",
       "   {'type': 'aggregated',\n",
       "    'monetization_type': 'flatrate',\n",
       "    'provider_id': 175,\n",
       "    'currency': 'USD',\n",
       "    'urls': {'standard_web': 'http://www.netflix.com/title/70287604',\n",
       "     'deeplink_android_tv': '70282094',\n",
       "     'deeplink_fire_tv': 'intent://www.netflix.com/watch/70282094#Intent;launchFlags=0x00800000;scheme=https;package=com.netflix.ninja;S.source=30;end',\n",
       "     'deeplink_tvos': 'nflx://www.netflix.com/watch/70287604'},\n",
       "    'presentation_type': 'hd',\n",
       "    'element_count': 1,\n",
       "    'new_element_count': 1,\n",
       "    'date_provider_id': '2019-08-02_175',\n",
       "    'date_created': '2019-08-02'}],\n",
       "  'ratio': 44},\n",
       " 'Critical Care')"
      ]
     },
     "execution_count": 11,
     "metadata": {},
     "output_type": "execute_result"
    }
   ],
   "source": [
    "get_movie(all_movies[100000]), all_movies[100000][1]"
   ]
  },
  {
   "cell_type": "code",
   "execution_count": 24,
   "metadata": {},
   "outputs": [
    {
     "data": {
      "application/vnd.jupyter.widget-view+json": {
       "model_id": "15607ae2de7343dc89ae3bbfe3583d06",
       "version_major": 2,
       "version_minor": 0
      },
      "text/plain": [
       "HBox(children=(IntProgress(value=0, max=51967), HTML(value='')))"
      ]
     },
     "metadata": {},
     "output_type": "display_data"
    },
    {
     "name": "stdout",
     "output_type": "stream",
     "text": [
      "\n"
     ]
    },
    {
     "data": {
      "text/plain": [
       "104.58164"
      ]
     },
     "execution_count": 24,
     "metadata": {},
     "output_type": "execute_result"
    }
   ],
   "source": [
    "# test func on sample\n",
    "movie_sample = all_movies[250000:]\n",
    "start = time.process_time()\n",
    "with Pool(5) as p:\n",
    "    provider_data = list(tqdm_notebook(\n",
    "                p.imap(get_movie, movie_sample),\n",
    "                total=len(movie_sample)\n",
    "                ))\n",
    "time.process_time() - start"
   ]
  },
  {
   "cell_type": "code",
   "execution_count": 25,
   "metadata": {},
   "outputs": [
    {
     "data": {
      "text/plain": [
       "'88.0%'"
      ]
     },
     "execution_count": 25,
     "metadata": {},
     "output_type": "execute_result"
    }
   ],
   "source": [
    "# check results of collection\n",
    "provider_count = 0\n",
    "movie_ids = []\n",
    "jw_ids = []\n",
    "titles = []\n",
    "jw_titles = []\n",
    "offer_ids = []\n",
    "offer_urls = []\n",
    "ratios = []\n",
    "\n",
    "for provider in provider_data:\n",
    "    if provider is not None:\n",
    "        provider_count += 1\n",
    "        movie_ids.append(provider['movie_id'])\n",
    "        jw_ids.append(provider['id'])\n",
    "        titles.append(provider['movie_title'])\n",
    "        jw_titles.append(provider['title'])\n",
    "        # other offer info: presentation_type (sd, hd), \n",
    "        # date_created, monetization_type (flat_rate, buy, rent)\n",
    "        offer_ids.append(\",\".join([str(prov['provider_id']) for prov in provider['offers']]))\n",
    "        offer_urls.append(\",\".join([prov['urls']['standard_web'] for prov in provider['offers'] if 'standard_web' in prov['urls']]))\n",
    "        ratios.append(provider['ratio'])\n",
    "        \n",
    "str(round(provider_count / len(provider_data), 2)*100)+\"%\""
   ]
  },
  {
   "cell_type": "code",
   "execution_count": 26,
   "metadata": {},
   "outputs": [
    {
     "name": "stdout",
     "output_type": "stream",
     "text": [
      "(45987, 7)\n"
     ]
    },
    {
     "data": {
      "text/html": [
       "<div>\n",
       "<style scoped>\n",
       "    .dataframe tbody tr th:only-of-type {\n",
       "        vertical-align: middle;\n",
       "    }\n",
       "\n",
       "    .dataframe tbody tr th {\n",
       "        vertical-align: top;\n",
       "    }\n",
       "\n",
       "    .dataframe thead th {\n",
       "        text-align: right;\n",
       "    }\n",
       "</style>\n",
       "<table border=\"1\" class=\"dataframe\">\n",
       "  <thead>\n",
       "    <tr style=\"text-align: right;\">\n",
       "      <th></th>\n",
       "      <th>movie_id</th>\n",
       "      <th>title</th>\n",
       "      <th>jw_id</th>\n",
       "      <th>jw_title</th>\n",
       "      <th>offer_provider_id</th>\n",
       "      <th>offer_urls</th>\n",
       "      <th>ratio</th>\n",
       "    </tr>\n",
       "  </thead>\n",
       "  <tbody>\n",
       "    <tr>\n",
       "      <td>0</td>\n",
       "      <td>0288034</td>\n",
       "      <td>Gottes zweite Garnitur</td>\n",
       "      <td>366889</td>\n",
       "      <td>Vice</td>\n",
       "      <td>68,68,3,192,3,192,68,68,10,10,10,10,2,2,2,2,7,...</td>\n",
       "      <td>https://www.microsoft.com/en-us/p/vice/8d6kgwx...</td>\n",
       "      <td>15</td>\n",
       "    </tr>\n",
       "    <tr>\n",
       "      <td>1</td>\n",
       "      <td>0288035</td>\n",
       "      <td>The Way to the Sun</td>\n",
       "      <td>98815</td>\n",
       "      <td>The Way Back</td>\n",
       "      <td>87,3,192,192,3,212,68,68,68,68,2,2,2,2,7,7,7,7...</td>\n",
       "      <td>https://acorn.tv/wayback/,https://play.google....</td>\n",
       "      <td>53</td>\n",
       "    </tr>\n",
       "    <tr>\n",
       "      <td>2</td>\n",
       "      <td>0288040</td>\n",
       "      <td>Hatred of a Minute</td>\n",
       "      <td>353120</td>\n",
       "      <td>I'm Dreaming of a White Doomsday</td>\n",
       "      <td>10,10,10,10,331,331,331,331,331,9,9</td>\n",
       "      <td>https://www.amazon.com/gp/product/B07YSX1QSV?c...</td>\n",
       "      <td>44</td>\n",
       "    </tr>\n",
       "    <tr>\n",
       "      <td>3</td>\n",
       "      <td>0288042</td>\n",
       "      <td>The Heart Is a Rebel</td>\n",
       "      <td>184664</td>\n",
       "      <td>Roland Klick: The Heart Is a Hungry Hunter</td>\n",
       "      <td>10,10,10,10,9,9,2,2,2,2</td>\n",
       "      <td>https://www.amazon.com/gp/product/B07S7R5K3Z?c...</td>\n",
       "      <td>55</td>\n",
       "    </tr>\n",
       "    <tr>\n",
       "      <td>4</td>\n",
       "      <td>0288054</td>\n",
       "      <td>Honey, My Love, So Sweet</td>\n",
       "      <td>223380</td>\n",
       "      <td>BOFURI: I Don’t Want to Get Hurt, so I’ll Max ...</td>\n",
       "      <td>10,10,3,3,15,15,269,269</td>\n",
       "      <td>https://www.amazon.com/gp/product/B0845T4KNR?c...</td>\n",
       "      <td>31</td>\n",
       "    </tr>\n",
       "  </tbody>\n",
       "</table>\n",
       "</div>"
      ],
      "text/plain": [
       "  movie_id                     title   jw_id  \\\n",
       "0  0288034    Gottes zweite Garnitur  366889   \n",
       "1  0288035        The Way to the Sun   98815   \n",
       "2  0288040        Hatred of a Minute  353120   \n",
       "3  0288042      The Heart Is a Rebel  184664   \n",
       "4  0288054  Honey, My Love, So Sweet  223380   \n",
       "\n",
       "                                            jw_title  \\\n",
       "0                                               Vice   \n",
       "1                                       The Way Back   \n",
       "2                   I'm Dreaming of a White Doomsday   \n",
       "3         Roland Klick: The Heart Is a Hungry Hunter   \n",
       "4  BOFURI: I Don’t Want to Get Hurt, so I’ll Max ...   \n",
       "\n",
       "                                   offer_provider_id  \\\n",
       "0  68,68,3,192,3,192,68,68,10,10,10,10,2,2,2,2,7,...   \n",
       "1  87,3,192,192,3,212,68,68,68,68,2,2,2,2,7,7,7,7...   \n",
       "2                10,10,10,10,331,331,331,331,331,9,9   \n",
       "3                            10,10,10,10,9,9,2,2,2,2   \n",
       "4                            10,10,3,3,15,15,269,269   \n",
       "\n",
       "                                          offer_urls  ratio  \n",
       "0  https://www.microsoft.com/en-us/p/vice/8d6kgwx...     15  \n",
       "1  https://acorn.tv/wayback/,https://play.google....     53  \n",
       "2  https://www.amazon.com/gp/product/B07YSX1QSV?c...     44  \n",
       "3  https://www.amazon.com/gp/product/B07S7R5K3Z?c...     55  \n",
       "4  https://www.amazon.com/gp/product/B0845T4KNR?c...     31  "
      ]
     },
     "execution_count": 26,
     "metadata": {},
     "output_type": "execute_result"
    }
   ],
   "source": [
    "# make df with results\n",
    "prov_df = pd.DataFrame({\n",
    "    'movie_id': movie_ids,\n",
    "    'title': titles,\n",
    "    'jw_id': jw_ids,\n",
    "    'jw_title': jw_titles,\n",
    "    'offer_provider_id': offer_ids,\n",
    "    'offer_urls': offer_urls,\n",
    "    'ratio': ratios\n",
    "})\n",
    "print(prov_df.shape)\n",
    "prov_df.head()"
   ]
  },
  {
   "cell_type": "code",
   "execution_count": 27,
   "metadata": {},
   "outputs": [],
   "source": [
    "# save prov_df\n",
    "prov_df.to_csv('provider_data_250k_on.csv', index=False)"
   ]
  },
  {
   "cell_type": "code",
   "execution_count": 29,
   "metadata": {},
   "outputs": [
    {
     "name": "stdout",
     "output_type": "stream",
     "text": [
      "(224382, 7)\n"
     ]
    },
    {
     "data": {
      "text/html": [
       "<div>\n",
       "<style scoped>\n",
       "    .dataframe tbody tr th:only-of-type {\n",
       "        vertical-align: middle;\n",
       "    }\n",
       "\n",
       "    .dataframe tbody tr th {\n",
       "        vertical-align: top;\n",
       "    }\n",
       "\n",
       "    .dataframe thead th {\n",
       "        text-align: right;\n",
       "    }\n",
       "</style>\n",
       "<table border=\"1\" class=\"dataframe\">\n",
       "  <thead>\n",
       "    <tr style=\"text-align: right;\">\n",
       "      <th></th>\n",
       "      <th>movie_id</th>\n",
       "      <th>title</th>\n",
       "      <th>jw_id</th>\n",
       "      <th>jw_title</th>\n",
       "      <th>offer_provider_id</th>\n",
       "      <th>offer_urls</th>\n",
       "      <th>ratio</th>\n",
       "    </tr>\n",
       "  </thead>\n",
       "  <tbody>\n",
       "    <tr>\n",
       "      <td>0</td>\n",
       "      <td>1051262</td>\n",
       "      <td>The Stalker Within</td>\n",
       "      <td>309961</td>\n",
       "      <td>The Evil Within</td>\n",
       "      <td>7,7,7,7,192,3,3,192,3,192,9,9,10,10,10,10,3,19...</td>\n",
       "      <td>https://www.vudu.com/content/movies/details/Th...</td>\n",
       "      <td>73</td>\n",
       "    </tr>\n",
       "    <tr>\n",
       "      <td>1</td>\n",
       "      <td>1051263</td>\n",
       "      <td>Stolen Life</td>\n",
       "      <td>167298</td>\n",
       "      <td>Stolen Life</td>\n",
       "      <td>25,10,10,9</td>\n",
       "      <td>https://www.fandor.com/films/stolen_life,https...</td>\n",
       "      <td>100</td>\n",
       "    </tr>\n",
       "    <tr>\n",
       "      <td>2</td>\n",
       "      <td>10513072</td>\n",
       "      <td>Don't Date Your Sister</td>\n",
       "      <td>434938</td>\n",
       "      <td>Don't Open Your Eyes</td>\n",
       "      <td>10,10,10,10,2,2,2,2,12,9,9</td>\n",
       "      <td>https://www.amazon.com/gp/product/B07H4T4NQ2?c...</td>\n",
       "      <td>67</td>\n",
       "    </tr>\n",
       "    <tr>\n",
       "      <td>3</td>\n",
       "      <td>1051320</td>\n",
       "      <td>La cantatrice chauve</td>\n",
       "      <td>23259</td>\n",
       "      <td>La Bamba</td>\n",
       "      <td>7,7,7,7,3,3,192,192,279,279,279,279,10,10,10,1...</td>\n",
       "      <td>https://www.vudu.com/content/movies/details/La...</td>\n",
       "      <td>36</td>\n",
       "    </tr>\n",
       "    <tr>\n",
       "      <td>4</td>\n",
       "      <td>10513286</td>\n",
       "      <td>Historia de mi nombre</td>\n",
       "      <td>403709</td>\n",
       "      <td>Marriage Story</td>\n",
       "      <td>8,8,8</td>\n",
       "      <td>http://www.netflix.com/title/80223779,http://w...</td>\n",
       "      <td>40</td>\n",
       "    </tr>\n",
       "  </tbody>\n",
       "</table>\n",
       "</div>"
      ],
      "text/plain": [
       "   movie_id                   title   jw_id              jw_title  \\\n",
       "0   1051262      The Stalker Within  309961       The Evil Within   \n",
       "1   1051263             Stolen Life  167298           Stolen Life   \n",
       "2  10513072  Don't Date Your Sister  434938  Don't Open Your Eyes   \n",
       "3   1051320    La cantatrice chauve   23259              La Bamba   \n",
       "4  10513286   Historia de mi nombre  403709        Marriage Story   \n",
       "\n",
       "                                   offer_provider_id  \\\n",
       "0  7,7,7,7,192,3,3,192,3,192,9,9,10,10,10,10,3,19...   \n",
       "1                                         25,10,10,9   \n",
       "2                         10,10,10,10,2,2,2,2,12,9,9   \n",
       "3  7,7,7,7,3,3,192,192,279,279,279,279,10,10,10,1...   \n",
       "4                                              8,8,8   \n",
       "\n",
       "                                          offer_urls  ratio  \n",
       "0  https://www.vudu.com/content/movies/details/Th...     73  \n",
       "1  https://www.fandor.com/films/stolen_life,https...    100  \n",
       "2  https://www.amazon.com/gp/product/B07H4T4NQ2?c...     67  \n",
       "3  https://www.vudu.com/content/movies/details/La...     36  \n",
       "4  http://www.netflix.com/title/80223779,http://w...     40  "
      ]
     },
     "execution_count": 29,
     "metadata": {},
     "output_type": "execute_result"
    }
   ],
   "source": [
    "# concat all provider_data_*.csv files\n",
    "df_1 = pd.read_csv('provider_data_0_50k.csv')\n",
    "df_2 = pd.read_csv('provider_data_50k_100k.csv')\n",
    "df_3 = pd.read_csv('provider_data_100k_150k.csv')\n",
    "df_4 = pd.read_csv('provider_data_150k_200k.csv')\n",
    "df_5 = pd.read_csv('provider_data_250k_on.csv')\n",
    "\n",
    "prov_df = pd.concat([df_1, df_2, df_3, df_4, df_5])\n",
    "print(prov_df.shape)\n",
    "prov_df.head()"
   ]
  },
  {
   "cell_type": "code",
   "execution_count": 30,
   "metadata": {},
   "outputs": [],
   "source": [
    "# save concatenated df\n",
    "prov_df.to_csv('provider_data.csv', index=False)"
   ]
  },
  {
   "cell_type": "code",
   "execution_count": 31,
   "metadata": {},
   "outputs": [
    {
     "data": {
      "text/plain": [
       "count    224382.000000\n",
       "mean         51.437958\n",
       "std          25.091076\n",
       "min           0.000000\n",
       "25%          32.000000\n",
       "50%          47.000000\n",
       "75%          67.000000\n",
       "max         100.000000\n",
       "Name: ratio, dtype: float64"
      ]
     },
     "execution_count": 31,
     "metadata": {},
     "output_type": "execute_result"
    }
   ],
   "source": [
    "# checking stats of ratios to get a guess on how many matches were found\n",
    "prov_df['ratio'].describe()"
   ]
  },
  {
   "cell_type": "code",
   "execution_count": 32,
   "metadata": {},
   "outputs": [
    {
     "name": "stdout",
     "output_type": "stream",
     "text": [
      "(29017, 7)\n"
     ]
    },
    {
     "data": {
      "text/html": [
       "<div>\n",
       "<style scoped>\n",
       "    .dataframe tbody tr th:only-of-type {\n",
       "        vertical-align: middle;\n",
       "    }\n",
       "\n",
       "    .dataframe tbody tr th {\n",
       "        vertical-align: top;\n",
       "    }\n",
       "\n",
       "    .dataframe thead th {\n",
       "        text-align: right;\n",
       "    }\n",
       "</style>\n",
       "<table border=\"1\" class=\"dataframe\">\n",
       "  <thead>\n",
       "    <tr style=\"text-align: right;\">\n",
       "      <th></th>\n",
       "      <th>movie_id</th>\n",
       "      <th>title</th>\n",
       "      <th>jw_id</th>\n",
       "      <th>jw_title</th>\n",
       "      <th>offer_provider_id</th>\n",
       "      <th>offer_urls</th>\n",
       "      <th>ratio</th>\n",
       "    </tr>\n",
       "  </thead>\n",
       "  <tbody>\n",
       "    <tr>\n",
       "      <td>1</td>\n",
       "      <td>1051263</td>\n",
       "      <td>Stolen Life</td>\n",
       "      <td>167298</td>\n",
       "      <td>Stolen Life</td>\n",
       "      <td>25,10,10,9</td>\n",
       "      <td>https://www.fandor.com/films/stolen_life,https...</td>\n",
       "      <td>100</td>\n",
       "    </tr>\n",
       "    <tr>\n",
       "      <td>9</td>\n",
       "      <td>10511068</td>\n",
       "      <td>Inheritance</td>\n",
       "      <td>311393</td>\n",
       "      <td>Inheritance</td>\n",
       "      <td>3,3,7,7,7,7,192,192,3,3,192,192,9,9,10,10,10,10</td>\n",
       "      <td>https://play.google.com/store/movies/details/I...</td>\n",
       "      <td>100</td>\n",
       "    </tr>\n",
       "    <tr>\n",
       "      <td>11</td>\n",
       "      <td>10514932</td>\n",
       "      <td>What Do I Do Now?</td>\n",
       "      <td>659810</td>\n",
       "      <td>What Do I Do Now?</td>\n",
       "      <td>9,9,10,10,10,10</td>\n",
       "      <td>https://www.amazon.com/gp/product/B075QVYP3H?c...</td>\n",
       "      <td>100</td>\n",
       "    </tr>\n",
       "    <tr>\n",
       "      <td>28</td>\n",
       "      <td>1051245</td>\n",
       "      <td>Moving Midway</td>\n",
       "      <td>78930</td>\n",
       "      <td>Moving Midway</td>\n",
       "      <td>2,2,191,9,9</td>\n",
       "      <td>https://itunes.apple.com/us/movie/moving-midwa...</td>\n",
       "      <td>100</td>\n",
       "    </tr>\n",
       "    <tr>\n",
       "      <td>31</td>\n",
       "      <td>1051253</td>\n",
       "      <td>The Portal</td>\n",
       "      <td>319476</td>\n",
       "      <td>The Portal</td>\n",
       "      <td>3,3,3,10,10,10,10,9,9,192,192,192,2,2,2,2,68,6...</td>\n",
       "      <td>https://play.google.com/store/movies/details/T...</td>\n",
       "      <td>100</td>\n",
       "    </tr>\n",
       "  </tbody>\n",
       "</table>\n",
       "</div>"
      ],
      "text/plain": [
       "    movie_id              title   jw_id           jw_title  \\\n",
       "1    1051263        Stolen Life  167298        Stolen Life   \n",
       "9   10511068        Inheritance  311393        Inheritance   \n",
       "11  10514932  What Do I Do Now?  659810  What Do I Do Now?   \n",
       "28   1051245      Moving Midway   78930      Moving Midway   \n",
       "31   1051253         The Portal  319476         The Portal   \n",
       "\n",
       "                                    offer_provider_id  \\\n",
       "1                                          25,10,10,9   \n",
       "9     3,3,7,7,7,7,192,192,3,3,192,192,9,9,10,10,10,10   \n",
       "11                                    9,9,10,10,10,10   \n",
       "28                                        2,2,191,9,9   \n",
       "31  3,3,3,10,10,10,10,9,9,192,192,192,2,2,2,2,68,6...   \n",
       "\n",
       "                                           offer_urls  ratio  \n",
       "1   https://www.fandor.com/films/stolen_life,https...    100  \n",
       "9   https://play.google.com/store/movies/details/I...    100  \n",
       "11  https://www.amazon.com/gp/product/B075QVYP3H?c...    100  \n",
       "28  https://itunes.apple.com/us/movie/moving-midwa...    100  \n",
       "31  https://play.google.com/store/movies/details/T...    100  "
      ]
     },
     "execution_count": 32,
     "metadata": {},
     "output_type": "execute_result"
    }
   ],
   "source": [
    "# filter down to rows with ratio > 90\n",
    "filtered_df = prov_df[prov_df['ratio'] > 90]\n",
    "print(filtered_df.shape)\n",
    "filtered_df.head()"
   ]
  },
  {
   "cell_type": "code",
   "execution_count": 33,
   "metadata": {},
   "outputs": [
    {
     "data": {
      "text/html": [
       "<div>\n",
       "<style scoped>\n",
       "    .dataframe tbody tr th:only-of-type {\n",
       "        vertical-align: middle;\n",
       "    }\n",
       "\n",
       "    .dataframe tbody tr th {\n",
       "        vertical-align: top;\n",
       "    }\n",
       "\n",
       "    .dataframe thead th {\n",
       "        text-align: right;\n",
       "    }\n",
       "</style>\n",
       "<table border=\"1\" class=\"dataframe\">\n",
       "  <thead>\n",
       "    <tr style=\"text-align: right;\">\n",
       "      <th></th>\n",
       "      <th>movie_id</th>\n",
       "      <th>title</th>\n",
       "      <th>jw_id</th>\n",
       "      <th>jw_title</th>\n",
       "      <th>offer_provider_id</th>\n",
       "      <th>offer_urls</th>\n",
       "      <th>ratio</th>\n",
       "    </tr>\n",
       "  </thead>\n",
       "  <tbody>\n",
       "    <tr>\n",
       "      <td>34760</td>\n",
       "      <td>247931</td>\n",
       "      <td>Antham</td>\n",
       "      <td>419091</td>\n",
       "      <td>Antam</td>\n",
       "      <td>218,218,9,9</td>\n",
       "      <td>https://erosnow.com/movie/watch/1065669/Antham...</td>\n",
       "      <td>91</td>\n",
       "    </tr>\n",
       "    <tr>\n",
       "      <td>38962</td>\n",
       "      <td>85900</td>\n",
       "      <td>Le marginal</td>\n",
       "      <td>42022</td>\n",
       "      <td>El marginal</td>\n",
       "      <td>8,8</td>\n",
       "      <td>http://www.netflix.com/title/80115297,http://w...</td>\n",
       "      <td>91</td>\n",
       "    </tr>\n",
       "    <tr>\n",
       "      <td>22463</td>\n",
       "      <td>4344742</td>\n",
       "      <td>Women and Sometimes Men</td>\n",
       "      <td>418028</td>\n",
       "      <td>Women &amp; Sometimes Men</td>\n",
       "      <td>191,2,2,2,2,10,10,10,10,3,192,3,3,192,192,212,...</td>\n",
       "      <td>https://www.kanopy.com/product/women-and-somet...</td>\n",
       "      <td>91</td>\n",
       "    </tr>\n",
       "    <tr>\n",
       "      <td>31613</td>\n",
       "      <td>1954796</td>\n",
       "      <td>Sahar</td>\n",
       "      <td>270987</td>\n",
       "      <td>Sahara</td>\n",
       "      <td>8,8</td>\n",
       "      <td>http://www.netflix.com/title/80161029,http://w...</td>\n",
       "      <td>91</td>\n",
       "    </tr>\n",
       "    <tr>\n",
       "      <td>20379</td>\n",
       "      <td>4150196</td>\n",
       "      <td>U.F.O</td>\n",
       "      <td>60061</td>\n",
       "      <td>U.F.O.</td>\n",
       "      <td>192,192,10,10,10,10,9,9,105,105,105,105</td>\n",
       "      <td>https://www.youtube.com/watch?v=BZ7VuxArTY4,ht...</td>\n",
       "      <td>91</td>\n",
       "    </tr>\n",
       "    <tr>\n",
       "      <td>31560</td>\n",
       "      <td>1954381</td>\n",
       "      <td>Dhada</td>\n",
       "      <td>371764</td>\n",
       "      <td>Dhadak</td>\n",
       "      <td>9</td>\n",
       "      <td>https://www.amazon.com/gp/product/B07HKC1PSZ?c...</td>\n",
       "      <td>91</td>\n",
       "    </tr>\n",
       "    <tr>\n",
       "      <td>33348</td>\n",
       "      <td>4793322</td>\n",
       "      <td>Defenders of the Faith</td>\n",
       "      <td>9543</td>\n",
       "      <td>Defenders of the Earth</td>\n",
       "      <td>9,9,10,241,300</td>\n",
       "      <td>https://www.amazon.com/gp/product/B06X9P2R5V?c...</td>\n",
       "      <td>91</td>\n",
       "    </tr>\n",
       "    <tr>\n",
       "      <td>39208</td>\n",
       "      <td>86193</td>\n",
       "      <td>Richard III</td>\n",
       "      <td>249063</td>\n",
       "      <td>Richard III</td>\n",
       "      <td>9,9</td>\n",
       "      <td>https://www.amazon.com/gp/product/B07TYJBC15?c...</td>\n",
       "      <td>91</td>\n",
       "    </tr>\n",
       "    <tr>\n",
       "      <td>13416</td>\n",
       "      <td>376296</td>\n",
       "      <td>Tramp</td>\n",
       "      <td>244134</td>\n",
       "      <td>Tramps</td>\n",
       "      <td>8,8</td>\n",
       "      <td>http://www.netflix.com/title/80146759,http://w...</td>\n",
       "      <td>91</td>\n",
       "    </tr>\n",
       "    <tr>\n",
       "      <td>24724</td>\n",
       "      <td>6459680</td>\n",
       "      <td>Danga</td>\n",
       "      <td>245671</td>\n",
       "      <td>Dangal</td>\n",
       "      <td>8,8</td>\n",
       "      <td>http://www.netflix.com/title/80166185,http://w...</td>\n",
       "      <td>91</td>\n",
       "    </tr>\n",
       "  </tbody>\n",
       "</table>\n",
       "</div>"
      ],
      "text/plain": [
       "       movie_id                    title   jw_id                jw_title  \\\n",
       "34760    247931                   Antham  419091                   Antam   \n",
       "38962     85900              Le marginal   42022             El marginal   \n",
       "22463   4344742  Women and Sometimes Men  418028   Women & Sometimes Men   \n",
       "31613   1954796                    Sahar  270987                  Sahara   \n",
       "20379   4150196                    U.F.O   60061                  U.F.O.   \n",
       "31560   1954381                    Dhada  371764                  Dhadak   \n",
       "33348   4793322   Defenders of the Faith    9543  Defenders of the Earth   \n",
       "39208     86193              Richard III  249063             Richard III   \n",
       "13416    376296                    Tramp  244134                  Tramps   \n",
       "24724   6459680                    Danga  245671                  Dangal   \n",
       "\n",
       "                                       offer_provider_id  \\\n",
       "34760                                        218,218,9,9   \n",
       "38962                                                8,8   \n",
       "22463  191,2,2,2,2,10,10,10,10,3,192,3,3,192,192,212,...   \n",
       "31613                                                8,8   \n",
       "20379            192,192,10,10,10,10,9,9,105,105,105,105   \n",
       "31560                                                  9   \n",
       "33348                                     9,9,10,241,300   \n",
       "39208                                                9,9   \n",
       "13416                                                8,8   \n",
       "24724                                                8,8   \n",
       "\n",
       "                                              offer_urls  ratio  \n",
       "34760  https://erosnow.com/movie/watch/1065669/Antham...     91  \n",
       "38962  http://www.netflix.com/title/80115297,http://w...     91  \n",
       "22463  https://www.kanopy.com/product/women-and-somet...     91  \n",
       "31613  http://www.netflix.com/title/80161029,http://w...     91  \n",
       "20379  https://www.youtube.com/watch?v=BZ7VuxArTY4,ht...     91  \n",
       "31560  https://www.amazon.com/gp/product/B07HKC1PSZ?c...     91  \n",
       "33348  https://www.amazon.com/gp/product/B06X9P2R5V?c...     91  \n",
       "39208  https://www.amazon.com/gp/product/B07TYJBC15?c...     91  \n",
       "13416  http://www.netflix.com/title/80146759,http://w...     91  \n",
       "24724  http://www.netflix.com/title/80166185,http://w...     91  "
      ]
     },
     "execution_count": 33,
     "metadata": {},
     "output_type": "execute_result"
    }
   ],
   "source": [
    "# filtered_df looks much better, lets check the worst of them\n",
    "filtered_df.sort_values(by='ratio')[:10]"
   ]
  },
  {
   "cell_type": "markdown",
   "metadata": {},
   "source": [
    "## Retrospective:\n",
    "\n",
    "`filtered_df` is looking good, but it may be cool to incorperate a user-feedback feature with these links where they vote if they are correct or not. (more advanced version would be to save a couple from each search and have the user pick which one is correct if any)"
   ]
  }
 ],
 "metadata": {
  "kernelspec": {
   "display_name": "Python 3",
   "language": "python",
   "name": "python3"
  },
  "language_info": {
   "codemirror_mode": {
    "name": "ipython",
    "version": 3
   },
   "file_extension": ".py",
   "mimetype": "text/x-python",
   "name": "python",
   "nbconvert_exporter": "python",
   "pygments_lexer": "ipython3",
   "version": "3.7.4"
  }
 },
 "nbformat": 4,
 "nbformat_minor": 4
}