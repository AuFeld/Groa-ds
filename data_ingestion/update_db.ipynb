{
 "cells": [
  {
   "cell_type": "markdown",
   "metadata": {},
   "source": [
    "# Update DB \n",
    "`get_additional_data` must be run prior (OR retrieve CSVs from google drive <a href=\"https://drive.google.com/drive/folders/1s_6b-szIrBIscnAwA6HV__kgFDCoOlpd?usp=sharing\">here</a>)\n",
    "\n",
    "This file uses CSVs generated from get_additional_data (descriptions, trailers, posters) and get_service_provider (service provider links) to update movie data in `imdb_movies` table. \n",
    "\n",
    "It may make sense to have `service_providers` as a seperate table and create a one to many relationship between the movie and their service providers. "
   ]
  },
  {
   "cell_type": "markdown",
   "metadata": {},
   "source": [
    "#### New movies table info:\n",
    "New table columns:\n",
    "`movie_id\n",
    "title_type\n",
    "primary_title\n",
    "original_title\n",
    "is_adult\n",
    "start_year\n",
    "end_year\n",
    "runtime_minutes\n",
    "genres\n",
    "poster_url\n",
    "average_rating\n",
    "num_votes\n",
    "original_language\n",
    "description\n",
    "trailer_url`\n",
    "\n",
    "New table schema:\n",
    "`\n",
    "    movie_id character varying COLLATE pg_catalog.\"default\" NOT NULL,\n",
    "    title_type character varying COLLATE pg_catalog.\"default\",\n",
    "    primary_title character varying COLLATE pg_catalog.\"default\",\n",
    "    original_title character varying COLLATE pg_catalog.\"default\",\n",
    "    is_adult boolean,\n",
    "    start_year integer,\n",
    "    end_year integer,\n",
    "    runtime_minutes integer,\n",
    "    genres character varying COLLATE pg_catalog.\"default\",\n",
    "    poster_url character varying COLLATE pg_catalog.\"default\",\n",
    "    average_rating real,\n",
    "    num_votes integer,\n",
    "    original_language character varying COLLATE pg_catalog.\"default\",\n",
    "    description character varying COLLATE pg_catalog.\"default\",\n",
    "    trailer_url character varying COLLATE pg_catalog.\"default\",\n",
    "`"
   ]
  },
  {
   "cell_type": "code",
   "execution_count": 1,
   "metadata": {},
   "outputs": [],
   "source": [
    "# imports \n",
    "import pandas as pd \n",
    "import numpy as np\n",
    "import psycopg2\n",
    "import os\n",
    "from dotenv import load_dotenv"
   ]
  },
  {
   "cell_type": "code",
   "execution_count": 2,
   "metadata": {},
   "outputs": [
    {
     "data": {
      "text/plain": [
       "True"
      ]
     },
     "execution_count": 2,
     "metadata": {},
     "output_type": "execute_result"
    }
   ],
   "source": [
    "# load .env file for keys\n",
    "load_dotenv()"
   ]
  },
  {
   "cell_type": "code",
   "execution_count": 35,
   "metadata": {},
   "outputs": [],
   "source": [
    "# create connection to new prod DB\n",
    "connection = psycopg2.connect(\n",
    "                            user=os.getenv('DB_USER'),\n",
    "                            password=os.getenv('DB_PASSWORD'),\n",
    "                            host=os.getenv('HOST'),\n",
    "                            port=os.getenv('PORT'),\n",
    "                            database=os.getenv('DB_NAME')\n",
    "                            )"
   ]
  },
  {
   "cell_type": "markdown",
   "metadata": {},
   "source": [
    "## Add descriptions to movies"
   ]
  },
  {
   "cell_type": "code",
   "execution_count": 57,
   "metadata": {},
   "outputs": [
    {
     "name": "stdout",
     "output_type": "stream",
     "text": [
      "(201352, 3)\n"
     ]
    },
    {
     "data": {
      "text/html": [
       "<div>\n",
       "<style scoped>\n",
       "    .dataframe tbody tr th:only-of-type {\n",
       "        vertical-align: middle;\n",
       "    }\n",
       "\n",
       "    .dataframe tbody tr th {\n",
       "        vertical-align: top;\n",
       "    }\n",
       "\n",
       "    .dataframe thead th {\n",
       "        text-align: right;\n",
       "    }\n",
       "</style>\n",
       "<table border=\"1\" class=\"dataframe\">\n",
       "  <thead>\n",
       "    <tr style=\"text-align: right;\">\n",
       "      <th></th>\n",
       "      <th>movie_id</th>\n",
       "      <th>tmdb_id</th>\n",
       "      <th>description</th>\n",
       "    </tr>\n",
       "  </thead>\n",
       "  <tbody>\n",
       "    <tr>\n",
       "      <td>0</td>\n",
       "      <td>1051231</td>\n",
       "      <td>31223.0</td>\n",
       "      <td>In the Hands of the Gods is the true story of ...</td>\n",
       "    </tr>\n",
       "    <tr>\n",
       "      <td>1</td>\n",
       "      <td>1051244</td>\n",
       "      <td>573815.0</td>\n",
       "      <td>A group of talented youth exploited by the hea...</td>\n",
       "    </tr>\n",
       "    <tr>\n",
       "      <td>2</td>\n",
       "      <td>10513474</td>\n",
       "      <td>639651.0</td>\n",
       "      <td>A unique chance to explore Pier Paolo Pasolini...</td>\n",
       "    </tr>\n",
       "    <tr>\n",
       "      <td>3</td>\n",
       "      <td>10515086</td>\n",
       "      <td>599672.0</td>\n",
       "      <td>A meeting with a new inmate in the psychiatric...</td>\n",
       "    </tr>\n",
       "    <tr>\n",
       "      <td>4</td>\n",
       "      <td>10515340</td>\n",
       "      <td>531678.0</td>\n",
       "      <td>A strange disease is plaguing the city. Hoping...</td>\n",
       "    </tr>\n",
       "  </tbody>\n",
       "</table>\n",
       "</div>"
      ],
      "text/plain": [
       "   movie_id   tmdb_id                                        description\n",
       "0   1051231   31223.0  In the Hands of the Gods is the true story of ...\n",
       "1   1051244  573815.0  A group of talented youth exploited by the hea...\n",
       "2  10513474  639651.0  A unique chance to explore Pier Paolo Pasolini...\n",
       "3  10515086  599672.0  A meeting with a new inmate in the psychiatric...\n",
       "4  10515340  531678.0  A strange disease is plaguing the city. Hoping..."
      ]
     },
     "execution_count": 57,
     "metadata": {},
     "output_type": "execute_result"
    }
   ],
   "source": [
    "# read in description data\n",
    "desc_df = pd.read_csv('../../data/description_results.csv', engine='python')\n",
    "print(desc_df.shape)\n",
    "desc_df.head()"
   ]
  },
  {
   "cell_type": "code",
   "execution_count": 58,
   "metadata": {},
   "outputs": [
    {
     "data": {
      "text/plain": [
       "27476"
      ]
     },
     "execution_count": 58,
     "metadata": {},
     "output_type": "execute_result"
    }
   ],
   "source": [
    "# how many null values\n",
    "desc_df['description'].isnull().sum()"
   ]
  },
  {
   "cell_type": "code",
   "execution_count": 59,
   "metadata": {},
   "outputs": [
    {
     "data": {
      "text/plain": [
       "0"
      ]
     },
     "execution_count": 59,
     "metadata": {},
     "output_type": "execute_result"
    }
   ],
   "source": [
    "# any empty strings?\n",
    "desc_df[desc_df['description'] == \"\"].shape[0]"
   ]
  },
  {
   "cell_type": "code",
   "execution_count": 60,
   "metadata": {},
   "outputs": [
    {
     "data": {
      "text/plain": [
       "(173876, 3)"
      ]
     },
     "execution_count": 60,
     "metadata": {},
     "output_type": "execute_result"
    }
   ],
   "source": [
    "# drop rows without a description\n",
    "desc_df = desc_df.dropna(subset=['description'])\n",
    "desc_df.shape"
   ]
  },
  {
   "cell_type": "code",
   "execution_count": 61,
   "metadata": {},
   "outputs": [],
   "source": [
    "# fix movie_id\n",
    "desc_df['movie_id'] = desc_df['movie_id'].astype(str)\n",
    "def fill_id(id):\n",
    "    \"\"\"Adds leading zeroes back if necessary. This makes the id match the database.\"\"\"\n",
    "    if len(str(id)) < 7:\n",
    "        length = len(str(id))\n",
    "        id = \"0\"*(7 - length) + str(id)\n",
    "    return str(id)\n",
    "\n",
    "desc_df['movie_id'] = desc_df['movie_id'].apply(fill_id)"
   ]
  },
  {
   "cell_type": "code",
   "execution_count": 62,
   "metadata": {},
   "outputs": [],
   "source": [
    "# update every movie we have a description for\n",
    "cursor = connection.cursor()\n",
    "update_query = \"UPDATE movies SET description = %s WHERE movie_id = %s;\"\n",
    "\n",
    "for movie_id, desc in desc_df[['movie_id', 'description']].values:\n",
    "    cursor.execute(update_query, (desc, movie_id))\n",
    "\n",
    "connection.commit()\n",
    "cursor.close()"
   ]
  },
  {
   "cell_type": "code",
   "execution_count": 80,
   "metadata": {},
   "outputs": [
    {
     "data": {
      "text/plain": [
       "(173876,)"
      ]
     },
     "execution_count": 80,
     "metadata": {},
     "output_type": "execute_result"
    }
   ],
   "source": [
    "# count every movie with a description\n",
    "cursor = connection.cursor()\n",
    "\n",
    "query = \"SELECT COUNT(*) FROM movies WHERE description IS NOT NULL;\"\n",
    "cursor.execute(query)\n",
    "desc_count = cursor.fetchone()\n",
    "\n",
    "cursor.close()\n",
    "desc_count"
   ]
  },
  {
   "cell_type": "code",
   "execution_count": 66,
   "metadata": {},
   "outputs": [
    {
     "data": {
      "text/plain": [
       "('1051231',\n",
       " 'In the Hands of the Gods is the true story of five young British freestyle footballers journey across the Americas to Argentina in the hope of meeting their hero, Diego Maradona. This coming-of-age road movie tells the story of a group of young men in pursuit of a lifelong dream.')"
      ]
     },
     "execution_count": 66,
     "metadata": {},
     "output_type": "execute_result"
    }
   ],
   "source": [
    "# get a test_id and desc\n",
    "test_id = desc_df['movie_id'][0]\n",
    "test_desc = desc_df['description'][0]\n",
    "test_id, test_desc"
   ]
  },
  {
   "cell_type": "code",
   "execution_count": 70,
   "metadata": {},
   "outputs": [
    {
     "name": "stdout",
     "output_type": "stream",
     "text": [
      "('1051231', 'In the Hands of the Gods is the true story of five young British freestyle footballers journey across the Americas to Argentina in the hope of meeting their hero, Diego Maradona. This coming-of-age road movie tells the story of a group of young men in pursuit of a lifelong dream.')\n"
     ]
    }
   ],
   "source": [
    "# ensure test_desc is same in DB\n",
    "cursor = connection.cursor()\n",
    "query = f\"SELECT movie_id, description FROM movies WHERE movie_id = '{test_id}';\"\n",
    "cursor.execute(query)\n",
    "print(cursor.fetchone())\n",
    "cursor.close()"
   ]
  },
  {
   "cell_type": "markdown",
   "metadata": {},
   "source": [
    "## Add trailer to movie"
   ]
  },
  {
   "cell_type": "code",
   "execution_count": 71,
   "metadata": {},
   "outputs": [
    {
     "name": "stdout",
     "output_type": "stream",
     "text": [
      "(50793, 4)\n"
     ]
    },
    {
     "data": {
      "text/html": [
       "<div>\n",
       "<style scoped>\n",
       "    .dataframe tbody tr th:only-of-type {\n",
       "        vertical-align: middle;\n",
       "    }\n",
       "\n",
       "    .dataframe tbody tr th {\n",
       "        vertical-align: top;\n",
       "    }\n",
       "\n",
       "    .dataframe thead th {\n",
       "        text-align: right;\n",
       "    }\n",
       "</style>\n",
       "<table border=\"1\" class=\"dataframe\">\n",
       "  <thead>\n",
       "    <tr style=\"text-align: right;\">\n",
       "      <th></th>\n",
       "      <th>movie_id</th>\n",
       "      <th>video_key</th>\n",
       "      <th>video_site</th>\n",
       "      <th>more_than_one</th>\n",
       "    </tr>\n",
       "  </thead>\n",
       "  <tbody>\n",
       "    <tr>\n",
       "      <td>0</td>\n",
       "      <td>1051244</td>\n",
       "      <td>ztSS7hnEviY</td>\n",
       "      <td>YouTube</td>\n",
       "      <td>False</td>\n",
       "    </tr>\n",
       "    <tr>\n",
       "      <td>1</td>\n",
       "      <td>10515086</td>\n",
       "      <td>WA2NvFSHchk</td>\n",
       "      <td>YouTube</td>\n",
       "      <td>False</td>\n",
       "    </tr>\n",
       "    <tr>\n",
       "      <td>2</td>\n",
       "      <td>10515460</td>\n",
       "      <td>HQksgesFrFY</td>\n",
       "      <td>YouTube</td>\n",
       "      <td>False</td>\n",
       "    </tr>\n",
       "    <tr>\n",
       "      <td>3</td>\n",
       "      <td>10515480</td>\n",
       "      <td>QBNKpcUOWgI</td>\n",
       "      <td>YouTube</td>\n",
       "      <td>False</td>\n",
       "    </tr>\n",
       "    <tr>\n",
       "      <td>4</td>\n",
       "      <td>1051232</td>\n",
       "      <td>k9SdzYiyG14</td>\n",
       "      <td>YouTube</td>\n",
       "      <td>False</td>\n",
       "    </tr>\n",
       "  </tbody>\n",
       "</table>\n",
       "</div>"
      ],
      "text/plain": [
       "   movie_id    video_key video_site  more_than_one\n",
       "0   1051244  ztSS7hnEviY    YouTube          False\n",
       "1  10515086  WA2NvFSHchk    YouTube          False\n",
       "2  10515460  HQksgesFrFY    YouTube          False\n",
       "3  10515480  QBNKpcUOWgI    YouTube          False\n",
       "4   1051232  k9SdzYiyG14    YouTube          False"
      ]
     },
     "execution_count": 71,
     "metadata": {},
     "output_type": "execute_result"
    }
   ],
   "source": [
    "# read in trailer data \n",
    "trailer_df = pd.read_csv('../../data/trailer_data.csv')\n",
    "print(trailer_df.shape)\n",
    "trailer_df.head()"
   ]
  },
  {
   "cell_type": "code",
   "execution_count": 72,
   "metadata": {},
   "outputs": [
    {
     "data": {
      "text/plain": [
       "movie_id         0\n",
       "video_key        0\n",
       "video_site       0\n",
       "more_than_one    0\n",
       "dtype: int64"
      ]
     },
     "execution_count": 72,
     "metadata": {},
     "output_type": "execute_result"
    }
   ],
   "source": [
    "# any null values?\n",
    "trailer_df.isnull().sum()"
   ]
  },
  {
   "cell_type": "code",
   "execution_count": 73,
   "metadata": {},
   "outputs": [
    {
     "data": {
      "text/plain": [
       "YouTube    50205\n",
       "Vimeo        588\n",
       "Name: video_site, dtype: int64"
      ]
     },
     "execution_count": 73,
     "metadata": {},
     "output_type": "execute_result"
    }
   ],
   "source": [
    "# what are the video_site values?\n",
    "trailer_df['video_site'].value_counts()"
   ]
  },
  {
   "cell_type": "code",
   "execution_count": 74,
   "metadata": {},
   "outputs": [
    {
     "data": {
      "text/plain": [
       "False    43481\n",
       "True      7312\n",
       "Name: more_than_one, dtype: int64"
      ]
     },
     "execution_count": 74,
     "metadata": {},
     "output_type": "execute_result"
    }
   ],
   "source": [
    "# how many did have more than one on TMDb\n",
    "trailer_df['more_than_one'].value_counts()"
   ]
  },
  {
   "cell_type": "code",
   "execution_count": 75,
   "metadata": {},
   "outputs": [],
   "source": [
    "# fix movie_id\n",
    "trailer_df['movie_id'] = trailer_df['movie_id'].astype(str)\n",
    "trailer_df['movie_id'] = trailer_df['movie_id'].apply(fill_id)"
   ]
  },
  {
   "cell_type": "code",
   "execution_count": 81,
   "metadata": {},
   "outputs": [],
   "source": [
    "# update every movie we have a trailer for\n",
    "cursor = connection.cursor()\n",
    "youtube_base = 'https://www.youtube.com/watch?v='\n",
    "vimeo_base = 'https://vimeo.com/'\n",
    "\n",
    "for movie_id, key, site in trailer_df[['movie_id', 'video_key', 'video_site']].values:\n",
    "    if site == 'YouTube':\n",
    "        trailer_url = youtube_base + str(key)\n",
    "    else:\n",
    "        trailer_url = vimeo_base + str(key)\n",
    "    update_query = f\"UPDATE movies SET trailer_url = '{trailer_url}' WHERE movie_id = '{movie_id}';\"\n",
    "    cursor.execute(update_query)\n",
    "\n",
    "connection.commit()\n",
    "cursor.close()"
   ]
  },
  {
   "cell_type": "code",
   "execution_count": 82,
   "metadata": {},
   "outputs": [
    {
     "data": {
      "text/plain": [
       "(50793,)"
      ]
     },
     "execution_count": 82,
     "metadata": {},
     "output_type": "execute_result"
    }
   ],
   "source": [
    "# count every movie with a trailer_url\n",
    "cursor = connection.cursor()\n",
    "\n",
    "query = \"SELECT COUNT(*) from movies WHERE trailer_url IS NOT NULL;\"\n",
    "cursor.execute(query)\n",
    "trailer_count = cursor.fetchone()\n",
    "\n",
    "cursor.close()\n",
    "trailer_count"
   ]
  },
  {
   "cell_type": "code",
   "execution_count": 89,
   "metadata": {},
   "outputs": [
    {
     "data": {
      "text/plain": [
       "('1209379', 'AHne0pCugmw')"
      ]
     },
     "execution_count": 89,
     "metadata": {},
     "output_type": "execute_result"
    }
   ],
   "source": [
    "# get test_id and key\n",
    "test_id = trailer_df['movie_id'][1000]\n",
    "test_key = trailer_df['video_key'][1000]\n",
    "test_id, test_key"
   ]
  },
  {
   "cell_type": "code",
   "execution_count": 90,
   "metadata": {},
   "outputs": [
    {
     "name": "stdout",
     "output_type": "stream",
     "text": [
      "('1209379', 'https://www.youtube.com/watch?v=AHne0pCugmw')\n"
     ]
    }
   ],
   "source": [
    "# ensure test_key is same in DB\n",
    "cursor = connection.cursor()\n",
    "query = f\"SELECT movie_id, trailer_url FROM movies WHERE movie_id = '{test_id}';\"\n",
    "cursor.execute(query)\n",
    "print(cursor.fetchone())\n",
    "cursor.close()"
   ]
  },
  {
   "cell_type": "markdown",
   "metadata": {},
   "source": [
    "## Add poster to movies that didn't have one"
   ]
  },
  {
   "cell_type": "code",
   "execution_count": 11,
   "metadata": {},
   "outputs": [
    {
     "name": "stdout",
     "output_type": "stream",
     "text": [
      "(201482, 3)\n"
     ]
    },
    {
     "data": {
      "text/html": [
       "<div>\n",
       "<style scoped>\n",
       "    .dataframe tbody tr th:only-of-type {\n",
       "        vertical-align: middle;\n",
       "    }\n",
       "\n",
       "    .dataframe tbody tr th {\n",
       "        vertical-align: top;\n",
       "    }\n",
       "\n",
       "    .dataframe thead th {\n",
       "        text-align: right;\n",
       "    }\n",
       "</style>\n",
       "<table border=\"1\" class=\"dataframe\">\n",
       "  <thead>\n",
       "    <tr style=\"text-align: right;\">\n",
       "      <th></th>\n",
       "      <th>movie_id</th>\n",
       "      <th>tmdb_id</th>\n",
       "      <th>poster_path</th>\n",
       "    </tr>\n",
       "  </thead>\n",
       "  <tbody>\n",
       "    <tr>\n",
       "      <td>0</td>\n",
       "      <td>1051259</td>\n",
       "      <td>87397</td>\n",
       "      <td>/4c27iElQGoLSlrg2uZQUANHA4aa.jpg</td>\n",
       "    </tr>\n",
       "    <tr>\n",
       "      <td>1</td>\n",
       "      <td>1051834</td>\n",
       "      <td>533781</td>\n",
       "      <td>NaN</td>\n",
       "    </tr>\n",
       "    <tr>\n",
       "      <td>2</td>\n",
       "      <td>10520386</td>\n",
       "      <td>637881</td>\n",
       "      <td>/iASQXlZqZfERdwTnBxIRpfgKrsO.jpg</td>\n",
       "    </tr>\n",
       "    <tr>\n",
       "      <td>3</td>\n",
       "      <td>1052347</td>\n",
       "      <td>201899</td>\n",
       "      <td>NaN</td>\n",
       "    </tr>\n",
       "    <tr>\n",
       "      <td>4</td>\n",
       "      <td>10519798</td>\n",
       "      <td>676343</td>\n",
       "      <td>NaN</td>\n",
       "    </tr>\n",
       "  </tbody>\n",
       "</table>\n",
       "</div>"
      ],
      "text/plain": [
       "   movie_id  tmdb_id                       poster_path\n",
       "0   1051259    87397  /4c27iElQGoLSlrg2uZQUANHA4aa.jpg\n",
       "1   1051834   533781                               NaN\n",
       "2  10520386   637881  /iASQXlZqZfERdwTnBxIRpfgKrsO.jpg\n",
       "3   1052347   201899                               NaN\n",
       "4  10519798   676343                               NaN"
      ]
     },
     "execution_count": 11,
     "metadata": {},
     "output_type": "execute_result"
    }
   ],
   "source": [
    "# read in poster data \n",
    "poster_df = pd.read_csv('../../data/poster_data.csv')\n",
    "print(poster_df.shape)\n",
    "poster_df.head()"
   ]
  },
  {
   "cell_type": "code",
   "execution_count": 12,
   "metadata": {},
   "outputs": [
    {
     "data": {
      "text/plain": [
       "77522"
      ]
     },
     "execution_count": 12,
     "metadata": {},
     "output_type": "execute_result"
    }
   ],
   "source": [
    "# how many null poster_paths?\n",
    "poster_df['poster_path'].isnull().sum()"
   ]
  },
  {
   "cell_type": "code",
   "execution_count": 13,
   "metadata": {},
   "outputs": [
    {
     "data": {
      "text/plain": [
       "(123960, 3)"
      ]
     },
     "execution_count": 13,
     "metadata": {},
     "output_type": "execute_result"
    }
   ],
   "source": [
    "# drop those rows\n",
    "poster_df = poster_df.dropna(subset=['poster_path'])\n",
    "poster_df.shape"
   ]
  },
  {
   "cell_type": "code",
   "execution_count": 16,
   "metadata": {},
   "outputs": [],
   "source": [
    "# fix movie_id\n",
    "poster_df['movie_id'] = poster_df['movie_id'].astype(str)\n",
    "poster_df['movie_id'] = poster_df['movie_id'].apply(fill_id)"
   ]
  },
  {
   "cell_type": "code",
   "execution_count": 9,
   "metadata": {},
   "outputs": [
    {
     "data": {
      "text/plain": [
       "(183087,)"
      ]
     },
     "execution_count": 9,
     "metadata": {},
     "output_type": "execute_result"
    }
   ],
   "source": [
    "# count every movie with a poster_path before update\n",
    "cursor = connection.cursor()\n",
    "\n",
    "query = \"SELECT COUNT(*) from movies WHERE poster_url IS NOT NULL;\"\n",
    "cursor.execute(query)\n",
    "poster_count = cursor.fetchone()\n",
    "\n",
    "cursor.close()\n",
    "poster_count"
   ]
  },
  {
   "cell_type": "code",
   "execution_count": 17,
   "metadata": {},
   "outputs": [],
   "source": [
    "# update every movie we have a poster for\n",
    "cursor = connection.cursor()\n",
    "base_query = \"UPDATE movies SET poster_url = %s WHERE movie_id = %s;\"\n",
    "\n",
    "for movie_id, poster_path in poster_df[['movie_id', 'poster_path']].values:\n",
    "    cursor.execute(base_query, (poster_path, movie_id))\n",
    "\n",
    "connection.commit()\n",
    "cursor.close()"
   ]
  },
  {
   "cell_type": "code",
   "execution_count": 21,
   "metadata": {},
   "outputs": [
    {
     "data": {
      "text/plain": [
       "(194343,)"
      ]
     },
     "execution_count": 21,
     "metadata": {},
     "output_type": "execute_result"
    }
   ],
   "source": [
    "# count every movie with a poster_path after update\n",
    "cursor = connection.cursor()\n",
    "\n",
    "query = \"SELECT COUNT(*) from movies WHERE poster_url IS NOT NULL;\"\n",
    "cursor.execute(query)\n",
    "poster_count = cursor.fetchone()\n",
    "\n",
    "cursor.close()\n",
    "poster_count"
   ]
  },
  {
   "cell_type": "markdown",
   "metadata": {},
   "source": [
    "## Add providers to DB"
   ]
  },
  {
   "cell_type": "code",
   "execution_count": 12,
   "metadata": {},
   "outputs": [],
   "source": [
    "from justwatch import JustWatch\n",
    "# make justwatch instance\n",
    "just_watch = JustWatch(country='US')"
   ]
  },
  {
   "cell_type": "code",
   "execution_count": 13,
   "metadata": {},
   "outputs": [
    {
     "data": {
      "text/plain": [
       "((8, 'Netflix'), 49)"
      ]
     },
     "execution_count": 13,
     "metadata": {},
     "output_type": "execute_result"
    }
   ],
   "source": [
    "# make providers list to narrow search\n",
    "provider_details = just_watch.get_providers()\n",
    "providers = []\n",
    "\n",
    "for provider in provider_details:\n",
    "    if len(provider['data']['deeplink_data']) > 0:\n",
    "        providers.append((\n",
    "            provider['id'], \n",
    "            provider['clear_name']\n",
    "        ))\n",
    "\n",
    "providers[0], len(providers)"
   ]
  },
  {
   "cell_type": "code",
   "execution_count": 10,
   "metadata": {},
   "outputs": [
    {
     "data": {
      "text/plain": [
       "(0,)"
      ]
     },
     "execution_count": 10,
     "metadata": {},
     "output_type": "execute_result"
    }
   ],
   "source": [
    "# count every provider before adding to DB\n",
    "cursor = connection.cursor()\n",
    "\n",
    "query = \"SELECT COUNT(*) from providers;\"\n",
    "cursor.execute(query)\n",
    "provider_count = cursor.fetchone()\n",
    "\n",
    "cursor.close()\n",
    "provider_count"
   ]
  },
  {
   "cell_type": "code",
   "execution_count": 14,
   "metadata": {},
   "outputs": [],
   "source": [
    "# add all providers\n",
    "query = \"INSERT INTO providers (provider_id, name) VALUES (%s, %s);\"\n",
    "cursor = connection.cursor()\n",
    "\n",
    "for prov in providers:\n",
    "    cursor.execute(query, (prov[0], prov[1]))\n",
    "\n",
    "connection.commit()\n",
    "cursor.close()"
   ]
  },
  {
   "cell_type": "code",
   "execution_count": 15,
   "metadata": {},
   "outputs": [
    {
     "data": {
      "text/plain": [
       "(49,)"
      ]
     },
     "execution_count": 15,
     "metadata": {},
     "output_type": "execute_result"
    }
   ],
   "source": [
    "# count every provider after adding to DB\n",
    "cursor = connection.cursor()\n",
    "\n",
    "query = \"SELECT COUNT(*) from providers;\"\n",
    "cursor.execute(query)\n",
    "provider_count = cursor.fetchone()\n",
    "\n",
    "cursor.close()\n",
    "provider_count"
   ]
  },
  {
   "cell_type": "code",
   "execution_count": 18,
   "metadata": {},
   "outputs": [
    {
     "data": {
      "text/plain": [
       "(8, 'Netflix')"
      ]
     },
     "execution_count": 18,
     "metadata": {},
     "output_type": "execute_result"
    }
   ],
   "source": [
    "# make sure ids are correct, will use netflix to test\n",
    "cursor = connection.cursor()\n",
    "\n",
    "query = \"SELECT provider_id, name from providers WHERE name = 'Netflix';\"\n",
    "cursor.execute(query, 'Netflix')\n",
    "netflix_id = cursor.fetchone()\n",
    "\n",
    "cursor.close()\n",
    "netflix_id"
   ]
  },
  {
   "cell_type": "code",
   "execution_count": 31,
   "metadata": {},
   "outputs": [
    {
     "data": {
      "text/plain": [
       "(8,)"
      ]
     },
     "execution_count": 31,
     "metadata": {},
     "output_type": "execute_result"
    }
   ],
   "source": [
    "# creat an our_provider_ids to check against ids in df\n",
    "cursor = connection.cursor()\n",
    "\n",
    "query = \"SELECT provider_id from providers;\"\n",
    "cursor.execute(query)\n",
    "our_provider_ids = cursor.fetchall()\n",
    "\n",
    "cursor.close()\n",
    "our_provider_ids[0]"
   ]
  },
  {
   "cell_type": "code",
   "execution_count": 32,
   "metadata": {},
   "outputs": [
    {
     "data": {
      "text/plain": [
       "8"
      ]
     },
     "execution_count": 32,
     "metadata": {},
     "output_type": "execute_result"
    }
   ],
   "source": [
    "# clean up \n",
    "for idx, provider in enumerate(our_provider_ids):\n",
    "    our_provider_ids[idx] = provider[0]\n",
    "\n",
    "our_provider_ids[0]"
   ]
  },
  {
   "cell_type": "markdown",
   "metadata": {},
   "source": [
    "## Add service provider links to movies"
   ]
  },
  {
   "cell_type": "code",
   "execution_count": 6,
   "metadata": {},
   "outputs": [
    {
     "name": "stdout",
     "output_type": "stream",
     "text": [
      "(217219, 9)\n"
     ]
    },
    {
     "data": {
      "text/html": [
       "<div>\n",
       "<style scoped>\n",
       "    .dataframe tbody tr th:only-of-type {\n",
       "        vertical-align: middle;\n",
       "    }\n",
       "\n",
       "    .dataframe tbody tr th {\n",
       "        vertical-align: top;\n",
       "    }\n",
       "\n",
       "    .dataframe thead th {\n",
       "        text-align: right;\n",
       "    }\n",
       "</style>\n",
       "<table border=\"1\" class=\"dataframe\">\n",
       "  <thead>\n",
       "    <tr style=\"text-align: right;\">\n",
       "      <th></th>\n",
       "      <th>movie_id</th>\n",
       "      <th>title</th>\n",
       "      <th>jw_id</th>\n",
       "      <th>jw_title</th>\n",
       "      <th>offer_provider_id</th>\n",
       "      <th>offer_urls</th>\n",
       "      <th>presentation_types</th>\n",
       "      <th>monetization_type</th>\n",
       "      <th>ratio</th>\n",
       "    </tr>\n",
       "  </thead>\n",
       "  <tbody>\n",
       "    <tr>\n",
       "      <td>0</td>\n",
       "      <td>1051320</td>\n",
       "      <td>La cantatrice chauve</td>\n",
       "      <td>81030</td>\n",
       "      <td>The Golden Compass</td>\n",
       "      <td>7,7,7,7,3,3,192,192,10,10,10,10,358,358,2,2,2,...</td>\n",
       "      <td>https://www.vudu.com/content/movies/details/Th...</td>\n",
       "      <td>sd,sd,hd,hd,hd,hd,hd,hd,hd,sd,hd,sd,hd,hd,hd,s...</td>\n",
       "      <td>rent,buy,buy,rent,rent,buy,buy,rent,rent,rent,...</td>\n",
       "      <td>26</td>\n",
       "    </tr>\n",
       "    <tr>\n",
       "      <td>1</td>\n",
       "      <td>10513286</td>\n",
       "      <td>Historia de mi nombre</td>\n",
       "      <td>403709</td>\n",
       "      <td>Marriage Story</td>\n",
       "      <td>8,8,8</td>\n",
       "      <td>http://www.netflix.com/title/80223779,http://w...</td>\n",
       "      <td>hd,sd,4k</td>\n",
       "      <td>flatrate,flatrate,flatrate</td>\n",
       "      <td>40</td>\n",
       "    </tr>\n",
       "    <tr>\n",
       "      <td>2</td>\n",
       "      <td>1051403</td>\n",
       "      <td>Whiskey and Water</td>\n",
       "      <td>78787</td>\n",
       "      <td>Water Lilies</td>\n",
       "      <td>9,9,258,258</td>\n",
       "      <td>https://www.amazon.com/gp/product/B004POVM2W?c...</td>\n",
       "      <td>hd,sd,hd,sd</td>\n",
       "      <td>flatrate,flatrate,flatrate,flatrate</td>\n",
       "      <td>34</td>\n",
       "    </tr>\n",
       "    <tr>\n",
       "      <td>3</td>\n",
       "      <td>10514608</td>\n",
       "      <td>Daniel, Debra, Leslie (and You?)</td>\n",
       "      <td>684228</td>\n",
       "      <td>Geek, and You Shall Find</td>\n",
       "      <td>2,2,2,2,7,7,7,7,10,10,10,10,3,192,3,192,3,192,...</td>\n",
       "      <td>https://itunes.apple.com/us/movie/geek-and-you...</td>\n",
       "      <td>sd,hd,sd,hd,sd,hd,sd,hd,hd,sd,hd,sd,hd,hd,sd,s...</td>\n",
       "      <td>buy,rent,rent,buy,buy,rent,rent,buy,buy,buy,re...</td>\n",
       "      <td>39</td>\n",
       "    </tr>\n",
       "    <tr>\n",
       "      <td>4</td>\n",
       "      <td>10514932</td>\n",
       "      <td>What Do I Do Now?</td>\n",
       "      <td>538893</td>\n",
       "      <td>What the Night Can Do</td>\n",
       "      <td>10,10,10,10,73</td>\n",
       "      <td>https://www.amazon.com/gp/product/B083MSWV48?c...</td>\n",
       "      <td>sd,hd,sd,hd,sd</td>\n",
       "      <td>buy,rent,rent,buy,ads</td>\n",
       "      <td>53</td>\n",
       "    </tr>\n",
       "  </tbody>\n",
       "</table>\n",
       "</div>"
      ],
      "text/plain": [
       "   movie_id                             title   jw_id  \\\n",
       "0   1051320              La cantatrice chauve   81030   \n",
       "1  10513286             Historia de mi nombre  403709   \n",
       "2   1051403                 Whiskey and Water   78787   \n",
       "3  10514608  Daniel, Debra, Leslie (and You?)  684228   \n",
       "4  10514932                 What Do I Do Now?  538893   \n",
       "\n",
       "                   jw_title  \\\n",
       "0        The Golden Compass   \n",
       "1            Marriage Story   \n",
       "2              Water Lilies   \n",
       "3  Geek, and You Shall Find   \n",
       "4     What the Night Can Do   \n",
       "\n",
       "                                   offer_provider_id  \\\n",
       "0  7,7,7,7,3,3,192,192,10,10,10,10,358,358,2,2,2,...   \n",
       "1                                              8,8,8   \n",
       "2                                        9,9,258,258   \n",
       "3  2,2,2,2,7,7,7,7,10,10,10,10,3,192,3,192,3,192,...   \n",
       "4                                     10,10,10,10,73   \n",
       "\n",
       "                                          offer_urls  \\\n",
       "0  https://www.vudu.com/content/movies/details/Th...   \n",
       "1  http://www.netflix.com/title/80223779,http://w...   \n",
       "2  https://www.amazon.com/gp/product/B004POVM2W?c...   \n",
       "3  https://itunes.apple.com/us/movie/geek-and-you...   \n",
       "4  https://www.amazon.com/gp/product/B083MSWV48?c...   \n",
       "\n",
       "                                  presentation_types  \\\n",
       "0  sd,sd,hd,hd,hd,hd,hd,hd,hd,sd,hd,sd,hd,hd,hd,s...   \n",
       "1                                           hd,sd,4k   \n",
       "2                                        hd,sd,hd,sd   \n",
       "3  sd,hd,sd,hd,sd,hd,sd,hd,hd,sd,hd,sd,hd,hd,sd,s...   \n",
       "4                                     sd,hd,sd,hd,sd   \n",
       "\n",
       "                                   monetization_type  ratio  \n",
       "0  rent,buy,buy,rent,rent,buy,buy,rent,rent,rent,...     26  \n",
       "1                         flatrate,flatrate,flatrate     40  \n",
       "2                flatrate,flatrate,flatrate,flatrate     34  \n",
       "3  buy,rent,rent,buy,buy,rent,rent,buy,buy,buy,re...     39  \n",
       "4                              buy,rent,rent,buy,ads     53  "
      ]
     },
     "execution_count": 6,
     "metadata": {},
     "output_type": "execute_result"
    }
   ],
   "source": [
    "# if multiple files\n",
    "# prov_df1 = pd.read_csv('provider_data_0_100k.csv')\n",
    "# prov_df2 = pd.read_csv('provider_data_100k_200k.csv')\n",
    "# prov_df3 = pd.read_csv('provider_data_200k_on.csv')\n",
    "# provider_df = pd.concat([prov_df1, prov_df2, prov_df3])\n",
    "# if one file\n",
    "provider_df = pd.read_csv('provider_data.csv')\n",
    "print(provider_df.shape)\n",
    "provider_df.head()"
   ]
  },
  {
   "cell_type": "markdown",
   "metadata": {},
   "source": [
    "We need to filter out rows with `ratio` values less than 90 because it is very likely it is not the correct movie if less than that."
   ]
  },
  {
   "cell_type": "code",
   "execution_count": 7,
   "metadata": {},
   "outputs": [
    {
     "name": "stdout",
     "output_type": "stream",
     "text": [
      "(40589, 9)\n"
     ]
    },
    {
     "data": {
      "text/html": [
       "<div>\n",
       "<style scoped>\n",
       "    .dataframe tbody tr th:only-of-type {\n",
       "        vertical-align: middle;\n",
       "    }\n",
       "\n",
       "    .dataframe tbody tr th {\n",
       "        vertical-align: top;\n",
       "    }\n",
       "\n",
       "    .dataframe thead th {\n",
       "        text-align: right;\n",
       "    }\n",
       "</style>\n",
       "<table border=\"1\" class=\"dataframe\">\n",
       "  <thead>\n",
       "    <tr style=\"text-align: right;\">\n",
       "      <th></th>\n",
       "      <th>movie_id</th>\n",
       "      <th>title</th>\n",
       "      <th>jw_id</th>\n",
       "      <th>jw_title</th>\n",
       "      <th>offer_provider_id</th>\n",
       "      <th>offer_urls</th>\n",
       "      <th>presentation_types</th>\n",
       "      <th>monetization_type</th>\n",
       "      <th>ratio</th>\n",
       "    </tr>\n",
       "  </thead>\n",
       "  <tbody>\n",
       "    <tr>\n",
       "      <td>67</td>\n",
       "      <td>10532840</td>\n",
       "      <td>Who Killed Garrett Phillips?</td>\n",
       "      <td>818172</td>\n",
       "      <td>Who Killed Garrett Phillips?</td>\n",
       "      <td>31,31,27,27,358,68,68,10,10,7,7,192,192,3,3,2,2</td>\n",
       "      <td>http://play.hbogo.com/feature/urn:hbo:feature:...</td>\n",
       "      <td>hd,sd,hd,sd,hd,hd,sd,hd,sd,hd,sd,hd,sd,hd,sd,h...</td>\n",
       "      <td>flatrate,flatrate,flatrate,flatrate,flatrate,b...</td>\n",
       "      <td>100</td>\n",
       "    </tr>\n",
       "    <tr>\n",
       "      <td>84</td>\n",
       "      <td>1053818</td>\n",
       "      <td>Butch Jamie</td>\n",
       "      <td>252612</td>\n",
       "      <td>Butch Jamie</td>\n",
       "      <td>10,10,10,10,191</td>\n",
       "      <td>https://www.amazon.com/gp/product/B01N8X0B2Q?c...</td>\n",
       "      <td>hd,sd,hd,sd,sd</td>\n",
       "      <td>buy,buy,rent,rent,flatrate</td>\n",
       "      <td>100</td>\n",
       "    </tr>\n",
       "    <tr>\n",
       "      <td>205</td>\n",
       "      <td>1056433</td>\n",
       "      <td>My Monster Mom</td>\n",
       "      <td>221135</td>\n",
       "      <td>My Monster Mom</td>\n",
       "      <td>9,9,10,10</td>\n",
       "      <td>https://www.amazon.com/gp/product/B076C6N4QZ?c...</td>\n",
       "      <td>hd,sd,sd,sd</td>\n",
       "      <td>flatrate,flatrate,rent,buy</td>\n",
       "      <td>100</td>\n",
       "    </tr>\n",
       "    <tr>\n",
       "      <td>240</td>\n",
       "      <td>1056441</td>\n",
       "      <td>Tru Loved</td>\n",
       "      <td>28075</td>\n",
       "      <td>Tru Loved</td>\n",
       "      <td>10,10</td>\n",
       "      <td>https://www.amazon.com/gp/product/B07KXVBDZ9?c...</td>\n",
       "      <td>sd,sd</td>\n",
       "      <td>buy,rent</td>\n",
       "      <td>100</td>\n",
       "    </tr>\n",
       "    <tr>\n",
       "      <td>247</td>\n",
       "      <td>10579944</td>\n",
       "      <td>Brexit Behind Closed Doors</td>\n",
       "      <td>811212</td>\n",
       "      <td>Brexit: Behind Closed Doors</td>\n",
       "      <td>10,10,10,10,2,2,2,2,192,192,192,3,3,3,9,9</td>\n",
       "      <td>https://www.amazon.com/gp/product/B07TCYLB6F?c...</td>\n",
       "      <td>hd,sd,hd,sd,hd,sd,hd,sd,hd,hd,sd,hd,hd,sd,sd,hd</td>\n",
       "      <td>buy,buy,rent,rent,buy,buy,rent,rent,rent,buy,b...</td>\n",
       "      <td>98</td>\n",
       "    </tr>\n",
       "  </tbody>\n",
       "</table>\n",
       "</div>"
      ],
      "text/plain": [
       "     movie_id                         title   jw_id  \\\n",
       "67   10532840  Who Killed Garrett Phillips?  818172   \n",
       "84    1053818                   Butch Jamie  252612   \n",
       "205   1056433                My Monster Mom  221135   \n",
       "240   1056441                     Tru Loved   28075   \n",
       "247  10579944    Brexit Behind Closed Doors  811212   \n",
       "\n",
       "                         jw_title  \\\n",
       "67   Who Killed Garrett Phillips?   \n",
       "84                    Butch Jamie   \n",
       "205                My Monster Mom   \n",
       "240                     Tru Loved   \n",
       "247   Brexit: Behind Closed Doors   \n",
       "\n",
       "                                   offer_provider_id  \\\n",
       "67   31,31,27,27,358,68,68,10,10,7,7,192,192,3,3,2,2   \n",
       "84                                   10,10,10,10,191   \n",
       "205                                        9,9,10,10   \n",
       "240                                            10,10   \n",
       "247        10,10,10,10,2,2,2,2,192,192,192,3,3,3,9,9   \n",
       "\n",
       "                                            offer_urls  \\\n",
       "67   http://play.hbogo.com/feature/urn:hbo:feature:...   \n",
       "84   https://www.amazon.com/gp/product/B01N8X0B2Q?c...   \n",
       "205  https://www.amazon.com/gp/product/B076C6N4QZ?c...   \n",
       "240  https://www.amazon.com/gp/product/B07KXVBDZ9?c...   \n",
       "247  https://www.amazon.com/gp/product/B07TCYLB6F?c...   \n",
       "\n",
       "                                    presentation_types  \\\n",
       "67   hd,sd,hd,sd,hd,hd,sd,hd,sd,hd,sd,hd,sd,hd,sd,h...   \n",
       "84                                      hd,sd,hd,sd,sd   \n",
       "205                                        hd,sd,sd,sd   \n",
       "240                                              sd,sd   \n",
       "247    hd,sd,hd,sd,hd,sd,hd,sd,hd,hd,sd,hd,hd,sd,sd,hd   \n",
       "\n",
       "                                     monetization_type  ratio  \n",
       "67   flatrate,flatrate,flatrate,flatrate,flatrate,b...    100  \n",
       "84                          buy,buy,rent,rent,flatrate    100  \n",
       "205                         flatrate,flatrate,rent,buy    100  \n",
       "240                                           buy,rent    100  \n",
       "247  buy,buy,rent,rent,buy,buy,rent,rent,rent,buy,b...     98  "
      ]
     },
     "execution_count": 7,
     "metadata": {},
     "output_type": "execute_result"
    }
   ],
   "source": [
    "filtered_df = provider_df[provider_df['ratio'] > 90]\n",
    "print(filtered_df.shape)\n",
    "filtered_df.head()"
   ]
  },
  {
   "cell_type": "code",
   "execution_count": 8,
   "metadata": {},
   "outputs": [],
   "source": [
    "def fill_id(id):\n",
    "    \"\"\"Adds leading zeroes back if necessary. This makes the id match the database.\"\"\"\n",
    "    if len(str(id)) < 7:\n",
    "        length = len(str(id))\n",
    "        id = \"0\"*(7 - length) + str(id)\n",
    "    return str(id)"
   ]
  },
  {
   "cell_type": "code",
   "execution_count": 9,
   "metadata": {},
   "outputs": [],
   "source": [
    "# fix movie_id\n",
    "prov_df = filtered_df.copy()\n",
    "prov_df['movie_id'] = prov_df['movie_id'].astype(str)\n",
    "prov_df['movie_id'] = prov_df['movie_id'].apply(fill_id)"
   ]
  },
  {
   "cell_type": "code",
   "execution_count": 36,
   "metadata": {},
   "outputs": [
    {
     "data": {
      "text/plain": [
       "(0,)"
      ]
     },
     "execution_count": 36,
     "metadata": {},
     "output_type": "execute_result"
    }
   ],
   "source": [
    "# count every movie_provider before update\n",
    "cursor = connection.cursor()\n",
    "\n",
    "query = \"SELECT COUNT(*) from movie_providers;\"\n",
    "cursor.execute(query)\n",
    "mov_prov_count = cursor.fetchone()\n",
    "\n",
    "cursor.close()\n",
    "mov_prov_count"
   ]
  },
  {
   "cell_type": "code",
   "execution_count": 48,
   "metadata": {},
   "outputs": [],
   "source": [
    "# add all providers\n",
    "cursor = connection.cursor()\n",
    "query = \"\"\"\n",
    "INSERT INTO movie_providers \n",
    "(movie_id, provider_id, provider_movie_url, presentation_type, monetization_type)\n",
    "VALUES (%s, %s, %s, %s, %s);\"\"\"\n",
    "random_provider_ids = []\n",
    "counter = 0\n",
    "\n",
    "for movie in prov_df.values:\n",
    "    provider_ids = movie[4].split(',')\n",
    "    urls = movie[5].split(',')\n",
    "    pres_types = movie[6].split(',')\n",
    "    mon_types = movie[7].split(',')\n",
    "    for i in range(len(provider_ids)):\n",
    "        counter += 1\n",
    "        if counter >= 39355:\n",
    "            try:\n",
    "                if int(provider_ids[i]) in our_provider_ids:\n",
    "                    cursor.execute(\n",
    "                        query, \n",
    "                        (movie[0], provider_ids[i], urls[i], pres_types[i], mon_types[i]))\n",
    "                else:\n",
    "                    random_provider_ids.append(provider_ids[i])\n",
    "            except:\n",
    "                pass\n",
    "\n",
    "connection.commit()\n",
    "cursor.close()"
   ]
  },
  {
   "cell_type": "code",
   "execution_count": 50,
   "metadata": {},
   "outputs": [
    {
     "data": {
      "text/plain": [
       "610461"
      ]
     },
     "execution_count": 50,
     "metadata": {},
     "output_type": "execute_result"
    }
   ],
   "source": [
    "counter"
   ]
  },
  {
   "cell_type": "code",
   "execution_count": 49,
   "metadata": {},
   "outputs": [
    {
     "data": {
      "text/plain": [
       "(436084,)"
      ]
     },
     "execution_count": 49,
     "metadata": {},
     "output_type": "execute_result"
    }
   ],
   "source": [
    "# count every movie_provider after update\n",
    "cursor = connection.cursor()\n",
    "\n",
    "query = \"SELECT COUNT(*) from movie_providers;\"\n",
    "cursor.execute(query)\n",
    "mov_prov_count = cursor.fetchone()\n",
    "\n",
    "cursor.close()\n",
    "mov_prov_count"
   ]
  },
  {
   "cell_type": "code",
   "execution_count": 24,
   "metadata": {},
   "outputs": [
    {
     "data": {
      "text/html": [
       "<div>\n",
       "<style scoped>\n",
       "    .dataframe tbody tr th:only-of-type {\n",
       "        vertical-align: middle;\n",
       "    }\n",
       "\n",
       "    .dataframe tbody tr th {\n",
       "        vertical-align: top;\n",
       "    }\n",
       "\n",
       "    .dataframe thead th {\n",
       "        text-align: right;\n",
       "    }\n",
       "</style>\n",
       "<table border=\"1\" class=\"dataframe\">\n",
       "  <thead>\n",
       "    <tr style=\"text-align: right;\">\n",
       "      <th></th>\n",
       "      <th>title</th>\n",
       "      <th>jw_title</th>\n",
       "      <th>ratio</th>\n",
       "    </tr>\n",
       "  </thead>\n",
       "  <tbody>\n",
       "    <tr>\n",
       "      <td>121519</td>\n",
       "      <td>U.F.O</td>\n",
       "      <td>U.F.O.</td>\n",
       "      <td>91</td>\n",
       "    </tr>\n",
       "    <tr>\n",
       "      <td>47695</td>\n",
       "      <td>To Each Their Own</td>\n",
       "      <td>To Each, Her Own</td>\n",
       "      <td>91</td>\n",
       "    </tr>\n",
       "    <tr>\n",
       "      <td>117169</td>\n",
       "      <td>Shake, Rattle &amp; Rock!</td>\n",
       "      <td>Shake, Rattle and Rock!</td>\n",
       "      <td>91</td>\n",
       "    </tr>\n",
       "    <tr>\n",
       "      <td>180245</td>\n",
       "      <td>Il Generale Della Rovere</td>\n",
       "      <td>General Della Rovere</td>\n",
       "      <td>91</td>\n",
       "    </tr>\n",
       "    <tr>\n",
       "      <td>209898</td>\n",
       "      <td>An American Girl on the Home Front</td>\n",
       "      <td>Molly: An American Girl on the Home Front</td>\n",
       "      <td>91</td>\n",
       "    </tr>\n",
       "    <tr>\n",
       "      <td>91800</td>\n",
       "      <td>Stoned Bros</td>\n",
       "      <td>Stone Bros.</td>\n",
       "      <td>91</td>\n",
       "    </tr>\n",
       "    <tr>\n",
       "      <td>201123</td>\n",
       "      <td>Female Prisoner Scorpion: #701's Grudge Song</td>\n",
       "      <td>Female Prisoner Scorpion: Grudge Song</td>\n",
       "      <td>91</td>\n",
       "    </tr>\n",
       "    <tr>\n",
       "      <td>132064</td>\n",
       "      <td>Blame</td>\n",
       "      <td>Blame!</td>\n",
       "      <td>91</td>\n",
       "    </tr>\n",
       "    <tr>\n",
       "      <td>162318</td>\n",
       "      <td>Shake, Rattle &amp; Roll 9</td>\n",
       "      <td>Shake, Rattle and Roll 9</td>\n",
       "      <td>91</td>\n",
       "    </tr>\n",
       "    <tr>\n",
       "      <td>201460</td>\n",
       "      <td>Mirror Mirror 4: Reflections</td>\n",
       "      <td>Mirror, Mirror IV: Reflection</td>\n",
       "      <td>91</td>\n",
       "    </tr>\n",
       "    <tr>\n",
       "      <td>157266</td>\n",
       "      <td>The Latin Divas of Comedy</td>\n",
       "      <td>Latin Divas Of Comedy</td>\n",
       "      <td>91</td>\n",
       "    </tr>\n",
       "    <tr>\n",
       "      <td>4119</td>\n",
       "      <td>We Need to Talk About Kieran</td>\n",
       "      <td>We Need to Talk About Kevin</td>\n",
       "      <td>91</td>\n",
       "    </tr>\n",
       "    <tr>\n",
       "      <td>141046</td>\n",
       "      <td>Raphael - Lord of the Arts</td>\n",
       "      <td>Raphael: The Lord of the Arts</td>\n",
       "      <td>91</td>\n",
       "    </tr>\n",
       "    <tr>\n",
       "      <td>131714</td>\n",
       "      <td>Hail, Mafia</td>\n",
       "      <td>Hail! Mafia</td>\n",
       "      <td>91</td>\n",
       "    </tr>\n",
       "    <tr>\n",
       "      <td>54306</td>\n",
       "      <td>Yaktin Beni</td>\n",
       "      <td>Yaktın Beni</td>\n",
       "      <td>91</td>\n",
       "    </tr>\n",
       "    <tr>\n",
       "      <td>171255</td>\n",
       "      <td>Squad Goals</td>\n",
       "      <td>#SquadGoals</td>\n",
       "      <td>91</td>\n",
       "    </tr>\n",
       "    <tr>\n",
       "      <td>201759</td>\n",
       "      <td>Someone Like You</td>\n",
       "      <td>Someone Like You...</td>\n",
       "      <td>91</td>\n",
       "    </tr>\n",
       "    <tr>\n",
       "      <td>89033</td>\n",
       "      <td>Passpartù: Operazione Doppiozero</td>\n",
       "      <td>Passpartu’ - Operazione Doppiozero</td>\n",
       "      <td>91</td>\n",
       "    </tr>\n",
       "    <tr>\n",
       "      <td>170536</td>\n",
       "      <td>Bomba</td>\n",
       "      <td>Bombay</td>\n",
       "      <td>91</td>\n",
       "    </tr>\n",
       "    <tr>\n",
       "      <td>192482</td>\n",
       "      <td>American Citizen</td>\n",
       "      <td>An American Citizen</td>\n",
       "      <td>91</td>\n",
       "    </tr>\n",
       "  </tbody>\n",
       "</table>\n",
       "</div>"
      ],
      "text/plain": [
       "                                               title  \\\n",
       "121519                                         U.F.O   \n",
       "47695                              To Each Their Own   \n",
       "117169                         Shake, Rattle & Rock!   \n",
       "180245                      Il Generale Della Rovere   \n",
       "209898            An American Girl on the Home Front   \n",
       "91800                                    Stoned Bros   \n",
       "201123  Female Prisoner Scorpion: #701's Grudge Song   \n",
       "132064                                         Blame   \n",
       "162318                        Shake, Rattle & Roll 9   \n",
       "201460                  Mirror Mirror 4: Reflections   \n",
       "157266                     The Latin Divas of Comedy   \n",
       "4119                    We Need to Talk About Kieran   \n",
       "141046                    Raphael - Lord of the Arts   \n",
       "131714                                   Hail, Mafia   \n",
       "54306                                    Yaktin Beni   \n",
       "171255                                   Squad Goals   \n",
       "201759                              Someone Like You   \n",
       "89033               Passpartù: Operazione Doppiozero   \n",
       "170536                                         Bomba   \n",
       "192482                              American Citizen   \n",
       "\n",
       "                                         jw_title  ratio  \n",
       "121519                                     U.F.O.     91  \n",
       "47695                            To Each, Her Own     91  \n",
       "117169                    Shake, Rattle and Rock!     91  \n",
       "180245                       General Della Rovere     91  \n",
       "209898  Molly: An American Girl on the Home Front     91  \n",
       "91800                                 Stone Bros.     91  \n",
       "201123      Female Prisoner Scorpion: Grudge Song     91  \n",
       "132064                                     Blame!     91  \n",
       "162318                   Shake, Rattle and Roll 9     91  \n",
       "201460              Mirror, Mirror IV: Reflection     91  \n",
       "157266                      Latin Divas Of Comedy     91  \n",
       "4119                  We Need to Talk About Kevin     91  \n",
       "141046              Raphael: The Lord of the Arts     91  \n",
       "131714                                Hail! Mafia     91  \n",
       "54306                                 Yaktın Beni     91  \n",
       "171255                                #SquadGoals     91  \n",
       "201759                        Someone Like You...     91  \n",
       "89033          Passpartu’ - Operazione Doppiozero     91  \n",
       "170536                                     Bombay     91  \n",
       "192482                        An American Citizen     91  "
      ]
     },
     "execution_count": 24,
     "metadata": {},
     "output_type": "execute_result"
    }
   ],
   "source": [
    "prov_df[['title', 'jw_title', 'ratio']].sort_values(by='ratio')[:20]"
   ]
  },
  {
   "cell_type": "markdown",
   "metadata": {},
   "source": [
    "`offer_provider_id` and `offer_urls` are string deliminated sequences. We can use the JustWatch API to get the provider details of each ID and the URLs will be saved to be linked on the movie detail page. There is other info we could've saved to better differentiate between the values with the same provider_id on the same movie. From what I saw it seems some are HD while some are SD, as well as some of the monetization types differ resulting in repeats of the same provider. \n",
    "\n",
    "We will probably want to filter out most service providers (other than Netflix, Amazon, and Hulu) because some are not popular enough to justify displaying theirs on the webpage. "
   ]
  }
 ],
 "metadata": {
  "kernelspec": {
   "display_name": "Python 3",
   "language": "python",
   "name": "python3"
  },
  "language_info": {
   "codemirror_mode": {
    "name": "ipython",
    "version": 3
   },
   "file_extension": ".py",
   "mimetype": "text/x-python",
   "name": "python",
   "nbconvert_exporter": "python",
   "pygments_lexer": "ipython3",
   "version": "3.7.4"
  }
 },
 "nbformat": 4,
 "nbformat_minor": 4
}
