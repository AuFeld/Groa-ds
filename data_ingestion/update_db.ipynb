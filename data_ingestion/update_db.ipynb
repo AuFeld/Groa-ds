{
 "cells": [
  {
   "cell_type": "markdown",
   "metadata": {},
   "source": [
    "# Update DB \n",
    "`get_additional_data must be run prior (OR retrieve CSVs from google drive: )\n",
    "This file uses CSVs generated from get_additional_data (descriptions, trailers, posters) and get_service_provider (service provider links) to update movie data in `imdb_movies` table. \n",
    "\n",
    "It may make sense to have `service_providers` as a seperate table and create a one to many relationship between the movie and their service providers. "
   ]
  },
  {
   "cell_type": "code",
   "execution_count": 2,
   "metadata": {},
   "outputs": [],
   "source": [
    "# imports \n",
    "import pandas as pd \n",
    "import psycopg2"
   ]
  },
  {
   "cell_type": "code",
   "execution_count": 3,
   "metadata": {},
   "outputs": [],
   "source": [
    "# create connection to prod DB\n",
    "connection = psycopg2.connect(\n",
    "    user=\"postgres\",\n",
    "    password=\"lambdaschoolgroa\",\n",
    "    host=\"groadb-dev.cbayt2opbptw.us-east-1.rds.amazonaws.com\",\n",
    "    port=\"5432\",\n",
    "    database=\"postgres\")"
   ]
  },
  {
   "cell_type": "markdown",
   "metadata": {},
   "source": [
    "## Add descriptions to movies"
   ]
  },
  {
   "cell_type": "code",
   "execution_count": 6,
   "metadata": {},
   "outputs": [
    {
     "name": "stdout",
     "output_type": "stream",
     "text": [
      "(201352, 3)\n"
     ]
    },
    {
     "data": {
      "text/html": [
       "<div>\n",
       "<style scoped>\n",
       "    .dataframe tbody tr th:only-of-type {\n",
       "        vertical-align: middle;\n",
       "    }\n",
       "\n",
       "    .dataframe tbody tr th {\n",
       "        vertical-align: top;\n",
       "    }\n",
       "\n",
       "    .dataframe thead th {\n",
       "        text-align: right;\n",
       "    }\n",
       "</style>\n",
       "<table border=\"1\" class=\"dataframe\">\n",
       "  <thead>\n",
       "    <tr style=\"text-align: right;\">\n",
       "      <th></th>\n",
       "      <th>movie_id</th>\n",
       "      <th>tmdb_id</th>\n",
       "      <th>description</th>\n",
       "    </tr>\n",
       "  </thead>\n",
       "  <tbody>\n",
       "    <tr>\n",
       "      <td>0</td>\n",
       "      <td>1051231</td>\n",
       "      <td>31223.0</td>\n",
       "      <td>In the Hands of the Gods is the true story of ...</td>\n",
       "    </tr>\n",
       "    <tr>\n",
       "      <td>1</td>\n",
       "      <td>1051244</td>\n",
       "      <td>573815.0</td>\n",
       "      <td>A group of talented youth exploited by the hea...</td>\n",
       "    </tr>\n",
       "    <tr>\n",
       "      <td>2</td>\n",
       "      <td>10513474</td>\n",
       "      <td>639651.0</td>\n",
       "      <td>A unique chance to explore Pier Paolo Pasolini...</td>\n",
       "    </tr>\n",
       "    <tr>\n",
       "      <td>3</td>\n",
       "      <td>10515086</td>\n",
       "      <td>599672.0</td>\n",
       "      <td>A meeting with a new inmate in the psychiatric...</td>\n",
       "    </tr>\n",
       "    <tr>\n",
       "      <td>4</td>\n",
       "      <td>10515340</td>\n",
       "      <td>531678.0</td>\n",
       "      <td>A strange disease is plaguing the city. Hoping...</td>\n",
       "    </tr>\n",
       "  </tbody>\n",
       "</table>\n",
       "</div>"
      ],
      "text/plain": [
       "   movie_id   tmdb_id                                        description\n",
       "0   1051231   31223.0  In the Hands of the Gods is the true story of ...\n",
       "1   1051244  573815.0  A group of talented youth exploited by the hea...\n",
       "2  10513474  639651.0  A unique chance to explore Pier Paolo Pasolini...\n",
       "3  10515086  599672.0  A meeting with a new inmate in the psychiatric...\n",
       "4  10515340  531678.0  A strange disease is plaguing the city. Hoping..."
      ]
     },
     "execution_count": 6,
     "metadata": {},
     "output_type": "execute_result"
    }
   ],
   "source": [
    "# read in description data\n",
    "desc_df = pd.read_csv('description_results.csv', engine='python')\n",
    "print(desc_df.shape)\n",
    "desc_df.head()"
   ]
  },
  {
   "cell_type": "code",
   "execution_count": 7,
   "metadata": {},
   "outputs": [
    {
     "data": {
      "text/plain": [
       "27476"
      ]
     },
     "execution_count": 7,
     "metadata": {},
     "output_type": "execute_result"
    }
   ],
   "source": [
    "# how many null values\n",
    "desc_df['description'].isnull().sum()"
   ]
  },
  {
   "cell_type": "code",
   "execution_count": 8,
   "metadata": {},
   "outputs": [
    {
     "data": {
      "text/plain": [
       "0"
      ]
     },
     "execution_count": 8,
     "metadata": {},
     "output_type": "execute_result"
    }
   ],
   "source": [
    "# any empty strings?\n",
    "desc_df[desc_df['description'] == \"\"].shape[0]"
   ]
  },
  {
   "cell_type": "code",
   "execution_count": 9,
   "metadata": {},
   "outputs": [
    {
     "data": {
      "text/plain": [
       "(173876, 3)"
      ]
     },
     "execution_count": 9,
     "metadata": {},
     "output_type": "execute_result"
    }
   ],
   "source": [
    "# drop rows without a description\n",
    "desc_df = desc_df.dropna(subset=['description'])\n",
    "desc_df.shape"
   ]
  },
  {
   "cell_type": "code",
   "execution_count": 14,
   "metadata": {},
   "outputs": [
    {
     "name": "stdout",
     "output_type": "stream",
     "text": [
      "UPDATE imdb_movies SET description = 'In the Hands of the Gods is the true story of five young British freestyle footballers journey across the Americas to Argentina in the hope of meeting their hero, Diego Maradona. This coming-of-age road movie tells the story of a group of young men in pursuit of a lifelong dream.' WHERE movie_id = 1051231;\n"
     ]
    }
   ],
   "source": [
    "# update every movie we have a description for\n",
    "# cursor = connection.cursor()\n",
    "\n",
    "for movie_id, desc in desc_df[['movie_id', 'description']].values:\n",
    "    query = f\"UPDATE imdb_movies SET description = '{desc}' WHERE movie_id = {movie_id};\"\n",
    "    print(query)\n",
    "    break\n",
    "#     cursor.execute(query)\n",
    "\n",
    "# connection.commit()\n",
    "# cursor.close()"
   ]
  },
  {
   "cell_type": "code",
   "execution_count": null,
   "metadata": {},
   "outputs": [],
   "source": [
    "# count every movie with a description\n",
    "cursor = connection.cursor()\n",
    "\n",
    "query = \"SELECT COUNT(*) from imdb_movies WHERE description IS NOT NULL;\"\n",
    "cursor.execute(query)\n",
    "desc_count = cursor.fetchone()\n",
    "\n",
    "cursor.close()\n",
    "desc_count"
   ]
  },
  {
   "cell_type": "markdown",
   "metadata": {},
   "source": [
    "## Add trailer to movie"
   ]
  },
  {
   "cell_type": "code",
   "execution_count": 4,
   "metadata": {},
   "outputs": [
    {
     "name": "stdout",
     "output_type": "stream",
     "text": [
      "(50793, 4)\n"
     ]
    },
    {
     "data": {
      "text/html": [
       "<div>\n",
       "<style scoped>\n",
       "    .dataframe tbody tr th:only-of-type {\n",
       "        vertical-align: middle;\n",
       "    }\n",
       "\n",
       "    .dataframe tbody tr th {\n",
       "        vertical-align: top;\n",
       "    }\n",
       "\n",
       "    .dataframe thead th {\n",
       "        text-align: right;\n",
       "    }\n",
       "</style>\n",
       "<table border=\"1\" class=\"dataframe\">\n",
       "  <thead>\n",
       "    <tr style=\"text-align: right;\">\n",
       "      <th></th>\n",
       "      <th>movie_id</th>\n",
       "      <th>video_key</th>\n",
       "      <th>video_site</th>\n",
       "      <th>more_than_one</th>\n",
       "    </tr>\n",
       "  </thead>\n",
       "  <tbody>\n",
       "    <tr>\n",
       "      <td>0</td>\n",
       "      <td>1051244</td>\n",
       "      <td>ztSS7hnEviY</td>\n",
       "      <td>YouTube</td>\n",
       "      <td>False</td>\n",
       "    </tr>\n",
       "    <tr>\n",
       "      <td>1</td>\n",
       "      <td>10515086</td>\n",
       "      <td>WA2NvFSHchk</td>\n",
       "      <td>YouTube</td>\n",
       "      <td>False</td>\n",
       "    </tr>\n",
       "    <tr>\n",
       "      <td>2</td>\n",
       "      <td>10515460</td>\n",
       "      <td>HQksgesFrFY</td>\n",
       "      <td>YouTube</td>\n",
       "      <td>False</td>\n",
       "    </tr>\n",
       "    <tr>\n",
       "      <td>3</td>\n",
       "      <td>10515480</td>\n",
       "      <td>QBNKpcUOWgI</td>\n",
       "      <td>YouTube</td>\n",
       "      <td>False</td>\n",
       "    </tr>\n",
       "    <tr>\n",
       "      <td>4</td>\n",
       "      <td>1051232</td>\n",
       "      <td>k9SdzYiyG14</td>\n",
       "      <td>YouTube</td>\n",
       "      <td>False</td>\n",
       "    </tr>\n",
       "  </tbody>\n",
       "</table>\n",
       "</div>"
      ],
      "text/plain": [
       "   movie_id    video_key video_site  more_than_one\n",
       "0   1051244  ztSS7hnEviY    YouTube          False\n",
       "1  10515086  WA2NvFSHchk    YouTube          False\n",
       "2  10515460  HQksgesFrFY    YouTube          False\n",
       "3  10515480  QBNKpcUOWgI    YouTube          False\n",
       "4   1051232  k9SdzYiyG14    YouTube          False"
      ]
     },
     "execution_count": 4,
     "metadata": {},
     "output_type": "execute_result"
    }
   ],
   "source": [
    "# read in trailer data \n",
    "trailer_df = pd.read_csv('trailer_data.csv')\n",
    "print(trailer_df.shape)\n",
    "trailer_df.head()"
   ]
  },
  {
   "cell_type": "code",
   "execution_count": 15,
   "metadata": {},
   "outputs": [
    {
     "data": {
      "text/plain": [
       "movie_id         0\n",
       "video_key        0\n",
       "video_site       0\n",
       "more_than_one    0\n",
       "dtype: int64"
      ]
     },
     "execution_count": 15,
     "metadata": {},
     "output_type": "execute_result"
    }
   ],
   "source": [
    "# any null values?\n",
    "trailer_df.isnull().sum()"
   ]
  },
  {
   "cell_type": "code",
   "execution_count": 16,
   "metadata": {},
   "outputs": [
    {
     "data": {
      "text/plain": [
       "YouTube    50205\n",
       "Vimeo        588\n",
       "Name: video_site, dtype: int64"
      ]
     },
     "execution_count": 16,
     "metadata": {},
     "output_type": "execute_result"
    }
   ],
   "source": [
    "# what are the video_site values?\n",
    "trailer_df['video_site'].value_counts()"
   ]
  },
  {
   "cell_type": "code",
   "execution_count": 17,
   "metadata": {},
   "outputs": [
    {
     "data": {
      "text/plain": [
       "False    43481\n",
       "True      7312\n",
       "Name: more_than_one, dtype: int64"
      ]
     },
     "execution_count": 17,
     "metadata": {},
     "output_type": "execute_result"
    }
   ],
   "source": [
    "# how many did have more than one on TMDb\n",
    "trailer_df['more_than_one'].value_counts()"
   ]
  },
  {
   "cell_type": "code",
   "execution_count": 18,
   "metadata": {},
   "outputs": [
    {
     "name": "stdout",
     "output_type": "stream",
     "text": [
      "UPDATE imdb_movies SET video_key = 'ztSS7hnEviY', video_site = 'YouTube' WHERE movie_id = 1051244;\n"
     ]
    }
   ],
   "source": [
    "# update every movie we have a trailer for\n",
    "# cursor = connection.cursor()\n",
    "\n",
    "for movie_id, key, site in trailer_df[['movie_id', 'video_key', 'video_site']].values:\n",
    "    query = f\"UPDATE imdb_movies SET video_key = '{key}', video_site = '{site}' WHERE movie_id = {movie_id};\"\n",
    "    print(query)\n",
    "    break\n",
    "#     cursor.execute(query)\n",
    "\n",
    "# connection.commit()\n",
    "# cursor.close()"
   ]
  },
  {
   "cell_type": "markdown",
   "metadata": {},
   "source": [
    "## Add poster to movies that didn't have one"
   ]
  },
  {
   "cell_type": "code",
   "execution_count": 19,
   "metadata": {},
   "outputs": [
    {
     "name": "stdout",
     "output_type": "stream",
     "text": [
      "(60252, 3)\n"
     ]
    },
    {
     "data": {
      "text/html": [
       "<div>\n",
       "<style scoped>\n",
       "    .dataframe tbody tr th:only-of-type {\n",
       "        vertical-align: middle;\n",
       "    }\n",
       "\n",
       "    .dataframe tbody tr th {\n",
       "        vertical-align: top;\n",
       "    }\n",
       "\n",
       "    .dataframe thead th {\n",
       "        text-align: right;\n",
       "    }\n",
       "</style>\n",
       "<table border=\"1\" class=\"dataframe\">\n",
       "  <thead>\n",
       "    <tr style=\"text-align: right;\">\n",
       "      <th></th>\n",
       "      <th>movie_id</th>\n",
       "      <th>tmdb_id</th>\n",
       "      <th>poster_path</th>\n",
       "    </tr>\n",
       "  </thead>\n",
       "  <tbody>\n",
       "    <tr>\n",
       "      <td>0</td>\n",
       "      <td>1051231</td>\n",
       "      <td>31223</td>\n",
       "      <td>NaN</td>\n",
       "    </tr>\n",
       "    <tr>\n",
       "      <td>1</td>\n",
       "      <td>1051704</td>\n",
       "      <td>636806</td>\n",
       "      <td>NaN</td>\n",
       "    </tr>\n",
       "    <tr>\n",
       "      <td>2</td>\n",
       "      <td>1051245</td>\n",
       "      <td>120528</td>\n",
       "      <td>NaN</td>\n",
       "    </tr>\n",
       "    <tr>\n",
       "      <td>3</td>\n",
       "      <td>1051226</td>\n",
       "      <td>41255</td>\n",
       "      <td>/85PnTI5NknwbOabekq30kqisMPX.jpg</td>\n",
       "    </tr>\n",
       "    <tr>\n",
       "      <td>4</td>\n",
       "      <td>1051834</td>\n",
       "      <td>533781</td>\n",
       "      <td>NaN</td>\n",
       "    </tr>\n",
       "  </tbody>\n",
       "</table>\n",
       "</div>"
      ],
      "text/plain": [
       "   movie_id  tmdb_id                       poster_path\n",
       "0   1051231    31223                               NaN\n",
       "1   1051704   636806                               NaN\n",
       "2   1051245   120528                               NaN\n",
       "3   1051226    41255  /85PnTI5NknwbOabekq30kqisMPX.jpg\n",
       "4   1051834   533781                               NaN"
      ]
     },
     "execution_count": 19,
     "metadata": {},
     "output_type": "execute_result"
    }
   ],
   "source": [
    "# read in poster data \n",
    "poster_df = pd.read_csv('poster_data.csv')\n",
    "print(poster_df.shape)\n",
    "poster_df.head()"
   ]
  },
  {
   "cell_type": "code",
   "execution_count": 20,
   "metadata": {},
   "outputs": [
    {
     "data": {
      "text/plain": [
       "55371"
      ]
     },
     "execution_count": 20,
     "metadata": {},
     "output_type": "execute_result"
    }
   ],
   "source": [
    "# how many null poster_paths?\n",
    "poster_df['poster_path'].isnull().sum()"
   ]
  },
  {
   "cell_type": "code",
   "execution_count": 21,
   "metadata": {},
   "outputs": [
    {
     "data": {
      "text/plain": [
       "(4881, 3)"
      ]
     },
     "execution_count": 21,
     "metadata": {},
     "output_type": "execute_result"
    }
   ],
   "source": [
    "# drop those rows\n",
    "poster_df = poster_df.dropna(subset=['poster_path'])\n",
    "poster_df.shape"
   ]
  },
  {
   "cell_type": "code",
   "execution_count": 22,
   "metadata": {},
   "outputs": [
    {
     "name": "stdout",
     "output_type": "stream",
     "text": [
      "UPDATE imdb_movies SET poster_path = '/85PnTI5NknwbOabekq30kqisMPX.jpg' WHERE movie_id = 1051226;\n"
     ]
    }
   ],
   "source": [
    "# update every movie we have a poster for\n",
    "# cursor = connection.cursor()\n",
    "\n",
    "for movie_id, poster_path in poster_df[['movie_id', 'poster_path']].values:\n",
    "    query = f\"UPDATE imdb_movies SET poster_path = '{poster_path}' WHERE movie_id = {movie_id};\"\n",
    "    print(query)\n",
    "    break\n",
    "#     cursor.execute(query)\n",
    "\n",
    "# connection.commit()\n",
    "# cursor.close()"
   ]
  },
  {
   "cell_type": "markdown",
   "metadata": {},
   "source": [
    "## Add service provider links to movies"
   ]
  },
  {
   "cell_type": "code",
   "execution_count": 4,
   "metadata": {},
   "outputs": [
    {
     "name": "stdout",
     "output_type": "stream",
     "text": [
      "(224382, 7)\n"
     ]
    },
    {
     "data": {
      "text/html": [
       "<div>\n",
       "<style scoped>\n",
       "    .dataframe tbody tr th:only-of-type {\n",
       "        vertical-align: middle;\n",
       "    }\n",
       "\n",
       "    .dataframe tbody tr th {\n",
       "        vertical-align: top;\n",
       "    }\n",
       "\n",
       "    .dataframe thead th {\n",
       "        text-align: right;\n",
       "    }\n",
       "</style>\n",
       "<table border=\"1\" class=\"dataframe\">\n",
       "  <thead>\n",
       "    <tr style=\"text-align: right;\">\n",
       "      <th></th>\n",
       "      <th>movie_id</th>\n",
       "      <th>title</th>\n",
       "      <th>jw_id</th>\n",
       "      <th>jw_title</th>\n",
       "      <th>offer_provider_id</th>\n",
       "      <th>offer_urls</th>\n",
       "      <th>ratio</th>\n",
       "    </tr>\n",
       "  </thead>\n",
       "  <tbody>\n",
       "    <tr>\n",
       "      <td>0</td>\n",
       "      <td>1051262</td>\n",
       "      <td>The Stalker Within</td>\n",
       "      <td>309961</td>\n",
       "      <td>The Evil Within</td>\n",
       "      <td>7,7,7,7,192,3,3,192,3,192,9,9,10,10,10,10,3,19...</td>\n",
       "      <td>https://www.vudu.com/content/movies/details/Th...</td>\n",
       "      <td>73</td>\n",
       "    </tr>\n",
       "    <tr>\n",
       "      <td>1</td>\n",
       "      <td>1051263</td>\n",
       "      <td>Stolen Life</td>\n",
       "      <td>167298</td>\n",
       "      <td>Stolen Life</td>\n",
       "      <td>25,10,10,9</td>\n",
       "      <td>https://www.fandor.com/films/stolen_life,https...</td>\n",
       "      <td>100</td>\n",
       "    </tr>\n",
       "    <tr>\n",
       "      <td>2</td>\n",
       "      <td>10513072</td>\n",
       "      <td>Don't Date Your Sister</td>\n",
       "      <td>434938</td>\n",
       "      <td>Don't Open Your Eyes</td>\n",
       "      <td>10,10,10,10,2,2,2,2,12,9,9</td>\n",
       "      <td>https://www.amazon.com/gp/product/B07H4T4NQ2?c...</td>\n",
       "      <td>67</td>\n",
       "    </tr>\n",
       "    <tr>\n",
       "      <td>3</td>\n",
       "      <td>1051320</td>\n",
       "      <td>La cantatrice chauve</td>\n",
       "      <td>23259</td>\n",
       "      <td>La Bamba</td>\n",
       "      <td>7,7,7,7,3,3,192,192,279,279,279,279,10,10,10,1...</td>\n",
       "      <td>https://www.vudu.com/content/movies/details/La...</td>\n",
       "      <td>36</td>\n",
       "    </tr>\n",
       "    <tr>\n",
       "      <td>4</td>\n",
       "      <td>10513286</td>\n",
       "      <td>Historia de mi nombre</td>\n",
       "      <td>403709</td>\n",
       "      <td>Marriage Story</td>\n",
       "      <td>8,8,8</td>\n",
       "      <td>http://www.netflix.com/title/80223779,http://w...</td>\n",
       "      <td>40</td>\n",
       "    </tr>\n",
       "  </tbody>\n",
       "</table>\n",
       "</div>"
      ],
      "text/plain": [
       "   movie_id                   title   jw_id              jw_title  \\\n",
       "0   1051262      The Stalker Within  309961       The Evil Within   \n",
       "1   1051263             Stolen Life  167298           Stolen Life   \n",
       "2  10513072  Don't Date Your Sister  434938  Don't Open Your Eyes   \n",
       "3   1051320    La cantatrice chauve   23259              La Bamba   \n",
       "4  10513286   Historia de mi nombre  403709        Marriage Story   \n",
       "\n",
       "                                   offer_provider_id  \\\n",
       "0  7,7,7,7,192,3,3,192,3,192,9,9,10,10,10,10,3,19...   \n",
       "1                                         25,10,10,9   \n",
       "2                         10,10,10,10,2,2,2,2,12,9,9   \n",
       "3  7,7,7,7,3,3,192,192,279,279,279,279,10,10,10,1...   \n",
       "4                                              8,8,8   \n",
       "\n",
       "                                          offer_urls  ratio  \n",
       "0  https://www.vudu.com/content/movies/details/Th...     73  \n",
       "1  https://www.fandor.com/films/stolen_life,https...    100  \n",
       "2  https://www.amazon.com/gp/product/B07H4T4NQ2?c...     67  \n",
       "3  https://www.vudu.com/content/movies/details/La...     36  \n",
       "4  http://www.netflix.com/title/80223779,http://w...     40  "
      ]
     },
     "execution_count": 4,
     "metadata": {},
     "output_type": "execute_result"
    }
   ],
   "source": [
    "provider_df = pd.read_csv('provider_data.csv')\n",
    "print(provider_df.shape)\n",
    "provider_df.head()"
   ]
  },
  {
   "cell_type": "markdown",
   "metadata": {},
   "source": [
    "We need to filter out rows with `ratio` values less than 90 because it is very likely it is not the correct movie if less than that."
   ]
  },
  {
   "cell_type": "code",
   "execution_count": 5,
   "metadata": {},
   "outputs": [
    {
     "name": "stdout",
     "output_type": "stream",
     "text": [
      "(29017, 7)\n"
     ]
    },
    {
     "data": {
      "text/html": [
       "<div>\n",
       "<style scoped>\n",
       "    .dataframe tbody tr th:only-of-type {\n",
       "        vertical-align: middle;\n",
       "    }\n",
       "\n",
       "    .dataframe tbody tr th {\n",
       "        vertical-align: top;\n",
       "    }\n",
       "\n",
       "    .dataframe thead th {\n",
       "        text-align: right;\n",
       "    }\n",
       "</style>\n",
       "<table border=\"1\" class=\"dataframe\">\n",
       "  <thead>\n",
       "    <tr style=\"text-align: right;\">\n",
       "      <th></th>\n",
       "      <th>movie_id</th>\n",
       "      <th>title</th>\n",
       "      <th>jw_id</th>\n",
       "      <th>jw_title</th>\n",
       "      <th>offer_provider_id</th>\n",
       "      <th>offer_urls</th>\n",
       "      <th>ratio</th>\n",
       "    </tr>\n",
       "  </thead>\n",
       "  <tbody>\n",
       "    <tr>\n",
       "      <td>1</td>\n",
       "      <td>1051263</td>\n",
       "      <td>Stolen Life</td>\n",
       "      <td>167298</td>\n",
       "      <td>Stolen Life</td>\n",
       "      <td>25,10,10,9</td>\n",
       "      <td>https://www.fandor.com/films/stolen_life,https...</td>\n",
       "      <td>100</td>\n",
       "    </tr>\n",
       "    <tr>\n",
       "      <td>9</td>\n",
       "      <td>10511068</td>\n",
       "      <td>Inheritance</td>\n",
       "      <td>311393</td>\n",
       "      <td>Inheritance</td>\n",
       "      <td>3,3,7,7,7,7,192,192,3,3,192,192,9,9,10,10,10,10</td>\n",
       "      <td>https://play.google.com/store/movies/details/I...</td>\n",
       "      <td>100</td>\n",
       "    </tr>\n",
       "    <tr>\n",
       "      <td>11</td>\n",
       "      <td>10514932</td>\n",
       "      <td>What Do I Do Now?</td>\n",
       "      <td>659810</td>\n",
       "      <td>What Do I Do Now?</td>\n",
       "      <td>9,9,10,10,10,10</td>\n",
       "      <td>https://www.amazon.com/gp/product/B075QVYP3H?c...</td>\n",
       "      <td>100</td>\n",
       "    </tr>\n",
       "    <tr>\n",
       "      <td>28</td>\n",
       "      <td>1051245</td>\n",
       "      <td>Moving Midway</td>\n",
       "      <td>78930</td>\n",
       "      <td>Moving Midway</td>\n",
       "      <td>2,2,191,9,9</td>\n",
       "      <td>https://itunes.apple.com/us/movie/moving-midwa...</td>\n",
       "      <td>100</td>\n",
       "    </tr>\n",
       "    <tr>\n",
       "      <td>31</td>\n",
       "      <td>1051253</td>\n",
       "      <td>The Portal</td>\n",
       "      <td>319476</td>\n",
       "      <td>The Portal</td>\n",
       "      <td>3,3,3,10,10,10,10,9,9,192,192,192,2,2,2,2,68,6...</td>\n",
       "      <td>https://play.google.com/store/movies/details/T...</td>\n",
       "      <td>100</td>\n",
       "    </tr>\n",
       "  </tbody>\n",
       "</table>\n",
       "</div>"
      ],
      "text/plain": [
       "    movie_id              title   jw_id           jw_title  \\\n",
       "1    1051263        Stolen Life  167298        Stolen Life   \n",
       "9   10511068        Inheritance  311393        Inheritance   \n",
       "11  10514932  What Do I Do Now?  659810  What Do I Do Now?   \n",
       "28   1051245      Moving Midway   78930      Moving Midway   \n",
       "31   1051253         The Portal  319476         The Portal   \n",
       "\n",
       "                                    offer_provider_id  \\\n",
       "1                                          25,10,10,9   \n",
       "9     3,3,7,7,7,7,192,192,3,3,192,192,9,9,10,10,10,10   \n",
       "11                                    9,9,10,10,10,10   \n",
       "28                                        2,2,191,9,9   \n",
       "31  3,3,3,10,10,10,10,9,9,192,192,192,2,2,2,2,68,6...   \n",
       "\n",
       "                                           offer_urls  ratio  \n",
       "1   https://www.fandor.com/films/stolen_life,https...    100  \n",
       "9   https://play.google.com/store/movies/details/I...    100  \n",
       "11  https://www.amazon.com/gp/product/B075QVYP3H?c...    100  \n",
       "28  https://itunes.apple.com/us/movie/moving-midwa...    100  \n",
       "31  https://play.google.com/store/movies/details/T...    100  "
      ]
     },
     "execution_count": 5,
     "metadata": {},
     "output_type": "execute_result"
    }
   ],
   "source": [
    "filtered_df = provider_df[provider_df['ratio'] > 90]\n",
    "print(filtered_df.shape)\n",
    "filtered_df.head()"
   ]
  },
  {
   "cell_type": "markdown",
   "metadata": {},
   "source": [
    "`offer_provider_id` and `offer_urls` are string deliminated sequences. We can use the JustWatch API to get the provider details of each ID and the URLs will be saved to be linked on the movie detail page. There is other info we could've saved to better differentiate between the values with the same provider_id on the same movie. From what I saw it seems some are HD while some are SD, as well as some of the monetization types differ resulting in repeats of the same provider. \n",
    "\n",
    "We will probably want to filter out most service providers (other than Netflix, Amazon, and Hulu) because some are not popular enough to justify displaying theirs on the webpage. "
   ]
  }
 ],
 "metadata": {
  "kernelspec": {
   "display_name": "Python 3",
   "language": "python",
   "name": "python3"
  },
  "language_info": {
   "codemirror_mode": {
    "name": "ipython",
    "version": 3
   },
   "file_extension": ".py",
   "mimetype": "text/x-python",
   "name": "python",
   "nbconvert_exporter": "python",
   "pygments_lexer": "ipython3",
   "version": "3.7.4"
  }
 },
 "nbformat": 4,
 "nbformat_minor": 4
}
