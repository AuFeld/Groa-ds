{
 "cells": [
  {
   "cell_type": "markdown",
   "metadata": {},
   "source": [
    "# Update DB \n",
    "`get_additional_data` must be run prior (OR retrieve CSVs from google drive <a href=\"https://drive.google.com/drive/folders/1s_6b-szIrBIscnAwA6HV__kgFDCoOlpd?usp=sharing\">here</a>)\n",
    "\n",
    "This file uses CSVs generated from get_additional_data (descriptions, trailers, posters) and get_service_provider (service provider links) to update movie data in `imdb_movies` table. \n",
    "\n",
    "It may make sense to have `service_providers` as a seperate table and create a one to many relationship between the movie and their service providers. "
   ]
  },
  {
   "cell_type": "code",
   "execution_count": 1,
   "metadata": {},
   "outputs": [],
   "source": [
    "# imports \n",
    "import pandas as pd \n",
    "import numpy as np\n",
    "import psycopg2\n",
    "import os\n",
    "from dotenv import load_dotenv"
   ]
  },
  {
   "cell_type": "code",
   "execution_count": 5,
   "metadata": {},
   "outputs": [
    {
     "data": {
      "text/plain": [
       "True"
      ]
     },
     "execution_count": 5,
     "metadata": {},
     "output_type": "execute_result"
    }
   ],
   "source": [
    "# load .env file for keys\n",
    "load_dotenv()"
   ]
  },
  {
   "cell_type": "code",
   "execution_count": 20,
   "metadata": {},
   "outputs": [],
   "source": [
    "# create connection to prod DB\n",
    "connection = psycopg2.connect(\n",
    "                            user=os.getenv('DB_USER'),\n",
    "                            password=os.getenv('DB_PASSWORD'),\n",
    "                            host=os.getenv('HOST'),\n",
    "                            port=os.getenv('PORT'),\n",
    "                            database=os.getenv('DB_NAME')\n",
    "                            )"
   ]
  },
  {
   "cell_type": "markdown",
   "metadata": {},
   "source": [
    "## Add descriptions to movies"
   ]
  },
  {
   "cell_type": "code",
   "execution_count": 57,
   "metadata": {},
   "outputs": [
    {
     "name": "stdout",
     "output_type": "stream",
     "text": [
      "(201352, 3)\n"
     ]
    },
    {
     "data": {
      "text/html": [
       "<div>\n",
       "<style scoped>\n",
       "    .dataframe tbody tr th:only-of-type {\n",
       "        vertical-align: middle;\n",
       "    }\n",
       "\n",
       "    .dataframe tbody tr th {\n",
       "        vertical-align: top;\n",
       "    }\n",
       "\n",
       "    .dataframe thead th {\n",
       "        text-align: right;\n",
       "    }\n",
       "</style>\n",
       "<table border=\"1\" class=\"dataframe\">\n",
       "  <thead>\n",
       "    <tr style=\"text-align: right;\">\n",
       "      <th></th>\n",
       "      <th>movie_id</th>\n",
       "      <th>tmdb_id</th>\n",
       "      <th>description</th>\n",
       "    </tr>\n",
       "  </thead>\n",
       "  <tbody>\n",
       "    <tr>\n",
       "      <td>0</td>\n",
       "      <td>1051231</td>\n",
       "      <td>31223.0</td>\n",
       "      <td>In the Hands of the Gods is the true story of ...</td>\n",
       "    </tr>\n",
       "    <tr>\n",
       "      <td>1</td>\n",
       "      <td>1051244</td>\n",
       "      <td>573815.0</td>\n",
       "      <td>A group of talented youth exploited by the hea...</td>\n",
       "    </tr>\n",
       "    <tr>\n",
       "      <td>2</td>\n",
       "      <td>10513474</td>\n",
       "      <td>639651.0</td>\n",
       "      <td>A unique chance to explore Pier Paolo Pasolini...</td>\n",
       "    </tr>\n",
       "    <tr>\n",
       "      <td>3</td>\n",
       "      <td>10515086</td>\n",
       "      <td>599672.0</td>\n",
       "      <td>A meeting with a new inmate in the psychiatric...</td>\n",
       "    </tr>\n",
       "    <tr>\n",
       "      <td>4</td>\n",
       "      <td>10515340</td>\n",
       "      <td>531678.0</td>\n",
       "      <td>A strange disease is plaguing the city. Hoping...</td>\n",
       "    </tr>\n",
       "  </tbody>\n",
       "</table>\n",
       "</div>"
      ],
      "text/plain": [
       "   movie_id   tmdb_id                                        description\n",
       "0   1051231   31223.0  In the Hands of the Gods is the true story of ...\n",
       "1   1051244  573815.0  A group of talented youth exploited by the hea...\n",
       "2  10513474  639651.0  A unique chance to explore Pier Paolo Pasolini...\n",
       "3  10515086  599672.0  A meeting with a new inmate in the psychiatric...\n",
       "4  10515340  531678.0  A strange disease is plaguing the city. Hoping..."
      ]
     },
     "execution_count": 57,
     "metadata": {},
     "output_type": "execute_result"
    }
   ],
   "source": [
    "# read in description data\n",
    "desc_df = pd.read_csv('../../data/description_results.csv', engine='python')\n",
    "print(desc_df.shape)\n",
    "desc_df.head()"
   ]
  },
  {
   "cell_type": "code",
   "execution_count": 58,
   "metadata": {},
   "outputs": [
    {
     "data": {
      "text/plain": [
       "27476"
      ]
     },
     "execution_count": 58,
     "metadata": {},
     "output_type": "execute_result"
    }
   ],
   "source": [
    "# how many null values\n",
    "desc_df['description'].isnull().sum()"
   ]
  },
  {
   "cell_type": "code",
   "execution_count": 59,
   "metadata": {},
   "outputs": [
    {
     "data": {
      "text/plain": [
       "0"
      ]
     },
     "execution_count": 59,
     "metadata": {},
     "output_type": "execute_result"
    }
   ],
   "source": [
    "# any empty strings?\n",
    "desc_df[desc_df['description'] == \"\"].shape[0]"
   ]
  },
  {
   "cell_type": "code",
   "execution_count": 60,
   "metadata": {},
   "outputs": [
    {
     "data": {
      "text/plain": [
       "(173876, 3)"
      ]
     },
     "execution_count": 60,
     "metadata": {},
     "output_type": "execute_result"
    }
   ],
   "source": [
    "# drop rows without a description\n",
    "desc_df = desc_df.dropna(subset=['description'])\n",
    "desc_df.shape"
   ]
  },
  {
   "cell_type": "code",
   "execution_count": 61,
   "metadata": {},
   "outputs": [],
   "source": [
    "# fix movie_id\n",
    "desc_df['movie_id'] = desc_df['movie_id'].astype(str)\n",
    "def fill_id(id):\n",
    "    \"\"\"Adds leading zeroes back if necessary. This makes the id match the database.\"\"\"\n",
    "    if len(str(id)) < 7:\n",
    "        length = len(str(id))\n",
    "        id = \"0\"*(7 - length) + str(id)\n",
    "    return str(id)\n",
    "\n",
    "desc_df['movie_id'] = desc_df['movie_id'].apply(fill_id)"
   ]
  },
  {
   "cell_type": "code",
   "execution_count": 62,
   "metadata": {},
   "outputs": [],
   "source": [
    "# update every movie we have a description for\n",
    "cursor = connection.cursor()\n",
    "update_query = \"UPDATE movies SET description = %s WHERE movie_id = %s;\"\n",
    "\n",
    "for movie_id, desc in desc_df[['movie_id', 'description']].values:\n",
    "    cursor.execute(update_query, (desc, movie_id))\n",
    "\n",
    "connection.commit()\n",
    "cursor.close()"
   ]
  },
  {
   "cell_type": "code",
   "execution_count": 80,
   "metadata": {},
   "outputs": [
    {
     "data": {
      "text/plain": [
       "(173876,)"
      ]
     },
     "execution_count": 80,
     "metadata": {},
     "output_type": "execute_result"
    }
   ],
   "source": [
    "# count every movie with a description\n",
    "cursor = connection.cursor()\n",
    "\n",
    "query = \"SELECT COUNT(*) FROM movies WHERE description IS NOT NULL;\"\n",
    "cursor.execute(query)\n",
    "desc_count = cursor.fetchone()\n",
    "\n",
    "cursor.close()\n",
    "desc_count"
   ]
  },
  {
   "cell_type": "code",
   "execution_count": 66,
   "metadata": {},
   "outputs": [
    {
     "data": {
      "text/plain": [
       "('1051231',\n",
       " 'In the Hands of the Gods is the true story of five young British freestyle footballers journey across the Americas to Argentina in the hope of meeting their hero, Diego Maradona. This coming-of-age road movie tells the story of a group of young men in pursuit of a lifelong dream.')"
      ]
     },
     "execution_count": 66,
     "metadata": {},
     "output_type": "execute_result"
    }
   ],
   "source": [
    "# get a test_id and desc\n",
    "test_id = desc_df['movie_id'][0]\n",
    "test_desc = desc_df['description'][0]\n",
    "test_id, test_desc"
   ]
  },
  {
   "cell_type": "code",
   "execution_count": 70,
   "metadata": {},
   "outputs": [
    {
     "name": "stdout",
     "output_type": "stream",
     "text": [
      "('1051231', 'In the Hands of the Gods is the true story of five young British freestyle footballers journey across the Americas to Argentina in the hope of meeting their hero, Diego Maradona. This coming-of-age road movie tells the story of a group of young men in pursuit of a lifelong dream.')\n"
     ]
    }
   ],
   "source": [
    "# ensure test_desc is same in DB\n",
    "cursor = connection.cursor()\n",
    "query = f\"SELECT movie_id, description FROM movies WHERE movie_id = '{test_id}';\"\n",
    "cursor.execute(query)\n",
    "print(cursor.fetchone())\n",
    "cursor.close()"
   ]
  },
  {
   "cell_type": "markdown",
   "metadata": {},
   "source": [
    "## Add trailer to movie"
   ]
  },
  {
   "cell_type": "code",
   "execution_count": 71,
   "metadata": {},
   "outputs": [
    {
     "name": "stdout",
     "output_type": "stream",
     "text": [
      "(50793, 4)\n"
     ]
    },
    {
     "data": {
      "text/html": [
       "<div>\n",
       "<style scoped>\n",
       "    .dataframe tbody tr th:only-of-type {\n",
       "        vertical-align: middle;\n",
       "    }\n",
       "\n",
       "    .dataframe tbody tr th {\n",
       "        vertical-align: top;\n",
       "    }\n",
       "\n",
       "    .dataframe thead th {\n",
       "        text-align: right;\n",
       "    }\n",
       "</style>\n",
       "<table border=\"1\" class=\"dataframe\">\n",
       "  <thead>\n",
       "    <tr style=\"text-align: right;\">\n",
       "      <th></th>\n",
       "      <th>movie_id</th>\n",
       "      <th>video_key</th>\n",
       "      <th>video_site</th>\n",
       "      <th>more_than_one</th>\n",
       "    </tr>\n",
       "  </thead>\n",
       "  <tbody>\n",
       "    <tr>\n",
       "      <td>0</td>\n",
       "      <td>1051244</td>\n",
       "      <td>ztSS7hnEviY</td>\n",
       "      <td>YouTube</td>\n",
       "      <td>False</td>\n",
       "    </tr>\n",
       "    <tr>\n",
       "      <td>1</td>\n",
       "      <td>10515086</td>\n",
       "      <td>WA2NvFSHchk</td>\n",
       "      <td>YouTube</td>\n",
       "      <td>False</td>\n",
       "    </tr>\n",
       "    <tr>\n",
       "      <td>2</td>\n",
       "      <td>10515460</td>\n",
       "      <td>HQksgesFrFY</td>\n",
       "      <td>YouTube</td>\n",
       "      <td>False</td>\n",
       "    </tr>\n",
       "    <tr>\n",
       "      <td>3</td>\n",
       "      <td>10515480</td>\n",
       "      <td>QBNKpcUOWgI</td>\n",
       "      <td>YouTube</td>\n",
       "      <td>False</td>\n",
       "    </tr>\n",
       "    <tr>\n",
       "      <td>4</td>\n",
       "      <td>1051232</td>\n",
       "      <td>k9SdzYiyG14</td>\n",
       "      <td>YouTube</td>\n",
       "      <td>False</td>\n",
       "    </tr>\n",
       "  </tbody>\n",
       "</table>\n",
       "</div>"
      ],
      "text/plain": [
       "   movie_id    video_key video_site  more_than_one\n",
       "0   1051244  ztSS7hnEviY    YouTube          False\n",
       "1  10515086  WA2NvFSHchk    YouTube          False\n",
       "2  10515460  HQksgesFrFY    YouTube          False\n",
       "3  10515480  QBNKpcUOWgI    YouTube          False\n",
       "4   1051232  k9SdzYiyG14    YouTube          False"
      ]
     },
     "execution_count": 71,
     "metadata": {},
     "output_type": "execute_result"
    }
   ],
   "source": [
    "# read in trailer data \n",
    "trailer_df = pd.read_csv('../../data/trailer_data.csv')\n",
    "print(trailer_df.shape)\n",
    "trailer_df.head()"
   ]
  },
  {
   "cell_type": "code",
   "execution_count": 72,
   "metadata": {},
   "outputs": [
    {
     "data": {
      "text/plain": [
       "movie_id         0\n",
       "video_key        0\n",
       "video_site       0\n",
       "more_than_one    0\n",
       "dtype: int64"
      ]
     },
     "execution_count": 72,
     "metadata": {},
     "output_type": "execute_result"
    }
   ],
   "source": [
    "# any null values?\n",
    "trailer_df.isnull().sum()"
   ]
  },
  {
   "cell_type": "code",
   "execution_count": 73,
   "metadata": {},
   "outputs": [
    {
     "data": {
      "text/plain": [
       "YouTube    50205\n",
       "Vimeo        588\n",
       "Name: video_site, dtype: int64"
      ]
     },
     "execution_count": 73,
     "metadata": {},
     "output_type": "execute_result"
    }
   ],
   "source": [
    "# what are the video_site values?\n",
    "trailer_df['video_site'].value_counts()"
   ]
  },
  {
   "cell_type": "code",
   "execution_count": 74,
   "metadata": {},
   "outputs": [
    {
     "data": {
      "text/plain": [
       "False    43481\n",
       "True      7312\n",
       "Name: more_than_one, dtype: int64"
      ]
     },
     "execution_count": 74,
     "metadata": {},
     "output_type": "execute_result"
    }
   ],
   "source": [
    "# how many did have more than one on TMDb\n",
    "trailer_df['more_than_one'].value_counts()"
   ]
  },
  {
   "cell_type": "code",
   "execution_count": 75,
   "metadata": {},
   "outputs": [],
   "source": [
    "# fix movie_id\n",
    "trailer_df['movie_id'] = trailer_df['movie_id'].astype(str)\n",
    "trailer_df['movie_id'] = trailer_df['movie_id'].apply(fill_id)"
   ]
  },
  {
   "cell_type": "code",
   "execution_count": 81,
   "metadata": {},
   "outputs": [],
   "source": [
    "# update every movie we have a trailer for\n",
    "cursor = connection.cursor()\n",
    "youtube_base = 'https://www.youtube.com/watch?v='\n",
    "vimeo_base = 'https://vimeo.com/'\n",
    "\n",
    "for movie_id, key, site in trailer_df[['movie_id', 'video_key', 'video_site']].values:\n",
    "    if site == 'YouTube':\n",
    "        trailer_url = youtube_base + str(key)\n",
    "    else:\n",
    "        trailer_url = vimeo_base + str(key)\n",
    "    update_query = f\"UPDATE movies SET trailer_url = '{trailer_url}' WHERE movie_id = '{movie_id}';\"\n",
    "    cursor.execute(update_query)\n",
    "\n",
    "connection.commit()\n",
    "cursor.close()"
   ]
  },
  {
   "cell_type": "code",
   "execution_count": 82,
   "metadata": {},
   "outputs": [
    {
     "data": {
      "text/plain": [
       "(50793,)"
      ]
     },
     "execution_count": 82,
     "metadata": {},
     "output_type": "execute_result"
    }
   ],
   "source": [
    "# count every movie with a trailer_url\n",
    "cursor = connection.cursor()\n",
    "\n",
    "query = \"SELECT COUNT(*) from movies WHERE trailer_url IS NOT NULL;\"\n",
    "cursor.execute(query)\n",
    "trailer_count = cursor.fetchone()\n",
    "\n",
    "cursor.close()\n",
    "trailer_count"
   ]
  },
  {
   "cell_type": "code",
   "execution_count": 89,
   "metadata": {},
   "outputs": [
    {
     "data": {
      "text/plain": [
       "('1209379', 'AHne0pCugmw')"
      ]
     },
     "execution_count": 89,
     "metadata": {},
     "output_type": "execute_result"
    }
   ],
   "source": [
    "# get test_id and key\n",
    "test_id = trailer_df['movie_id'][1000]\n",
    "test_key = trailer_df['video_key'][1000]\n",
    "test_id, test_key"
   ]
  },
  {
   "cell_type": "code",
   "execution_count": 90,
   "metadata": {},
   "outputs": [
    {
     "name": "stdout",
     "output_type": "stream",
     "text": [
      "('1209379', 'https://www.youtube.com/watch?v=AHne0pCugmw')\n"
     ]
    }
   ],
   "source": [
    "# ensure test_key is same in DB\n",
    "cursor = connection.cursor()\n",
    "query = f\"SELECT movie_id, trailer_url FROM movies WHERE movie_id = '{test_id}';\"\n",
    "cursor.execute(query)\n",
    "print(cursor.fetchone())\n",
    "cursor.close()"
   ]
  },
  {
   "cell_type": "markdown",
   "metadata": {},
   "source": [
    "## Add poster to movies that didn't have one"
   ]
  },
  {
   "cell_type": "code",
   "execution_count": 11,
   "metadata": {},
   "outputs": [
    {
     "name": "stdout",
     "output_type": "stream",
     "text": [
      "(201482, 3)\n"
     ]
    },
    {
     "data": {
      "text/html": [
       "<div>\n",
       "<style scoped>\n",
       "    .dataframe tbody tr th:only-of-type {\n",
       "        vertical-align: middle;\n",
       "    }\n",
       "\n",
       "    .dataframe tbody tr th {\n",
       "        vertical-align: top;\n",
       "    }\n",
       "\n",
       "    .dataframe thead th {\n",
       "        text-align: right;\n",
       "    }\n",
       "</style>\n",
       "<table border=\"1\" class=\"dataframe\">\n",
       "  <thead>\n",
       "    <tr style=\"text-align: right;\">\n",
       "      <th></th>\n",
       "      <th>movie_id</th>\n",
       "      <th>tmdb_id</th>\n",
       "      <th>poster_path</th>\n",
       "    </tr>\n",
       "  </thead>\n",
       "  <tbody>\n",
       "    <tr>\n",
       "      <td>0</td>\n",
       "      <td>1051259</td>\n",
       "      <td>87397</td>\n",
       "      <td>/4c27iElQGoLSlrg2uZQUANHA4aa.jpg</td>\n",
       "    </tr>\n",
       "    <tr>\n",
       "      <td>1</td>\n",
       "      <td>1051834</td>\n",
       "      <td>533781</td>\n",
       "      <td>NaN</td>\n",
       "    </tr>\n",
       "    <tr>\n",
       "      <td>2</td>\n",
       "      <td>10520386</td>\n",
       "      <td>637881</td>\n",
       "      <td>/iASQXlZqZfERdwTnBxIRpfgKrsO.jpg</td>\n",
       "    </tr>\n",
       "    <tr>\n",
       "      <td>3</td>\n",
       "      <td>1052347</td>\n",
       "      <td>201899</td>\n",
       "      <td>NaN</td>\n",
       "    </tr>\n",
       "    <tr>\n",
       "      <td>4</td>\n",
       "      <td>10519798</td>\n",
       "      <td>676343</td>\n",
       "      <td>NaN</td>\n",
       "    </tr>\n",
       "  </tbody>\n",
       "</table>\n",
       "</div>"
      ],
      "text/plain": [
       "   movie_id  tmdb_id                       poster_path\n",
       "0   1051259    87397  /4c27iElQGoLSlrg2uZQUANHA4aa.jpg\n",
       "1   1051834   533781                               NaN\n",
       "2  10520386   637881  /iASQXlZqZfERdwTnBxIRpfgKrsO.jpg\n",
       "3   1052347   201899                               NaN\n",
       "4  10519798   676343                               NaN"
      ]
     },
     "execution_count": 11,
     "metadata": {},
     "output_type": "execute_result"
    }
   ],
   "source": [
    "# read in poster data \n",
    "poster_df = pd.read_csv('../../data/poster_data.csv')\n",
    "print(poster_df.shape)\n",
    "poster_df.head()"
   ]
  },
  {
   "cell_type": "code",
   "execution_count": 12,
   "metadata": {},
   "outputs": [
    {
     "data": {
      "text/plain": [
       "77522"
      ]
     },
     "execution_count": 12,
     "metadata": {},
     "output_type": "execute_result"
    }
   ],
   "source": [
    "# how many null poster_paths?\n",
    "poster_df['poster_path'].isnull().sum()"
   ]
  },
  {
   "cell_type": "code",
   "execution_count": 13,
   "metadata": {},
   "outputs": [
    {
     "data": {
      "text/plain": [
       "(123960, 3)"
      ]
     },
     "execution_count": 13,
     "metadata": {},
     "output_type": "execute_result"
    }
   ],
   "source": [
    "# drop those rows\n",
    "poster_df = poster_df.dropna(subset=['poster_path'])\n",
    "poster_df.shape"
   ]
  },
  {
   "cell_type": "code",
   "execution_count": 16,
   "metadata": {},
   "outputs": [],
   "source": [
    "# fix movie_id\n",
    "poster_df['movie_id'] = poster_df['movie_id'].astype(str)\n",
    "poster_df['movie_id'] = poster_df['movie_id'].apply(fill_id)"
   ]
  },
  {
   "cell_type": "code",
   "execution_count": 9,
   "metadata": {},
   "outputs": [
    {
     "data": {
      "text/plain": [
       "(183087,)"
      ]
     },
     "execution_count": 9,
     "metadata": {},
     "output_type": "execute_result"
    }
   ],
   "source": [
    "# count every movie with a poster_path before update\n",
    "cursor = connection.cursor()\n",
    "\n",
    "query = \"SELECT COUNT(*) from movies WHERE poster_url IS NOT NULL;\"\n",
    "cursor.execute(query)\n",
    "poster_count = cursor.fetchone()\n",
    "\n",
    "cursor.close()\n",
    "poster_count"
   ]
  },
  {
   "cell_type": "code",
   "execution_count": 17,
   "metadata": {},
   "outputs": [],
   "source": [
    "# update every movie we have a poster for\n",
    "cursor = connection.cursor()\n",
    "base_query = \"UPDATE movies SET poster_url = %s WHERE movie_id = %s;\"\n",
    "\n",
    "for movie_id, poster_path in poster_df[['movie_id', 'poster_path']].values:\n",
    "    cursor.execute(base_query, (poster_path, movie_id))\n",
    "\n",
    "connection.commit()\n",
    "cursor.close()"
   ]
  },
  {
   "cell_type": "code",
   "execution_count": 21,
   "metadata": {},
   "outputs": [
    {
     "data": {
      "text/plain": [
       "(194343,)"
      ]
     },
     "execution_count": 21,
     "metadata": {},
     "output_type": "execute_result"
    }
   ],
   "source": [
    "# count every movie with a poster_path after update\n",
    "cursor = connection.cursor()\n",
    "\n",
    "query = \"SELECT COUNT(*) from movies WHERE poster_url IS NOT NULL;\"\n",
    "cursor.execute(query)\n",
    "poster_count = cursor.fetchone()\n",
    "\n",
    "cursor.close()\n",
    "poster_count"
   ]
  },
  {
   "cell_type": "markdown",
   "metadata": {},
   "source": [
    "## Add service provider links to movies"
   ]
  },
  {
   "cell_type": "code",
   "execution_count": 4,
   "metadata": {},
   "outputs": [
    {
     "name": "stdout",
     "output_type": "stream",
     "text": [
      "(224382, 7)\n"
     ]
    },
    {
     "data": {
      "text/html": [
       "<div>\n",
       "<style scoped>\n",
       "    .dataframe tbody tr th:only-of-type {\n",
       "        vertical-align: middle;\n",
       "    }\n",
       "\n",
       "    .dataframe tbody tr th {\n",
       "        vertical-align: top;\n",
       "    }\n",
       "\n",
       "    .dataframe thead th {\n",
       "        text-align: right;\n",
       "    }\n",
       "</style>\n",
       "<table border=\"1\" class=\"dataframe\">\n",
       "  <thead>\n",
       "    <tr style=\"text-align: right;\">\n",
       "      <th></th>\n",
       "      <th>movie_id</th>\n",
       "      <th>title</th>\n",
       "      <th>jw_id</th>\n",
       "      <th>jw_title</th>\n",
       "      <th>offer_provider_id</th>\n",
       "      <th>offer_urls</th>\n",
       "      <th>ratio</th>\n",
       "    </tr>\n",
       "  </thead>\n",
       "  <tbody>\n",
       "    <tr>\n",
       "      <td>0</td>\n",
       "      <td>1051262</td>\n",
       "      <td>The Stalker Within</td>\n",
       "      <td>309961</td>\n",
       "      <td>The Evil Within</td>\n",
       "      <td>7,7,7,7,192,3,3,192,3,192,9,9,10,10,10,10,3,19...</td>\n",
       "      <td>https://www.vudu.com/content/movies/details/Th...</td>\n",
       "      <td>73</td>\n",
       "    </tr>\n",
       "    <tr>\n",
       "      <td>1</td>\n",
       "      <td>1051263</td>\n",
       "      <td>Stolen Life</td>\n",
       "      <td>167298</td>\n",
       "      <td>Stolen Life</td>\n",
       "      <td>25,10,10,9</td>\n",
       "      <td>https://www.fandor.com/films/stolen_life,https...</td>\n",
       "      <td>100</td>\n",
       "    </tr>\n",
       "    <tr>\n",
       "      <td>2</td>\n",
       "      <td>10513072</td>\n",
       "      <td>Don't Date Your Sister</td>\n",
       "      <td>434938</td>\n",
       "      <td>Don't Open Your Eyes</td>\n",
       "      <td>10,10,10,10,2,2,2,2,12,9,9</td>\n",
       "      <td>https://www.amazon.com/gp/product/B07H4T4NQ2?c...</td>\n",
       "      <td>67</td>\n",
       "    </tr>\n",
       "    <tr>\n",
       "      <td>3</td>\n",
       "      <td>1051320</td>\n",
       "      <td>La cantatrice chauve</td>\n",
       "      <td>23259</td>\n",
       "      <td>La Bamba</td>\n",
       "      <td>7,7,7,7,3,3,192,192,279,279,279,279,10,10,10,1...</td>\n",
       "      <td>https://www.vudu.com/content/movies/details/La...</td>\n",
       "      <td>36</td>\n",
       "    </tr>\n",
       "    <tr>\n",
       "      <td>4</td>\n",
       "      <td>10513286</td>\n",
       "      <td>Historia de mi nombre</td>\n",
       "      <td>403709</td>\n",
       "      <td>Marriage Story</td>\n",
       "      <td>8,8,8</td>\n",
       "      <td>http://www.netflix.com/title/80223779,http://w...</td>\n",
       "      <td>40</td>\n",
       "    </tr>\n",
       "  </tbody>\n",
       "</table>\n",
       "</div>"
      ],
      "text/plain": [
       "   movie_id                   title   jw_id              jw_title  \\\n",
       "0   1051262      The Stalker Within  309961       The Evil Within   \n",
       "1   1051263             Stolen Life  167298           Stolen Life   \n",
       "2  10513072  Don't Date Your Sister  434938  Don't Open Your Eyes   \n",
       "3   1051320    La cantatrice chauve   23259              La Bamba   \n",
       "4  10513286   Historia de mi nombre  403709        Marriage Story   \n",
       "\n",
       "                                   offer_provider_id  \\\n",
       "0  7,7,7,7,192,3,3,192,3,192,9,9,10,10,10,10,3,19...   \n",
       "1                                         25,10,10,9   \n",
       "2                         10,10,10,10,2,2,2,2,12,9,9   \n",
       "3  7,7,7,7,3,3,192,192,279,279,279,279,10,10,10,1...   \n",
       "4                                              8,8,8   \n",
       "\n",
       "                                          offer_urls  ratio  \n",
       "0  https://www.vudu.com/content/movies/details/Th...     73  \n",
       "1  https://www.fandor.com/films/stolen_life,https...    100  \n",
       "2  https://www.amazon.com/gp/product/B07H4T4NQ2?c...     67  \n",
       "3  https://www.vudu.com/content/movies/details/La...     36  \n",
       "4  http://www.netflix.com/title/80223779,http://w...     40  "
      ]
     },
     "execution_count": 4,
     "metadata": {},
     "output_type": "execute_result"
    }
   ],
   "source": [
    "provider_df = pd.read_csv('provider_data.csv')\n",
    "print(provider_df.shape)\n",
    "provider_df.head()"
   ]
  },
  {
   "cell_type": "markdown",
   "metadata": {},
   "source": [
    "We need to filter out rows with `ratio` values less than 90 because it is very likely it is not the correct movie if less than that."
   ]
  },
  {
   "cell_type": "code",
   "execution_count": 5,
   "metadata": {},
   "outputs": [
    {
     "name": "stdout",
     "output_type": "stream",
     "text": [
      "(29017, 7)\n"
     ]
    },
    {
     "data": {
      "text/html": [
       "<div>\n",
       "<style scoped>\n",
       "    .dataframe tbody tr th:only-of-type {\n",
       "        vertical-align: middle;\n",
       "    }\n",
       "\n",
       "    .dataframe tbody tr th {\n",
       "        vertical-align: top;\n",
       "    }\n",
       "\n",
       "    .dataframe thead th {\n",
       "        text-align: right;\n",
       "    }\n",
       "</style>\n",
       "<table border=\"1\" class=\"dataframe\">\n",
       "  <thead>\n",
       "    <tr style=\"text-align: right;\">\n",
       "      <th></th>\n",
       "      <th>movie_id</th>\n",
       "      <th>title</th>\n",
       "      <th>jw_id</th>\n",
       "      <th>jw_title</th>\n",
       "      <th>offer_provider_id</th>\n",
       "      <th>offer_urls</th>\n",
       "      <th>ratio</th>\n",
       "    </tr>\n",
       "  </thead>\n",
       "  <tbody>\n",
       "    <tr>\n",
       "      <td>1</td>\n",
       "      <td>1051263</td>\n",
       "      <td>Stolen Life</td>\n",
       "      <td>167298</td>\n",
       "      <td>Stolen Life</td>\n",
       "      <td>25,10,10,9</td>\n",
       "      <td>https://www.fandor.com/films/stolen_life,https...</td>\n",
       "      <td>100</td>\n",
       "    </tr>\n",
       "    <tr>\n",
       "      <td>9</td>\n",
       "      <td>10511068</td>\n",
       "      <td>Inheritance</td>\n",
       "      <td>311393</td>\n",
       "      <td>Inheritance</td>\n",
       "      <td>3,3,7,7,7,7,192,192,3,3,192,192,9,9,10,10,10,10</td>\n",
       "      <td>https://play.google.com/store/movies/details/I...</td>\n",
       "      <td>100</td>\n",
       "    </tr>\n",
       "    <tr>\n",
       "      <td>11</td>\n",
       "      <td>10514932</td>\n",
       "      <td>What Do I Do Now?</td>\n",
       "      <td>659810</td>\n",
       "      <td>What Do I Do Now?</td>\n",
       "      <td>9,9,10,10,10,10</td>\n",
       "      <td>https://www.amazon.com/gp/product/B075QVYP3H?c...</td>\n",
       "      <td>100</td>\n",
       "    </tr>\n",
       "    <tr>\n",
       "      <td>28</td>\n",
       "      <td>1051245</td>\n",
       "      <td>Moving Midway</td>\n",
       "      <td>78930</td>\n",
       "      <td>Moving Midway</td>\n",
       "      <td>2,2,191,9,9</td>\n",
       "      <td>https://itunes.apple.com/us/movie/moving-midwa...</td>\n",
       "      <td>100</td>\n",
       "    </tr>\n",
       "    <tr>\n",
       "      <td>31</td>\n",
       "      <td>1051253</td>\n",
       "      <td>The Portal</td>\n",
       "      <td>319476</td>\n",
       "      <td>The Portal</td>\n",
       "      <td>3,3,3,10,10,10,10,9,9,192,192,192,2,2,2,2,68,6...</td>\n",
       "      <td>https://play.google.com/store/movies/details/T...</td>\n",
       "      <td>100</td>\n",
       "    </tr>\n",
       "  </tbody>\n",
       "</table>\n",
       "</div>"
      ],
      "text/plain": [
       "    movie_id              title   jw_id           jw_title  \\\n",
       "1    1051263        Stolen Life  167298        Stolen Life   \n",
       "9   10511068        Inheritance  311393        Inheritance   \n",
       "11  10514932  What Do I Do Now?  659810  What Do I Do Now?   \n",
       "28   1051245      Moving Midway   78930      Moving Midway   \n",
       "31   1051253         The Portal  319476         The Portal   \n",
       "\n",
       "                                    offer_provider_id  \\\n",
       "1                                          25,10,10,9   \n",
       "9     3,3,7,7,7,7,192,192,3,3,192,192,9,9,10,10,10,10   \n",
       "11                                    9,9,10,10,10,10   \n",
       "28                                        2,2,191,9,9   \n",
       "31  3,3,3,10,10,10,10,9,9,192,192,192,2,2,2,2,68,6...   \n",
       "\n",
       "                                           offer_urls  ratio  \n",
       "1   https://www.fandor.com/films/stolen_life,https...    100  \n",
       "9   https://play.google.com/store/movies/details/I...    100  \n",
       "11  https://www.amazon.com/gp/product/B075QVYP3H?c...    100  \n",
       "28  https://itunes.apple.com/us/movie/moving-midwa...    100  \n",
       "31  https://play.google.com/store/movies/details/T...    100  "
      ]
     },
     "execution_count": 5,
     "metadata": {},
     "output_type": "execute_result"
    }
   ],
   "source": [
    "filtered_df = provider_df[provider_df['ratio'] > 90]\n",
    "print(filtered_df.shape)\n",
    "filtered_df.head()"
   ]
  },
  {
   "cell_type": "markdown",
   "metadata": {},
   "source": [
    "`offer_provider_id` and `offer_urls` are string deliminated sequences. We can use the JustWatch API to get the provider details of each ID and the URLs will be saved to be linked on the movie detail page. There is other info we could've saved to better differentiate between the values with the same provider_id on the same movie. From what I saw it seems some are HD while some are SD, as well as some of the monetization types differ resulting in repeats of the same provider. \n",
    "\n",
    "We will probably want to filter out most service providers (other than Netflix, Amazon, and Hulu) because some are not popular enough to justify displaying theirs on the webpage. "
   ]
  },
  {
   "cell_type": "markdown",
   "metadata": {},
   "source": [
    "## New movies table info:\n",
    "New table columns:\n",
    "`movie_id\n",
    "title_type\n",
    "primary_title\n",
    "original_title\n",
    "is_adult\n",
    "start_year\n",
    "end_year\n",
    "runtime_minutes\n",
    "genres\n",
    "poster_url\n",
    "average_rating\n",
    "num_votes\n",
    "original_language\n",
    "description\n",
    "trailer_url`\n",
    "\n",
    "New table schema:\n",
    "`CREATE TABLE public.movies\n",
    "(\n",
    "    movie_id character varying COLLATE pg_catalog.\"default\" NOT NULL,\n",
    "    title_type character varying COLLATE pg_catalog.\"default\",\n",
    "    primary_title character varying COLLATE pg_catalog.\"default\",\n",
    "    original_title character varying COLLATE pg_catalog.\"default\",\n",
    "    is_adult boolean,\n",
    "    start_year integer,\n",
    "    end_year integer,\n",
    "    runtime_minutes integer,\n",
    "    genres character varying COLLATE pg_catalog.\"default\",\n",
    "    poster_url character varying COLLATE pg_catalog.\"default\",\n",
    "    average_rating real,\n",
    "    num_votes integer,\n",
    "    original_language character varying COLLATE pg_catalog.\"default\",\n",
    "    description character varying COLLATE pg_catalog.\"default\",\n",
    "    trailer_url character varying COLLATE pg_catalog.\"default\",\n",
    "    CONSTRAINT movies_pkey PRIMARY KEY (movie_id)\n",
    ")`\n"
   ]
  }
 ],
 "metadata": {
  "kernelspec": {
   "display_name": "Python 3",
   "language": "python",
   "name": "python3"
  },
  "language_info": {
   "codemirror_mode": {
    "name": "ipython",
    "version": 3
   },
   "file_extension": ".py",
   "mimetype": "text/x-python",
   "name": "python",
   "nbconvert_exporter": "python",
   "pygments_lexer": "ipython3",
   "version": "3.7.4"
  }
 },
 "nbformat": 4,
 "nbformat_minor": 4
}
