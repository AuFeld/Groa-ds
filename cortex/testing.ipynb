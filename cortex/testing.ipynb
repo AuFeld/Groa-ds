{
 "cells": [
  {
   "cell_type": "markdown",
   "metadata": {},
   "source": [
    "# Testing predictor.py\n",
    "- config is required for Cortex deployment \n",
    "- payload is currently just a user id number/string\n",
    "- output is two recommendation ids and two recommendation JSON strings"
   ]
  },
  {
   "cell_type": "code",
   "execution_count": 1,
   "metadata": {},
   "outputs": [],
   "source": [
    "from predictor import PythonPredictor\n",
    "import time\n",
    "import warnings;\n",
    "warnings.filterwarnings('ignore')"
   ]
  },
  {
   "cell_type": "code",
   "execution_count": 2,
   "metadata": {},
   "outputs": [
    {
     "name": "stdout",
     "output_type": "stream",
     "text": [
      "Connected!\n",
      "Wall time: 2min 23s\n"
     ]
    }
   ],
   "source": [
    "%%time\n",
    "# takes 2-3 minutes \n",
    "config = {\"bucket\": \"groa2\", \"key\": \"models/files.zip\"}\n",
    "predictor = PythonPredictor(config)"
   ]
  },
  {
   "cell_type": "code",
   "execution_count": 3,
   "metadata": {},
   "outputs": [
    {
     "name": "stdout",
     "output_type": "stream",
     "text": [
      "user_id not found in IMDB ratings\n",
      "Already recommended b9cd700ad505b2ad99b2549c8d261596\n",
      "Recommendation committed to DB with id: 490db6f327fbaf0e3f5ebd7d5bda8f43\n",
      "Wall time: 54.5 s\n"
     ]
    }
   ],
   "source": [
    "%%time\n",
    "payload = 1\n",
    "preds = predictor.predict(1)"
   ]
  },
  {
   "cell_type": "code",
   "execution_count": 4,
   "metadata": {},
   "outputs": [
    {
     "data": {
      "text/plain": [
       "4"
      ]
     },
     "execution_count": 4,
     "metadata": {},
     "output_type": "execute_result"
    }
   ],
   "source": [
    "len(preds)"
   ]
  },
  {
   "cell_type": "code",
   "execution_count": 5,
   "metadata": {},
   "outputs": [
    {
     "data": {
      "text/plain": [
       "'b9cd700ad505b2ad99b2549c8d261596'"
      ]
     },
     "execution_count": 5,
     "metadata": {},
     "output_type": "execute_result"
    }
   ],
   "source": [
    "preds[0]"
   ]
  },
  {
   "cell_type": "code",
   "execution_count": 6,
   "metadata": {},
   "outputs": [
    {
     "data": {
      "text/plain": [
       "'490db6f327fbaf0e3f5ebd7d5bda8f43'"
      ]
     },
     "execution_count": 6,
     "metadata": {},
     "output_type": "execute_result"
    }
   ],
   "source": [
    "preds[1]"
   ]
  },
  {
   "cell_type": "code",
   "execution_count": 32,
   "metadata": {},
   "outputs": [
    {
     "data": {
      "text/plain": [
       "'[{\"Title\": \"Jhalki\", \"Year\": 2019, \"IMDB URL\": \"https://www.imdb.com/title/tt7743400/\", \"Mean Rating\": 8.4, \"Votes\": 455, \"Similarity\": 0.6789327263832092, \"ID\": \"7743400\", \"Gem\": false}, '"
      ]
     },
     "execution_count": 32,
     "metadata": {},
     "output_type": "execute_result"
    }
   ],
   "source": [
    "preds[2][:188]"
   ]
  },
  {
   "cell_type": "code",
   "execution_count": 37,
   "metadata": {},
   "outputs": [
    {
     "data": {
      "text/plain": [
       "'[{\"Title\": \"Blade Runner\", \"Year\": 1982, \"IMDB URL\": \"https://www.imdb.com/title/tt0083658/\", \"Mean Rating\": 8.1, \"Votes\": 651970, \"Similarity\": 0.6461023092269897, \"ID\": \"0083658\", \"Gem\": false}, '"
      ]
     },
     "execution_count": 37,
     "metadata": {},
     "output_type": "execute_result"
    }
   ],
   "source": [
    "preds[3][:197]"
   ]
  }
 ],
 "metadata": {
  "kernelspec": {
   "display_name": "groa (Python3.7)",
   "language": "python",
   "name": "groa"
  },
  "language_info": {
   "codemirror_mode": {
    "name": "ipython",
    "version": 3
   },
   "file_extension": ".py",
   "mimetype": "text/x-python",
   "name": "python",
   "nbconvert_exporter": "python",
   "pygments_lexer": "ipython3",
   "version": "3.7.0"
  }
 },
 "nbformat": 4,
 "nbformat_minor": 4
}
