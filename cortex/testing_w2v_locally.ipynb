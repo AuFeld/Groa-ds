{
  "nbformat": 4,
  "nbformat_minor": 0,
  "metadata": {
    "kernelspec": {
      "display_name": "groa (Python3.7)",
      "language": "python",
      "name": "groa"
    },
    "language_info": {
      "codemirror_mode": {
        "name": "ipython",
        "version": 3
      },
      "file_extension": ".py",
      "mimetype": "text/x-python",
      "name": "python",
      "nbconvert_exporter": "python",
      "pygments_lexer": "ipython3",
      "version": "3.7.0"
    },
    "colab": {
      "name": "testing_w2v_locally.ipynb",
      "provenance": [],
      "collapsed_sections": [],
      "include_colab_link": true
    }
  },
  "cells": [
    {
      "cell_type": "markdown",
      "metadata": {
        "id": "view-in-github",
        "colab_type": "text"
      },
      "source": [
        "<a href=\"https://colab.research.google.com/github/Lambda-School-Labs/Groa-ds/blob/cortex-development/cortex/testing_w2v_locally.ipynb\" target=\"_parent\"><img src=\"https://colab.research.google.com/assets/colab-badge.svg\" alt=\"Open In Colab\"/></a>"
      ]
    },
    {
      "cell_type": "markdown",
      "metadata": {
        "id": "ksbGsC4lfa0D",
        "colab_type": "text"
      },
      "source": [
        "# testing w2v with multi-user sampled data"
      ]
    },
    {
      "cell_type": "code",
      "metadata": {
        "id": "iO0MMEIrfa0F",
        "colab_type": "code",
        "colab": {
          "base_uri": "https://localhost:8080/",
          "height": 34
        },
        "outputId": "928e2ffd-e603-4526-db66-b66b4967e48f"
      },
      "source": [
        "import psycopg2\n",
        "import json\n",
        "import time\n",
        "import pandas as pd\n",
        "from w2v_helpers import * \n",
        "import warnings;\n",
        "warnings.filterwarnings('ignore')\n",
        "\n",
        "with open('values.json', 'r') as values_file:\n",
        "    values = json.load(values_file)\n",
        "\n",
        "connection = psycopg2.connect(\n",
        "    database  =  values['DB_NAME'],\n",
        "    user      =  values['DB_USER'],\n",
        "    password  =  values['DB_PASSWORD'],\n",
        "    host      =  values['DEV'],\n",
        "    port      =  values['PORT']\n",
        ")\n",
        "try:\n",
        "    cursor_dog = connection.cursor()\n",
        "    connection = connection  \n",
        "    print(\"Connected!\")\n",
        "except Exception as e:\n",
        "    print(\"Connection problem chief!\\n\")\n",
        "    print(e)"
      ],
      "execution_count": 39,
      "outputs": [
        {
          "output_type": "stream",
          "text": [
            "Connected!\n"
          ],
          "name": "stdout"
        }
      ]
    },
    {
      "cell_type": "code",
      "metadata": {
        "id": "fTFTnBudfa0M",
        "colab_type": "code",
        "colab": {}
      },
      "source": [
        "user_id = 1\n",
        "query = \"SELECT date, name, year, letterboxd_uri, rating FROM user_letterboxd_ratings WHERE user_id=%s;\"\n",
        "cursor_dog.execute(query, (user_id,))\n",
        "ratings_sql= cursor_dog.fetchall()\n",
        "ratings_sql = pd.DataFrame(ratings_sql, columns = ['Date', 'Name', 'Year', 'Letterboxd URI', 'Rating'])"
      ],
      "execution_count": 0,
      "outputs": []
    },
    {
      "cell_type": "code",
      "metadata": {
        "id": "Yhc4T6rFfa0R",
        "colab_type": "code",
        "colab": {},
        "outputId": "1ccd7142-c1c0-47af-c556-deaaaae9d3b6"
      },
      "source": [
        "%%time\n",
        "\n",
        "\n",
        "id_book = pd.read_csv('title_basics_small.csv')\n",
        "ratings1 = pd.read_csv('exported_data/letterboxd/riley/ratings.csv').sample(30)\n",
        "ratings2 = pd.read_csv('exported_data/letterboxd/eric/ratings.csv').sample(30)\n",
        "ratings3 = pd.read_csv('exported_data/letterboxd/cooper/ratings.csv').sample(20)\n",
        "ratings4 = ratings_sql.sample(20)\n",
        "ratings = pd.concat([ratings1, ratings2, ratings3, ratings4]).drop_duplicates()\n",
        "\n",
        "good_list, bad_list, hist_list, val_list, ratings_dict = prep_data(\n",
        "                            ratings, id_book, cursor_dog, None, None, good_threshold=3, bad_threshold=2)\n",
        "rec = Recommender('w2v_limitingfactor_v2.model', id_book, cursor_dog)\n",
        "w2v_preds = rec.predict(good_list, bad_list, hist_list, val_list, ratings_dict, n=500, harshness=1, rec_movies=True, scoring=True,)\n",
        "\n",
        "df = pd.DataFrame(w2v_preds, columns = ['Name', 'Year', 'URL', 'Mean Rating', 'Votes', 'Similarity', 'ID'])\n",
        "filter = (df.Year > 1990) & (df.Votes > 8000) \n",
        "print(\"Number of results: \", len(df[filter]))\n",
        "df[filter][:20]"
      ],
      "execution_count": 0,
      "outputs": [
        {
          "output_type": "stream",
          "text": [
            "Number of results:  104\n",
            "Wall time: 27.7 s\n"
          ],
          "name": "stdout"
        },
        {
          "output_type": "execute_result",
          "data": {
            "text/html": [
              "<div>\n",
              "<style scoped>\n",
              "    .dataframe tbody tr th:only-of-type {\n",
              "        vertical-align: middle;\n",
              "    }\n",
              "\n",
              "    .dataframe tbody tr th {\n",
              "        vertical-align: top;\n",
              "    }\n",
              "\n",
              "    .dataframe thead th {\n",
              "        text-align: right;\n",
              "    }\n",
              "</style>\n",
              "<table border=\"1\" class=\"dataframe\">\n",
              "  <thead>\n",
              "    <tr style=\"text-align: right;\">\n",
              "      <th></th>\n",
              "      <th>Name</th>\n",
              "      <th>Year</th>\n",
              "      <th>URL</th>\n",
              "      <th>Mean Rating</th>\n",
              "      <th>Votes</th>\n",
              "      <th>Similarity</th>\n",
              "      <th>ID</th>\n",
              "    </tr>\n",
              "  </thead>\n",
              "  <tbody>\n",
              "    <tr>\n",
              "      <th>32</th>\n",
              "      <td>Samaritan Girl</td>\n",
              "      <td>2004.0</td>\n",
              "      <td>https://www.imdb.com/title/tt0397619/</td>\n",
              "      <td>7.1</td>\n",
              "      <td>12604.0</td>\n",
              "      <td>0.183208</td>\n",
              "      <td>0397619</td>\n",
              "    </tr>\n",
              "    <tr>\n",
              "      <th>43</th>\n",
              "      <td>Short Cuts</td>\n",
              "      <td>1993.0</td>\n",
              "      <td>https://www.imdb.com/title/tt0108122/</td>\n",
              "      <td>7.7</td>\n",
              "      <td>40463.0</td>\n",
              "      <td>0.177187</td>\n",
              "      <td>0108122</td>\n",
              "    </tr>\n",
              "    <tr>\n",
              "      <th>46</th>\n",
              "      <td>Stalingrad</td>\n",
              "      <td>1993.0</td>\n",
              "      <td>https://www.imdb.com/title/tt0108211/</td>\n",
              "      <td>7.5</td>\n",
              "      <td>29046.0</td>\n",
              "      <td>0.175091</td>\n",
              "      <td>0108211</td>\n",
              "    </tr>\n",
              "    <tr>\n",
              "      <th>48</th>\n",
              "      <td>Hedwig and the Angry Inch</td>\n",
              "      <td>2001.0</td>\n",
              "      <td>https://www.imdb.com/title/tt0248845/</td>\n",
              "      <td>7.7</td>\n",
              "      <td>30428.0</td>\n",
              "      <td>0.174445</td>\n",
              "      <td>0248845</td>\n",
              "    </tr>\n",
              "    <tr>\n",
              "      <th>49</th>\n",
              "      <td>Sonatine</td>\n",
              "      <td>1993.0</td>\n",
              "      <td>https://www.imdb.com/title/tt0108188/</td>\n",
              "      <td>7.5</td>\n",
              "      <td>16424.0</td>\n",
              "      <td>0.174093</td>\n",
              "      <td>0108188</td>\n",
              "    </tr>\n",
              "    <tr>\n",
              "      <th>55</th>\n",
              "      <td>Recess: School's Out</td>\n",
              "      <td>2001.0</td>\n",
              "      <td>https://www.imdb.com/title/tt0265632/</td>\n",
              "      <td>6.6</td>\n",
              "      <td>8831.0</td>\n",
              "      <td>0.170269</td>\n",
              "      <td>0265632</td>\n",
              "    </tr>\n",
              "    <tr>\n",
              "      <th>57</th>\n",
              "      <td>Brat 2</td>\n",
              "      <td>2000.0</td>\n",
              "      <td>https://www.imdb.com/title/tt0238883/</td>\n",
              "      <td>7.8</td>\n",
              "      <td>11135.0</td>\n",
              "      <td>0.169078</td>\n",
              "      <td>0238883</td>\n",
              "    </tr>\n",
              "    <tr>\n",
              "      <th>70</th>\n",
              "      <td>Natural Born Killers</td>\n",
              "      <td>1994.0</td>\n",
              "      <td>https://www.imdb.com/title/tt0110632/</td>\n",
              "      <td>7.3</td>\n",
              "      <td>205835.0</td>\n",
              "      <td>0.164091</td>\n",
              "      <td>0110632</td>\n",
              "    </tr>\n",
              "    <tr>\n",
              "      <th>75</th>\n",
              "      <td>Nixon</td>\n",
              "      <td>1995.0</td>\n",
              "      <td>https://www.imdb.com/title/tt0113987/</td>\n",
              "      <td>7.1</td>\n",
              "      <td>27560.0</td>\n",
              "      <td>0.159682</td>\n",
              "      <td>0113987</td>\n",
              "    </tr>\n",
              "    <tr>\n",
              "      <th>81</th>\n",
              "      <td>Basquiat</td>\n",
              "      <td>1996.0</td>\n",
              "      <td>https://www.imdb.com/title/tt0115632/</td>\n",
              "      <td>6.9</td>\n",
              "      <td>18660.0</td>\n",
              "      <td>0.157195</td>\n",
              "      <td>0115632</td>\n",
              "    </tr>\n",
              "    <tr>\n",
              "      <th>87</th>\n",
              "      <td>In the Mood for Love</td>\n",
              "      <td>2000.0</td>\n",
              "      <td>https://www.imdb.com/title/tt0118694/</td>\n",
              "      <td>8.1</td>\n",
              "      <td>111412.0</td>\n",
              "      <td>0.153917</td>\n",
              "      <td>0118694</td>\n",
              "    </tr>\n",
              "    <tr>\n",
              "      <th>89</th>\n",
              "      <td>Searching for Bobby Fischer</td>\n",
              "      <td>1993.0</td>\n",
              "      <td>https://www.imdb.com/title/tt0108065/</td>\n",
              "      <td>7.4</td>\n",
              "      <td>27856.0</td>\n",
              "      <td>0.152774</td>\n",
              "      <td>0108065</td>\n",
              "    </tr>\n",
              "    <tr>\n",
              "      <th>90</th>\n",
              "      <td>Dazed and Confused</td>\n",
              "      <td>1993.0</td>\n",
              "      <td>https://www.imdb.com/title/tt0106677/</td>\n",
              "      <td>7.6</td>\n",
              "      <td>152238.0</td>\n",
              "      <td>0.152732</td>\n",
              "      <td>0106677</td>\n",
              "    </tr>\n",
              "    <tr>\n",
              "      <th>97</th>\n",
              "      <td>Speed</td>\n",
              "      <td>1994.0</td>\n",
              "      <td>https://www.imdb.com/title/tt0111257/</td>\n",
              "      <td>7.2</td>\n",
              "      <td>312324.0</td>\n",
              "      <td>0.150647</td>\n",
              "      <td>0111257</td>\n",
              "    </tr>\n",
              "    <tr>\n",
              "      <th>98</th>\n",
              "      <td>Underground</td>\n",
              "      <td>1995.0</td>\n",
              "      <td>https://www.imdb.com/title/tt0114787/</td>\n",
              "      <td>8.1</td>\n",
              "      <td>52241.0</td>\n",
              "      <td>0.150620</td>\n",
              "      <td>0114787</td>\n",
              "    </tr>\n",
              "    <tr>\n",
              "      <th>99</th>\n",
              "      <td>Blue in the Face</td>\n",
              "      <td>1995.0</td>\n",
              "      <td>https://www.imdb.com/title/tt0112541/</td>\n",
              "      <td>6.7</td>\n",
              "      <td>8694.0</td>\n",
              "      <td>0.150006</td>\n",
              "      <td>0112541</td>\n",
              "    </tr>\n",
              "    <tr>\n",
              "      <th>102</th>\n",
              "      <td>I.Q.</td>\n",
              "      <td>1994.0</td>\n",
              "      <td>https://www.imdb.com/title/tt0110099/</td>\n",
              "      <td>6.2</td>\n",
              "      <td>22707.0</td>\n",
              "      <td>0.149435</td>\n",
              "      <td>0110099</td>\n",
              "    </tr>\n",
              "    <tr>\n",
              "      <th>103</th>\n",
              "      <td>Naked Gun 33 1/3: The Final Insult</td>\n",
              "      <td>1994.0</td>\n",
              "      <td>https://www.imdb.com/title/tt0110622/</td>\n",
              "      <td>6.5</td>\n",
              "      <td>91760.0</td>\n",
              "      <td>0.149307</td>\n",
              "      <td>0110622</td>\n",
              "    </tr>\n",
              "    <tr>\n",
              "      <th>106</th>\n",
              "      <td>Fortress</td>\n",
              "      <td>1992.0</td>\n",
              "      <td>https://www.imdb.com/title/tt0106950/</td>\n",
              "      <td>5.9</td>\n",
              "      <td>26496.0</td>\n",
              "      <td>0.148593</td>\n",
              "      <td>0106950</td>\n",
              "    </tr>\n",
              "    <tr>\n",
              "      <th>110</th>\n",
              "      <td>The Madness of King George</td>\n",
              "      <td>1994.0</td>\n",
              "      <td>https://www.imdb.com/title/tt0110428/</td>\n",
              "      <td>7.2</td>\n",
              "      <td>14610.0</td>\n",
              "      <td>0.148186</td>\n",
              "      <td>0110428</td>\n",
              "    </tr>\n",
              "  </tbody>\n",
              "</table>\n",
              "</div>"
            ],
            "text/plain": [
              "                                   Name    Year  \\\n",
              "32                       Samaritan Girl  2004.0   \n",
              "43                           Short Cuts  1993.0   \n",
              "46                           Stalingrad  1993.0   \n",
              "48            Hedwig and the Angry Inch  2001.0   \n",
              "49                             Sonatine  1993.0   \n",
              "55                 Recess: School's Out  2001.0   \n",
              "57                               Brat 2  2000.0   \n",
              "70                 Natural Born Killers  1994.0   \n",
              "75                                Nixon  1995.0   \n",
              "81                             Basquiat  1996.0   \n",
              "87                 In the Mood for Love  2000.0   \n",
              "89          Searching for Bobby Fischer  1993.0   \n",
              "90                   Dazed and Confused  1993.0   \n",
              "97                                Speed  1994.0   \n",
              "98                          Underground  1995.0   \n",
              "99                     Blue in the Face  1995.0   \n",
              "102                                I.Q.  1994.0   \n",
              "103  Naked Gun 33 1/3: The Final Insult  1994.0   \n",
              "106                            Fortress  1992.0   \n",
              "110          The Madness of King George  1994.0   \n",
              "\n",
              "                                       URL  Mean Rating     Votes  Similarity  \\\n",
              "32   https://www.imdb.com/title/tt0397619/          7.1   12604.0    0.183208   \n",
              "43   https://www.imdb.com/title/tt0108122/          7.7   40463.0    0.177187   \n",
              "46   https://www.imdb.com/title/tt0108211/          7.5   29046.0    0.175091   \n",
              "48   https://www.imdb.com/title/tt0248845/          7.7   30428.0    0.174445   \n",
              "49   https://www.imdb.com/title/tt0108188/          7.5   16424.0    0.174093   \n",
              "55   https://www.imdb.com/title/tt0265632/          6.6    8831.0    0.170269   \n",
              "57   https://www.imdb.com/title/tt0238883/          7.8   11135.0    0.169078   \n",
              "70   https://www.imdb.com/title/tt0110632/          7.3  205835.0    0.164091   \n",
              "75   https://www.imdb.com/title/tt0113987/          7.1   27560.0    0.159682   \n",
              "81   https://www.imdb.com/title/tt0115632/          6.9   18660.0    0.157195   \n",
              "87   https://www.imdb.com/title/tt0118694/          8.1  111412.0    0.153917   \n",
              "89   https://www.imdb.com/title/tt0108065/          7.4   27856.0    0.152774   \n",
              "90   https://www.imdb.com/title/tt0106677/          7.6  152238.0    0.152732   \n",
              "97   https://www.imdb.com/title/tt0111257/          7.2  312324.0    0.150647   \n",
              "98   https://www.imdb.com/title/tt0114787/          8.1   52241.0    0.150620   \n",
              "99   https://www.imdb.com/title/tt0112541/          6.7    8694.0    0.150006   \n",
              "102  https://www.imdb.com/title/tt0110099/          6.2   22707.0    0.149435   \n",
              "103  https://www.imdb.com/title/tt0110622/          6.5   91760.0    0.149307   \n",
              "106  https://www.imdb.com/title/tt0106950/          5.9   26496.0    0.148593   \n",
              "110  https://www.imdb.com/title/tt0110428/          7.2   14610.0    0.148186   \n",
              "\n",
              "          ID  \n",
              "32   0397619  \n",
              "43   0108122  \n",
              "46   0108211  \n",
              "48   0248845  \n",
              "49   0108188  \n",
              "55   0265632  \n",
              "57   0238883  \n",
              "70   0110632  \n",
              "75   0113987  \n",
              "81   0115632  \n",
              "87   0118694  \n",
              "89   0108065  \n",
              "90   0106677  \n",
              "97   0111257  \n",
              "98   0114787  \n",
              "99   0112541  \n",
              "102  0110099  \n",
              "103  0110622  \n",
              "106  0106950  \n",
              "110  0110428  "
            ]
          },
          "metadata": {
            "tags": []
          },
          "execution_count": 30
        }
      ]
    },
    {
      "cell_type": "code",
      "metadata": {
        "id": "4CDM_bW-7jUv",
        "colab_type": "code",
        "colab": {}
      },
      "source": [
        "    user_id=11\n",
        "    query = \"SELECT date, name, year FROM user_groa_willnotwatchlist WHERE user_id=%s;\"\n",
        "    cursor_dog.execute(query, (user_id,))\n",
        "    watched_sql= cursor_dog.fetchall()\n",
        "    willnotwatchlist_df = pd.DataFrame(watched_sql, columns = ['Date', 'Name', 'Year'])"
      ],
      "execution_count": 0,
      "outputs": []
    },
    {
      "cell_type": "markdown",
      "metadata": {
        "id": "vpKtjArb7VtB",
        "colab_type": "text"
      },
      "source": [
        "Testing Predictor.py locally"
      ]
    },
    {
      "cell_type": "code",
      "metadata": {
        "id": "yacG6N-7fa0X",
        "colab_type": "code",
        "colab": {}
      },
      "source": [
        "from predictor import PythonPredictor "
      ],
      "execution_count": 0,
      "outputs": []
    },
    {
      "cell_type": "code",
      "metadata": {
        "id": "aHt7LYV_ggjr",
        "colab_type": "code",
        "colab": {}
      },
      "source": [
        "predictor = PythonPredictor(config)"
      ],
      "execution_count": 0,
      "outputs": []
    },
    {
      "cell_type": "code",
      "metadata": {
        "id": "NhH5Pmx0b-FO",
        "colab_type": "code",
        "colab": {}
      },
      "source": [
        "config = {\"bucket\": \"groa2\", \"key\": \"models/w2v.zip\"}"
      ],
      "execution_count": 0,
      "outputs": []
    },
    {
      "cell_type": "code",
      "metadata": {
        "id": "Pvg41tc4gRCI",
        "colab_type": "code",
        "colab": {}
      },
      "source": [
        "sample = {\n",
        "\"user_id\": 11,\n",
        "\"number_of_recommendations\": 50,\n",
        "\"good_threshold\": 5,\n",
        "\"bad_threshold\": 4,\n",
        "\"harshness\": 1\n",
        "}"
      ],
      "execution_count": 0,
      "outputs": []
    },
    {
      "cell_type": "code",
      "metadata": {
        "id": "62YhCTC2gkNK",
        "colab_type": "code",
        "colab": {
          "base_uri": "https://localhost:8080/",
          "height": 139
        },
        "outputId": "4d58f07e-47d7-42c6-8f7d-d11e315031a8"
      },
      "source": [
        "predictor.predict(sample)"
      ],
      "execution_count": 44,
      "outputs": [
        {
          "output_type": "stream",
          "text": [
            "Connected!\n",
            "user_id not found in Letterboxd ratings\n",
            "user_id not found in Letterboxd reviews\n",
            "Recommendation committed to DB with id: 75f9b2776290dabf412de2ef1ce6e192\n"
          ],
          "name": "stdout"
        },
        {
          "output_type": "execute_result",
          "data": {
            "text/plain": [
              "{'recommendation1': '75f9b2776290dabf412de2ef1ce6e192',\n",
              " 'result1': '[{\"Title\": \"Forrest Gump\", \"Year\": 1994, \"IMDB URL\": \"https://www.imdb.com/title/tt0109830/\", \"Mean Rating\": 8.8, \"Votes\": 1682162, \"Similarity\": 0.6394564509391785, \"ID\": \"0109830\", \"Gem\": false}, {\"Title\": \"Goodfellas\", \"Year\": 1990, \"IMDB URL\": \"https://www.imdb.com/title/tt0099685/\", \"Mean Rating\": 8.7, \"Votes\": 948302, \"Similarity\": 0.6372131109237671, \"ID\": \"0099685\", \"Gem\": false}, {\"Title\": \"Saving Private Ryan\", \"Year\": 1998, \"IMDB URL\": \"https://www.imdb.com/title/tt0120815/\", \"Mean Rating\": 8.6, \"Votes\": 1156650, \"Similarity\": 0.6334736943244934, \"ID\": \"0120815\", \"Gem\": false}, {\"Title\": \"The Usual Suspects\", \"Year\": 1995, \"IMDB URL\": \"https://www.imdb.com/title/tt0114814/\", \"Mean Rating\": 8.5, \"Votes\": 936523, \"Similarity\": 0.6329244375228882, \"ID\": \"0114814\", \"Gem\": false}, {\"Title\": \"A Clockwork Orange\", \"Year\": 1971, \"IMDB URL\": \"https://www.imdb.com/title/tt0066921/\", \"Mean Rating\": 8.3, \"Votes\": 714460, \"Similarity\": 0.6311264634132385, \"ID\": \"0066921\", \"Gem\": false}, {\"Title\": \"American Beauty\", \"Year\": 1999, \"IMDB URL\": \"https://www.imdb.com/title/tt0169547/\", \"Mean Rating\": 8.3, \"Votes\": 1017851, \"Similarity\": 0.6305785179138184, \"ID\": \"0169547\", \"Gem\": false}, {\"Title\": \"The Departed\", \"Year\": 2006, \"IMDB URL\": \"https://www.imdb.com/title/tt0407887/\", \"Mean Rating\": 8.5, \"Votes\": 1115879, \"Similarity\": 0.6281309127807617, \"ID\": \"0407887\", \"Gem\": false}, {\"Title\": \"Inception\", \"Year\": 2010, \"IMDB URL\": \"https://www.imdb.com/title/tt1375666/\", \"Mean Rating\": 8.8, \"Votes\": 1913848, \"Similarity\": 0.6181200742721558, \"ID\": \"1375666\", \"Gem\": false}, {\"Title\": \"Alien\", \"Year\": 1979, \"IMDB URL\": \"https://www.imdb.com/title/tt0078748/\", \"Mean Rating\": 8.4, \"Votes\": 741002, \"Similarity\": 0.608863890171051, \"ID\": \"0078748\", \"Gem\": false}, {\"Title\": \"Sin City\", \"Year\": 2005, \"IMDB URL\": \"https://www.imdb.com/title/tt0401792/\", \"Mean Rating\": 8.0, \"Votes\": 724291, \"Similarity\": 0.6086111068725586, \"ID\": \"0401792\", \"Gem\": false}, {\"Title\": \"Raging Bull\", \"Year\": 1980, \"IMDB URL\": \"https://www.imdb.com/title/tt0081398/\", \"Mean Rating\": 8.2, \"Votes\": 300808, \"Similarity\": 0.6071239709854126, \"ID\": \"0081398\", \"Gem\": false}, {\"Title\": \"L\\\\u00e9on: The Professional\", \"Year\": 1994, \"IMDB URL\": \"https://www.imdb.com/title/tt0110413/\", \"Mean Rating\": 8.5, \"Votes\": 966359, \"Similarity\": 0.6066881418228149, \"ID\": \"0110413\", \"Gem\": false}]'}"
            ]
          },
          "metadata": {
            "tags": []
          },
          "execution_count": 44
        }
      ]
    }
  ]
}