{
 "cells": [
  {
   "cell_type": "markdown",
   "metadata": {},
   "source": [
    "# Testing AWS credentials with Boto3"
   ]
  },
  {
   "cell_type": "code",
   "execution_count": 13,
   "metadata": {},
   "outputs": [],
   "source": [
    "import boto3\n",
    "import warnings;\n",
    "warnings.filterwarnings('ignore')"
   ]
  },
  {
   "cell_type": "markdown",
   "metadata": {},
   "source": [
    "- follow step one of this guide https://aws.amazon.com/getting-started/tutorials/backup-to-s3-cli/\n",
    "    - to create an AWS IAM user to allow programmatic access  \n",
    "    - download the credentials.csv and put the keys below "
   ]
  },
  {
   "cell_type": "code",
   "execution_count": 14,
   "metadata": {},
   "outputs": [],
   "source": [
    "ACCESS_ID = \"***\"\n",
    "ACCESS_KEY = \"***\""
   ]
  },
  {
   "cell_type": "code",
   "execution_count": 15,
   "metadata": {},
   "outputs": [],
   "source": [
    "config = {\"bucket\": \"groa2\", \"key\": \"models/files.zip\"}\n",
    "config = {\"bucket\": \"groa2\", \"key\": \"\"}"
   ]
  },
  {
   "cell_type": "code",
   "execution_count": 16,
   "metadata": {},
   "outputs": [],
   "source": [
    "s3 = boto3.client('s3',\n",
    "     aws_access_key_id=ACCESS_ID,\n",
    "     aws_secret_access_key= ACCESS_KEY)"
   ]
  },
  {
   "cell_type": "code",
   "execution_count": 17,
   "metadata": {},
   "outputs": [],
   "source": [
    "s3.download_file(config[\"bucket\"], config[\"key\"], \"files.zip\") # zipfile is downloaded, takes a minute "
   ]
  }
 ],
 "metadata": {
  "kernelspec": {
   "display_name": "groa (Python3.7)",
   "language": "python",
   "name": "groa"
  },
  "language_info": {
   "codemirror_mode": {
    "name": "ipython",
    "version": 3
   },
   "file_extension": ".py",
   "mimetype": "text/x-python",
   "name": "python",
   "nbconvert_exporter": "python",
   "pygments_lexer": "ipython3",
   "version": "3.7.0"
  }
 },
 "nbformat": 4,
 "nbformat_minor": 4
}
